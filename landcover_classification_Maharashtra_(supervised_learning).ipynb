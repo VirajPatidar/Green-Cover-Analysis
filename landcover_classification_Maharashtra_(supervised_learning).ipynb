{
  "nbformat": 4,
  "nbformat_minor": 0,
  "metadata": {
    "colab": {
      "name": "landcover_classification.ipynb",
      "provenance": []
    },
    "kernelspec": {
      "name": "python3",
      "display_name": "Python 3"
    },
    "language_info": {
      "name": "python"
    },
    "widgets": {
      "application/vnd.jupyter.widget-state+json": {
        "b71b3e972fd8420fa40ae2df417e671a": {
          "model_module": "jupyter-leaflet",
          "model_name": "LeafletMapModel",
          "model_module_version": "^0.14.0",
          "state": {
            "_view_name": "LeafletMapView",
            "keyboard_pan_offset": 80,
            "right": 12603,
            "tap": true,
            "_view_module": "jupyter-leaflet",
            "max_zoom": 18,
            "_model_module_version": "^0.14.0",
            "_view_count": null,
            "zoom_snap": 1,
            "min_zoom": 1,
            "bounce_at_zoom_limits": true,
            "keyboard": true,
            "north": 23.624394569716923,
            "scroll_wheel_zoom": true,
            "dragging": true,
            "_model_module": "jupyter-leaflet",
            "zoom_delta": 1,
            "close_popup_on_click": true,
            "fullscreen": false,
            "style": "IPY_MODEL_fed33dd49d964656b4c3b4b7562c0c4c",
            "layout": "IPY_MODEL_e799dc4984d74e0685290ea16b0065ed",
            "bottom": 7685,
            "inertia_max_speed": 1500,
            "top": 7085,
            "box_zoom": true,
            "controls": [
              "IPY_MODEL_f964e22885f14f4f8c7b951f9cb842aa",
              "IPY_MODEL_53fdfa56c144426eb55495dc415eaa52",
              "IPY_MODEL_519179f0435b4978b479b61cd3102618",
              "IPY_MODEL_f2d70834f3d34eb393ab0fd86244b889",
              "IPY_MODEL_d4369e52e65241f4adeabb7c1e9bcb97",
              "IPY_MODEL_90c2b6c5cf554ca8814a81e19738587a",
              "IPY_MODEL_f05c8f28406b466bb9a12a47b217b65c",
              "IPY_MODEL_6fefe4fe612849d1b046a58a60b2cf41",
              "IPY_MODEL_f7a466a7135448fd878c9f41860bac42"
            ],
            "default_style": "IPY_MODEL_fed33dd49d964656b4c3b4b7562c0c4c",
            "east": 96.92138671875001,
            "double_click_zoom": true,
            "interpolation": "bilinear",
            "layers": [
              "IPY_MODEL_b13965464b484ecc8990ae827d97c5c0",
              "IPY_MODEL_7de7e6cc010b45f5b90ac59d0aecbf6b",
              "IPY_MODEL_47c7ee7e43de43f2bdb25436e9d1e3a6",
              "IPY_MODEL_34b5b693600247688fe36e46fe791cc9",
              "IPY_MODEL_2867dc629a8146ad8a52ee97807dc813",
              "IPY_MODEL_8bd3e6981dfa4533830a6a5ed26d43a4"
            ],
            "dragging_style": "IPY_MODEL_ca9f7ce93d024690b25b0c7e13278599",
            "_dom_classes": [],
            "zoom_animation_threshold": 4,
            "_model_name": "LeafletMapModel",
            "zoom_start": 12,
            "modisdate": "yesterday",
            "keyboard_zoom_offset": 1,
            "inertia_deceleration": 3000,
            "inertia": true,
            "crs": {
              "name": "EPSG3857",
              "custom": false
            },
            "center": [
              17.45547257997284,
              81.43066406250001
            ],
            "zoom": 6,
            "world_copy_jump": false,
            "_view_module_version": "^0.14.0",
            "window_url": "https://up5n8gazpmf-496ff2e9c6d22116-0-colab.googleusercontent.com/outputframe.html?vrz=colab-20211118-060053-RC00_410742426",
            "tap_tolerance": 15,
            "west": 65.93994140625001,
            "touch_zoom": true,
            "options": [
              "bounce_at_zoom_limits",
              "box_zoom",
              "center",
              "close_popup_on_click",
              "double_click_zoom",
              "dragging",
              "fullscreen",
              "inertia",
              "inertia_deceleration",
              "inertia_max_speed",
              "interpolation",
              "keyboard",
              "keyboard_pan_offset",
              "keyboard_zoom_offset",
              "max_zoom",
              "min_zoom",
              "scroll_wheel_zoom",
              "tap",
              "tap_tolerance",
              "touch_zoom",
              "world_copy_jump",
              "zoom",
              "zoom_animation_threshold",
              "zoom_delta",
              "zoom_snap",
              "zoom_start"
            ],
            "south": 11.070602913977819,
            "left": 11193,
            "_dragging": false
          }
        },
        "3accbde19c6f4ee1b2cde9558240bfba": {
          "model_module": "jupyter-leaflet",
          "model_name": "LeafletMapStyleModel",
          "model_module_version": "^0.14.0",
          "state": {
            "_view_name": "StyleView",
            "_model_name": "LeafletMapStyleModel",
            "_view_module": "@jupyter-widgets/base",
            "_model_module_version": "^0.14.0",
            "_view_count": null,
            "cursor": "grab",
            "_view_module_version": "1.2.0",
            "_model_module": "jupyter-leaflet"
          }
        },
        "e799dc4984d74e0685290ea16b0065ed": {
          "model_module": "@jupyter-widgets/base",
          "model_name": "LayoutModel",
          "model_module_version": "1.2.0",
          "state": {
            "_view_name": "LayoutView",
            "grid_template_rows": null,
            "right": null,
            "justify_content": null,
            "_view_module": "@jupyter-widgets/base",
            "overflow": null,
            "_model_module_version": "1.2.0",
            "_view_count": null,
            "flex_flow": null,
            "width": null,
            "min_width": null,
            "border": null,
            "align_items": null,
            "bottom": null,
            "_model_module": "@jupyter-widgets/base",
            "top": null,
            "grid_column": null,
            "overflow_y": null,
            "overflow_x": null,
            "grid_auto_flow": null,
            "grid_area": null,
            "grid_template_columns": null,
            "flex": null,
            "_model_name": "LayoutModel",
            "justify_items": null,
            "grid_row": null,
            "max_height": null,
            "align_content": null,
            "visibility": null,
            "align_self": null,
            "height": "600px",
            "min_height": null,
            "padding": null,
            "grid_auto_rows": null,
            "grid_gap": null,
            "max_width": null,
            "order": null,
            "_view_module_version": "1.2.0",
            "grid_template_areas": null,
            "object_position": null,
            "object_fit": null,
            "grid_auto_columns": null,
            "margin": null,
            "display": null,
            "left": null
          }
        },
        "f964e22885f14f4f8c7b951f9cb842aa": {
          "model_module": "jupyter-leaflet",
          "model_name": "LeafletWidgetControlModel",
          "model_module_version": "^0.14.0",
          "state": {
            "_view_name": "LeafletWidgetControlView",
            "widget": "IPY_MODEL_cc5f71bf323b4601b25eba405d1185d5",
            "_model_name": "LeafletWidgetControlModel",
            "_view_module": "jupyter-leaflet",
            "_model_module_version": "^0.14.0",
            "max_height": null,
            "_view_count": null,
            "min_height": null,
            "_view_module_version": "^0.14.0",
            "max_width": null,
            "transparent_bg": false,
            "min_width": null,
            "position": "topleft",
            "_model_module": "jupyter-leaflet",
            "options": [
              "position",
              "transparent_bg"
            ]
          }
        },
        "53fdfa56c144426eb55495dc415eaa52": {
          "model_module": "jupyter-leaflet",
          "model_name": "LeafletZoomControlModel",
          "model_module_version": "^0.14.0",
          "state": {
            "_view_name": "LeafletZoomControlView",
            "zoom_in_title": "Zoom in",
            "_model_name": "LeafletZoomControlModel",
            "_view_module": "jupyter-leaflet",
            "_model_module_version": "^0.14.0",
            "_view_count": null,
            "_view_module_version": "^0.14.0",
            "zoom_out_title": "Zoom out",
            "position": "topleft",
            "zoom_in_text": "+",
            "_model_module": "jupyter-leaflet",
            "options": [
              "position",
              "zoom_in_text",
              "zoom_in_title",
              "zoom_out_text",
              "zoom_out_title"
            ],
            "zoom_out_text": "-"
          }
        },
        "519179f0435b4978b479b61cd3102618": {
          "model_module": "jupyter-leaflet",
          "model_name": "LeafletScaleControlModel",
          "model_module_version": "^0.14.0",
          "state": {
            "_view_name": "LeafletScaleControlView",
            "_model_name": "LeafletScaleControlModel",
            "metric": true,
            "_view_module": "jupyter-leaflet",
            "_model_module_version": "^0.14.0",
            "max_width": 100,
            "_view_count": null,
            "_view_module_version": "^0.14.0",
            "update_when_idle": false,
            "position": "bottomleft",
            "imperial": true,
            "_model_module": "jupyter-leaflet",
            "options": [
              "imperial",
              "max_width",
              "metric",
              "position",
              "update_when_idle"
            ]
          }
        },
        "f2d70834f3d34eb393ab0fd86244b889": {
          "model_module": "jupyter-leaflet",
          "model_name": "LeafletFullScreenControlModel",
          "model_module_version": "^0.14.0",
          "state": {
            "_view_name": "LeafletFullScreenControlView",
            "_model_name": "LeafletFullScreenControlModel",
            "_view_module": "jupyter-leaflet",
            "_model_module_version": "^0.14.0",
            "_view_count": null,
            "_view_module_version": "^0.14.0",
            "position": "topleft",
            "_model_module": "jupyter-leaflet",
            "options": [
              "position"
            ]
          }
        },
        "d4369e52e65241f4adeabb7c1e9bcb97": {
          "model_module": "jupyter-leaflet",
          "model_name": "LeafletMeasureControlModel",
          "model_module_version": "^0.14.0",
          "state": {
            "_view_name": "LeafletMeasureControlView",
            "primary_area_unit": "acres",
            "capture_z_index": 10000,
            "secondary_area_unit": null,
            "primary_length_unit": "kilometers",
            "active_color": "orange",
            "_model_name": "LeafletMeasureControlModel",
            "popup_options": {
              "className": "leaflet-measure-resultpopup",
              "autoPanPadding": [
                10,
                10
              ]
            },
            "_view_module": "jupyter-leaflet",
            "_model_module_version": "^0.14.0",
            "_view_count": null,
            "_view_module_version": "^0.14.0",
            "secondary_length_unit": null,
            "completed_color": "#C8F2BE",
            "position": "bottomleft",
            "_model_module": "jupyter-leaflet",
            "options": [
              "active_color",
              "capture_z_index",
              "completed_color",
              "popup_options",
              "position",
              "primary_area_unit",
              "primary_length_unit",
              "secondary_area_unit",
              "secondary_length_unit"
            ],
            "_custom_units": {}
          }
        },
        "90c2b6c5cf554ca8814a81e19738587a": {
          "model_module": "jupyter-leaflet",
          "model_name": "LeafletAttributionControlModel",
          "model_module_version": "^0.14.0",
          "state": {
            "_view_name": "LeafletAttributionControlView",
            "prefix": "ipyleaflet",
            "_model_name": "LeafletAttributionControlModel",
            "_view_module": "jupyter-leaflet",
            "_model_module_version": "^0.14.0",
            "_view_count": null,
            "_view_module_version": "^0.14.0",
            "position": "bottomright",
            "_model_module": "jupyter-leaflet",
            "options": [
              "position",
              "prefix"
            ]
          }
        },
        "f05c8f28406b466bb9a12a47b217b65c": {
          "model_module": "jupyter-leaflet",
          "model_name": "LeafletDrawControlModel",
          "model_module_version": "^0.14.0",
          "state": {
            "_view_name": "LeafletDrawControlView",
            "polygon": {
              "shapeOptions": {}
            },
            "circlemarker": {},
            "_model_name": "LeafletDrawControlModel",
            "edit": true,
            "data": [],
            "_view_module": "jupyter-leaflet",
            "_model_module_version": "^0.14.0",
            "remove": true,
            "_view_count": null,
            "_view_module_version": "^0.14.0",
            "polyline": {
              "shapeOptions": {}
            },
            "marker": {
              "shapeOptions": {
                "color": "#3388ff"
              }
            },
            "position": "topleft",
            "circle": {
              "shapeOptions": {
                "color": "#3388ff"
              }
            },
            "_model_module": "jupyter-leaflet",
            "options": [
              "position"
            ],
            "rectangle": {
              "shapeOptions": {
                "color": "#3388ff"
              }
            }
          }
        },
        "6fefe4fe612849d1b046a58a60b2cf41": {
          "model_module": "jupyter-leaflet",
          "model_name": "LeafletWidgetControlModel",
          "model_module_version": "^0.14.0",
          "state": {
            "_view_name": "LeafletWidgetControlView",
            "widget": "IPY_MODEL_5f0052fe069d468ea34d1e5b90bb88cf",
            "_model_name": "LeafletWidgetControlModel",
            "_view_module": "jupyter-leaflet",
            "_model_module_version": "^0.14.0",
            "max_height": null,
            "_view_count": null,
            "min_height": null,
            "_view_module_version": "^0.14.0",
            "max_width": null,
            "transparent_bg": false,
            "min_width": null,
            "position": "topright",
            "_model_module": "jupyter-leaflet",
            "options": [
              "position",
              "transparent_bg"
            ]
          }
        },
        "fed33dd49d964656b4c3b4b7562c0c4c": {
          "model_module": "jupyter-leaflet",
          "model_name": "LeafletMapStyleModel",
          "model_module_version": "^0.14.0",
          "state": {
            "_view_name": "StyleView",
            "_model_name": "LeafletMapStyleModel",
            "_view_module": "@jupyter-widgets/base",
            "_model_module_version": "^0.14.0",
            "_view_count": null,
            "cursor": "grab",
            "_view_module_version": "1.2.0",
            "_model_module": "jupyter-leaflet"
          }
        },
        "b13965464b484ecc8990ae827d97c5c0": {
          "model_module": "jupyter-leaflet",
          "model_name": "LeafletTileLayerModel",
          "model_module_version": "^0.14.0",
          "state": {
            "_view_name": "LeafletTileLayerView",
            "_view_module": "jupyter-leaflet",
            "max_zoom": 19,
            "_model_module_version": "^0.14.0",
            "_view_count": null,
            "visible": true,
            "min_zoom": 1,
            "tms": false,
            "_model_module": "jupyter-leaflet",
            "loading": false,
            "bottom": true,
            "no_wrap": false,
            "tile_size": 256,
            "popup_min_width": 50,
            "opacity": 1,
            "popup": null,
            "attribution": "Map data (c) <a href=\"https://openstreetmap.org\">OpenStreetMap</a> contributors",
            "_model_name": "LeafletTileLayerModel",
            "max_native_zoom": 18,
            "base": true,
            "min_native_zoom": 0,
            "show_loading": false,
            "name": "",
            "url": "https://{s}.tile.openstreetmap.org/{z}/{x}/{y}.png",
            "popup_max_height": null,
            "popup_max_width": 300,
            "detect_retina": false,
            "_view_module_version": "^0.14.0",
            "options": [
              "attribution",
              "detect_retina",
              "max_native_zoom",
              "max_zoom",
              "min_native_zoom",
              "min_zoom",
              "no_wrap",
              "tile_size",
              "tms"
            ]
          }
        },
        "7de7e6cc010b45f5b90ac59d0aecbf6b": {
          "model_module": "jupyter-leaflet",
          "model_name": "LeafletTileLayerModel",
          "model_module_version": "^0.14.0",
          "state": {
            "_view_name": "LeafletTileLayerView",
            "_view_module": "jupyter-leaflet",
            "max_zoom": 18,
            "_model_module_version": "^0.14.0",
            "_view_count": null,
            "visible": true,
            "min_zoom": 0,
            "tms": false,
            "_model_module": "jupyter-leaflet",
            "loading": false,
            "bottom": true,
            "no_wrap": false,
            "tile_size": 256,
            "popup_min_width": 50,
            "opacity": 1,
            "popup": null,
            "attribution": "Google",
            "_model_name": "LeafletTileLayerModel",
            "max_native_zoom": 18,
            "base": false,
            "min_native_zoom": 0,
            "show_loading": false,
            "name": "Google Maps",
            "url": "https://mt1.google.com/vt/lyrs=m&x={x}&y={y}&z={z}",
            "popup_max_height": null,
            "popup_max_width": 300,
            "detect_retina": false,
            "_view_module_version": "^0.14.0",
            "options": [
              "attribution",
              "detect_retina",
              "max_native_zoom",
              "max_zoom",
              "min_native_zoom",
              "min_zoom",
              "no_wrap",
              "tile_size",
              "tms"
            ]
          }
        },
        "47c7ee7e43de43f2bdb25436e9d1e3a6": {
          "model_module": "jupyter-leaflet",
          "model_name": "LeafletTileLayerModel",
          "model_module_version": "^0.14.0",
          "state": {
            "_view_name": "LeafletTileLayerView",
            "_view_module": "jupyter-leaflet",
            "max_zoom": 18,
            "_model_module_version": "^0.14.0",
            "_view_count": null,
            "visible": true,
            "min_zoom": 0,
            "tms": false,
            "_model_module": "jupyter-leaflet",
            "loading": false,
            "bottom": true,
            "no_wrap": false,
            "tile_size": 256,
            "popup_min_width": 50,
            "opacity": 1,
            "popup": null,
            "attribution": "Google Earth Engine",
            "_model_name": "LeafletTileLayerModel",
            "max_native_zoom": 18,
            "base": false,
            "min_native_zoom": 0,
            "show_loading": false,
            "name": "Landsat-8",
            "url": "https://earthengine.googleapis.com/v1alpha/projects/earthengine-legacy/maps/20124c30cb1be601d7b4efd33866c19a-f3542ab27a29ecd1af0929a44ba73add/tiles/{z}/{x}/{y}",
            "popup_max_height": null,
            "popup_max_width": 300,
            "detect_retina": false,
            "_view_module_version": "^0.14.0",
            "options": [
              "attribution",
              "detect_retina",
              "max_native_zoom",
              "max_zoom",
              "min_native_zoom",
              "min_zoom",
              "no_wrap",
              "tile_size",
              "tms"
            ]
          }
        },
        "34b5b693600247688fe36e46fe791cc9": {
          "model_module": "jupyter-leaflet",
          "model_name": "LeafletTileLayerModel",
          "model_module_version": "^0.14.0",
          "state": {
            "_view_name": "LeafletTileLayerView",
            "_view_module": "jupyter-leaflet",
            "max_zoom": 18,
            "_model_module_version": "^0.14.0",
            "_view_count": null,
            "visible": false,
            "min_zoom": 0,
            "tms": false,
            "_model_module": "jupyter-leaflet",
            "loading": false,
            "bottom": true,
            "no_wrap": false,
            "tile_size": 256,
            "popup_min_width": 50,
            "opacity": 1,
            "popup": null,
            "attribution": "Google Earth Engine",
            "_model_name": "LeafletTileLayerModel",
            "max_native_zoom": 18,
            "base": false,
            "min_native_zoom": 0,
            "show_loading": false,
            "name": "training",
            "url": "https://earthengine.googleapis.com/v1alpha/projects/earthengine-legacy/maps/b6ac8d8d7624b23cd196db0885d9c1f6-9af7e4011eda03fbced1cf8c1e56c502/tiles/{z}/{x}/{y}",
            "popup_max_height": null,
            "popup_max_width": 300,
            "detect_retina": false,
            "_view_module_version": "^0.14.0",
            "options": [
              "attribution",
              "detect_retina",
              "max_native_zoom",
              "max_zoom",
              "min_native_zoom",
              "min_zoom",
              "no_wrap",
              "tile_size",
              "tms"
            ]
          }
        },
        "ca9f7ce93d024690b25b0c7e13278599": {
          "model_module": "jupyter-leaflet",
          "model_name": "LeafletMapStyleModel",
          "model_module_version": "^0.14.0",
          "state": {
            "_view_name": "StyleView",
            "_model_name": "LeafletMapStyleModel",
            "_view_module": "@jupyter-widgets/base",
            "_model_module_version": "^0.14.0",
            "_view_count": null,
            "cursor": "move",
            "_view_module_version": "1.2.0",
            "_model_module": "jupyter-leaflet"
          }
        },
        "cc5f71bf323b4601b25eba405d1185d5": {
          "model_module": "@jupyter-widgets/controls",
          "model_name": "HBoxModel",
          "model_module_version": "1.5.0",
          "state": {
            "_view_name": "HBoxView",
            "_dom_classes": [],
            "_model_name": "HBoxModel",
            "_view_module": "@jupyter-widgets/controls",
            "_model_module_version": "1.5.0",
            "_view_count": null,
            "_view_module_version": "1.5.0",
            "box_style": "",
            "layout": "IPY_MODEL_4ef7d173b8cf459084de3f10d7cb5e86",
            "_model_module": "@jupyter-widgets/controls",
            "children": [
              "IPY_MODEL_151aed478f1b4ce4bd2f81aba371e495"
            ]
          }
        },
        "5f0052fe069d468ea34d1e5b90bb88cf": {
          "model_module": "@jupyter-widgets/controls",
          "model_name": "VBoxModel",
          "model_module_version": "1.5.0",
          "state": {
            "_view_name": "VBoxView",
            "_dom_classes": [],
            "_model_name": "VBoxModel",
            "_view_module": "@jupyter-widgets/controls",
            "_model_module_version": "1.5.0",
            "_view_count": null,
            "_view_module_version": "1.5.0",
            "box_style": "",
            "layout": "IPY_MODEL_f8a8e177c11d498595456c273fe2f9d5",
            "_model_module": "@jupyter-widgets/controls",
            "children": [
              "IPY_MODEL_b1181cdde480407d9414f22a467493a1"
            ]
          }
        },
        "4ef7d173b8cf459084de3f10d7cb5e86": {
          "model_module": "@jupyter-widgets/base",
          "model_name": "LayoutModel",
          "model_module_version": "1.2.0",
          "state": {
            "_view_name": "LayoutView",
            "grid_template_rows": null,
            "right": null,
            "justify_content": null,
            "_view_module": "@jupyter-widgets/base",
            "overflow": null,
            "_model_module_version": "1.2.0",
            "_view_count": null,
            "flex_flow": null,
            "width": null,
            "min_width": null,
            "border": null,
            "align_items": null,
            "bottom": null,
            "_model_module": "@jupyter-widgets/base",
            "top": null,
            "grid_column": null,
            "overflow_y": null,
            "overflow_x": null,
            "grid_auto_flow": null,
            "grid_area": null,
            "grid_template_columns": null,
            "flex": null,
            "_model_name": "LayoutModel",
            "justify_items": null,
            "grid_row": null,
            "max_height": null,
            "align_content": null,
            "visibility": null,
            "align_self": null,
            "height": null,
            "min_height": null,
            "padding": null,
            "grid_auto_rows": null,
            "grid_gap": null,
            "max_width": null,
            "order": null,
            "_view_module_version": "1.2.0",
            "grid_template_areas": null,
            "object_position": null,
            "object_fit": null,
            "grid_auto_columns": null,
            "margin": null,
            "display": null,
            "left": null
          }
        },
        "151aed478f1b4ce4bd2f81aba371e495": {
          "model_module": "@jupyter-widgets/controls",
          "model_name": "ToggleButtonModel",
          "model_module_version": "1.5.0",
          "state": {
            "_view_name": "ToggleButtonView",
            "style": "IPY_MODEL_b80f84afabc24b66b9e074d960646ad1",
            "_dom_classes": [],
            "description": "",
            "_model_name": "ToggleButtonModel",
            "button_style": "",
            "_view_module": "@jupyter-widgets/controls",
            "_model_module_version": "1.5.0",
            "tooltip": "Search location/data",
            "_view_count": null,
            "disabled": false,
            "_view_module_version": "1.5.0",
            "value": false,
            "description_tooltip": null,
            "_model_module": "@jupyter-widgets/controls",
            "layout": "IPY_MODEL_960eb34ebbbf446690f99a5f5bddd385",
            "icon": "globe"
          }
        },
        "f8a8e177c11d498595456c273fe2f9d5": {
          "model_module": "@jupyter-widgets/base",
          "model_name": "LayoutModel",
          "model_module_version": "1.2.0",
          "state": {
            "_view_name": "LayoutView",
            "grid_template_rows": null,
            "right": null,
            "justify_content": null,
            "_view_module": "@jupyter-widgets/base",
            "overflow": null,
            "_model_module_version": "1.2.0",
            "_view_count": null,
            "flex_flow": null,
            "width": null,
            "min_width": null,
            "border": null,
            "align_items": null,
            "bottom": null,
            "_model_module": "@jupyter-widgets/base",
            "top": null,
            "grid_column": null,
            "overflow_y": null,
            "overflow_x": null,
            "grid_auto_flow": null,
            "grid_area": null,
            "grid_template_columns": null,
            "flex": null,
            "_model_name": "LayoutModel",
            "justify_items": null,
            "grid_row": null,
            "max_height": null,
            "align_content": null,
            "visibility": null,
            "align_self": null,
            "height": null,
            "min_height": null,
            "padding": null,
            "grid_auto_rows": null,
            "grid_gap": null,
            "max_width": null,
            "order": null,
            "_view_module_version": "1.2.0",
            "grid_template_areas": null,
            "object_position": null,
            "object_fit": null,
            "grid_auto_columns": null,
            "margin": null,
            "display": null,
            "left": null
          }
        },
        "b1181cdde480407d9414f22a467493a1": {
          "model_module": "@jupyter-widgets/controls",
          "model_name": "ToggleButtonModel",
          "model_module_version": "1.5.0",
          "state": {
            "_view_name": "ToggleButtonView",
            "style": "IPY_MODEL_fd767d3833244542b613b6304e83cdb8",
            "_dom_classes": [],
            "description": "",
            "_model_name": "ToggleButtonModel",
            "button_style": "",
            "_view_module": "@jupyter-widgets/controls",
            "_model_module_version": "1.5.0",
            "tooltip": "Toolbar",
            "_view_count": null,
            "disabled": false,
            "_view_module_version": "1.5.0",
            "value": false,
            "description_tooltip": null,
            "_model_module": "@jupyter-widgets/controls",
            "layout": "IPY_MODEL_b1871703abe84ae1a114346dcc6b9a4f",
            "icon": "wrench"
          }
        },
        "b80f84afabc24b66b9e074d960646ad1": {
          "model_module": "@jupyter-widgets/controls",
          "model_name": "DescriptionStyleModel",
          "model_module_version": "1.5.0",
          "state": {
            "_view_name": "StyleView",
            "_model_name": "DescriptionStyleModel",
            "description_width": "",
            "_view_module": "@jupyter-widgets/base",
            "_model_module_version": "1.5.0",
            "_view_count": null,
            "_view_module_version": "1.2.0",
            "_model_module": "@jupyter-widgets/controls"
          }
        },
        "960eb34ebbbf446690f99a5f5bddd385": {
          "model_module": "@jupyter-widgets/base",
          "model_name": "LayoutModel",
          "model_module_version": "1.2.0",
          "state": {
            "_view_name": "LayoutView",
            "grid_template_rows": null,
            "right": null,
            "justify_content": null,
            "_view_module": "@jupyter-widgets/base",
            "overflow": null,
            "_model_module_version": "1.2.0",
            "_view_count": null,
            "flex_flow": null,
            "width": "28px",
            "min_width": null,
            "border": null,
            "align_items": null,
            "bottom": null,
            "_model_module": "@jupyter-widgets/base",
            "top": null,
            "grid_column": null,
            "overflow_y": null,
            "overflow_x": null,
            "grid_auto_flow": null,
            "grid_area": null,
            "grid_template_columns": null,
            "flex": null,
            "_model_name": "LayoutModel",
            "justify_items": null,
            "grid_row": null,
            "max_height": null,
            "align_content": null,
            "visibility": null,
            "align_self": null,
            "height": "28px",
            "min_height": null,
            "padding": "0px 0px 0px 4px",
            "grid_auto_rows": null,
            "grid_gap": null,
            "max_width": null,
            "order": null,
            "_view_module_version": "1.2.0",
            "grid_template_areas": null,
            "object_position": null,
            "object_fit": null,
            "grid_auto_columns": null,
            "margin": null,
            "display": null,
            "left": null
          }
        },
        "fd767d3833244542b613b6304e83cdb8": {
          "model_module": "@jupyter-widgets/controls",
          "model_name": "DescriptionStyleModel",
          "model_module_version": "1.5.0",
          "state": {
            "_view_name": "StyleView",
            "_model_name": "DescriptionStyleModel",
            "description_width": "",
            "_view_module": "@jupyter-widgets/base",
            "_model_module_version": "1.5.0",
            "_view_count": null,
            "_view_module_version": "1.2.0",
            "_model_module": "@jupyter-widgets/controls"
          }
        },
        "b1871703abe84ae1a114346dcc6b9a4f": {
          "model_module": "@jupyter-widgets/base",
          "model_name": "LayoutModel",
          "model_module_version": "1.2.0",
          "state": {
            "_view_name": "LayoutView",
            "grid_template_rows": null,
            "right": null,
            "justify_content": null,
            "_view_module": "@jupyter-widgets/base",
            "overflow": null,
            "_model_module_version": "1.2.0",
            "_view_count": null,
            "flex_flow": null,
            "width": "28px",
            "min_width": null,
            "border": null,
            "align_items": null,
            "bottom": null,
            "_model_module": "@jupyter-widgets/base",
            "top": null,
            "grid_column": null,
            "overflow_y": null,
            "overflow_x": null,
            "grid_auto_flow": null,
            "grid_area": null,
            "grid_template_columns": null,
            "flex": null,
            "_model_name": "LayoutModel",
            "justify_items": null,
            "grid_row": null,
            "max_height": null,
            "align_content": null,
            "visibility": null,
            "align_self": null,
            "height": "28px",
            "min_height": null,
            "padding": "0px 0px 0px 4px",
            "grid_auto_rows": null,
            "grid_gap": null,
            "max_width": null,
            "order": null,
            "_view_module_version": "1.2.0",
            "grid_template_areas": null,
            "object_position": null,
            "object_fit": null,
            "grid_auto_columns": null,
            "margin": null,
            "display": null,
            "left": null
          }
        },
        "2867dc629a8146ad8a52ee97807dc813": {
          "model_module": "jupyter-leaflet",
          "model_name": "LeafletTileLayerModel",
          "model_module_version": "^0.14.0",
          "state": {
            "_view_name": "LeafletTileLayerView",
            "_view_module": "jupyter-leaflet",
            "max_zoom": 18,
            "_model_module_version": "^0.14.0",
            "_view_count": null,
            "visible": true,
            "min_zoom": 0,
            "tms": false,
            "_model_module": "jupyter-leaflet",
            "loading": false,
            "bottom": true,
            "no_wrap": false,
            "tile_size": 256,
            "popup_min_width": 50,
            "opacity": 1,
            "popup": null,
            "attribution": "Google Earth Engine",
            "_model_name": "LeafletTileLayerModel",
            "max_native_zoom": 18,
            "base": false,
            "min_native_zoom": 0,
            "show_loading": false,
            "name": "MODIS Land Cover",
            "url": "https://earthengine.googleapis.com/v1alpha/projects/earthengine-legacy/maps/e39055c52cbb8583df5a8f1546138b0b-a4a8539122a5d529ea0a4382b4c449ec/tiles/{z}/{x}/{y}",
            "popup_max_height": null,
            "popup_max_width": 300,
            "detect_retina": false,
            "_view_module_version": "^0.14.0",
            "options": [
              "attribution",
              "detect_retina",
              "max_native_zoom",
              "max_zoom",
              "min_native_zoom",
              "min_zoom",
              "no_wrap",
              "tile_size",
              "tms"
            ]
          }
        },
        "8bd3e6981dfa4533830a6a5ed26d43a4": {
          "model_module": "jupyter-leaflet",
          "model_name": "LeafletTileLayerModel",
          "model_module_version": "^0.14.0",
          "state": {
            "_view_name": "LeafletTileLayerView",
            "_view_module": "jupyter-leaflet",
            "max_zoom": 18,
            "_model_module_version": "^0.14.0",
            "_view_count": null,
            "visible": true,
            "min_zoom": 0,
            "tms": false,
            "_model_module": "jupyter-leaflet",
            "loading": false,
            "bottom": true,
            "no_wrap": false,
            "tile_size": 256,
            "popup_min_width": 50,
            "opacity": 1,
            "popup": null,
            "attribution": "Google Earth Engine",
            "_model_name": "LeafletTileLayerModel",
            "max_native_zoom": 18,
            "base": false,
            "min_native_zoom": 0,
            "show_loading": false,
            "name": "Land cover",
            "url": "https://earthengine.googleapis.com/v1alpha/projects/earthengine-legacy/maps/539c2010299668a42b8da6447ceab988-99af94eb54599d0d9a1a0f55c5e5a209/tiles/{z}/{x}/{y}",
            "popup_max_height": null,
            "popup_max_width": 300,
            "detect_retina": false,
            "_view_module_version": "^0.14.0",
            "options": [
              "attribution",
              "detect_retina",
              "max_native_zoom",
              "max_zoom",
              "min_native_zoom",
              "min_zoom",
              "no_wrap",
              "tile_size",
              "tms"
            ]
          }
        },
        "f7a466a7135448fd878c9f41860bac42": {
          "model_module": "jupyter-leaflet",
          "model_name": "LeafletWidgetControlModel",
          "model_module_version": "^0.14.0",
          "state": {
            "_view_name": "LeafletWidgetControlView",
            "widget": "IPY_MODEL_cd1278a681584c0eb8e76580173acee4",
            "_model_name": "LeafletWidgetControlModel",
            "_view_module": "jupyter-leaflet",
            "_model_module_version": "^0.14.0",
            "max_height": null,
            "_view_count": null,
            "min_height": null,
            "_view_module_version": "^0.14.0",
            "max_width": null,
            "transparent_bg": false,
            "min_width": null,
            "position": "bottomright",
            "_model_module": "jupyter-leaflet",
            "options": [
              "position",
              "transparent_bg"
            ]
          }
        },
        "cd1278a681584c0eb8e76580173acee4": {
          "model_module": "@jupyter-widgets/output",
          "model_name": "OutputModel",
          "model_module_version": "1.0.0",
          "state": {
            "_view_name": "OutputView",
            "msg_id": "",
            "_dom_classes": [],
            "_model_name": "OutputModel",
            "outputs": [
              {
                "output_type": "display_data",
                "data": {
                  "application/vnd.jupyter.widget-view+json": {
                    "model_id": "2f0bc79b333647f3ae4ec4914d34f5dd",
                    "version_minor": 0,
                    "version_major": 2
                  },
                  "text/plain": "HTML(value=\"<html>\\n<body>\\n  <div class='my-legend'>\\n  <div class='legend-title'>Land Cover Legend</div>\\n  …"
                },
                "metadata": {
                  "application/vnd.jupyter.widget-view+json": {
                    "colab": {
                      "custom_widget_manager": {
                        "url": "https://ssl.gstatic.com/colaboratory-static/widgets/colab-cdn-widget-manager/e680a8b83b2ea152/manager.min.js"
                      }
                    }
                  }
                }
              }
            ],
            "_view_module": "@jupyter-widgets/output",
            "_model_module_version": "1.0.0",
            "_view_count": null,
            "_view_module_version": "1.0.0",
            "layout": "IPY_MODEL_1b4d54c5c6064b0388f21d396e9f663e",
            "_model_module": "@jupyter-widgets/output"
          }
        },
        "1b4d54c5c6064b0388f21d396e9f663e": {
          "model_module": "@jupyter-widgets/base",
          "model_name": "LayoutModel",
          "model_module_version": "1.2.0",
          "state": {
            "_view_name": "LayoutView",
            "grid_template_rows": null,
            "right": null,
            "justify_content": null,
            "_view_module": "@jupyter-widgets/base",
            "overflow": "scroll",
            "_model_module_version": "1.2.0",
            "_view_count": null,
            "flex_flow": null,
            "width": null,
            "min_width": null,
            "border": null,
            "align_items": null,
            "bottom": null,
            "_model_module": "@jupyter-widgets/base",
            "top": null,
            "grid_column": null,
            "overflow_y": null,
            "overflow_x": null,
            "grid_auto_flow": null,
            "grid_area": null,
            "grid_template_columns": null,
            "flex": null,
            "_model_name": "LayoutModel",
            "justify_items": null,
            "grid_row": null,
            "max_height": "400px",
            "align_content": null,
            "visibility": null,
            "align_self": null,
            "height": null,
            "min_height": null,
            "padding": null,
            "grid_auto_rows": null,
            "grid_gap": null,
            "max_width": "300px",
            "order": null,
            "_view_module_version": "1.2.0",
            "grid_template_areas": null,
            "object_position": null,
            "object_fit": null,
            "grid_auto_columns": null,
            "margin": null,
            "display": null,
            "left": null
          }
        },
        "2f0bc79b333647f3ae4ec4914d34f5dd": {
          "model_module": "@jupyter-widgets/controls",
          "model_name": "HTMLModel",
          "model_module_version": "1.5.0",
          "state": {
            "_view_name": "HTMLView",
            "style": "IPY_MODEL_25d17b70569442869a5a90507ae37edc",
            "_dom_classes": [],
            "description": "",
            "_model_name": "HTMLModel",
            "placeholder": "​",
            "_view_module": "@jupyter-widgets/controls",
            "_model_module_version": "1.5.0",
            "value": "<html>\n<body>\n  <div class='my-legend'>\n  <div class='legend-title'>Land Cover Legend</div>\n  <div class='legend-scale'>\n    <ul class='legend-labels'>\n      <li><span style='background:#1c0dff;'></span>0 Water</li>\n      <li><span style='background:#05450a;'></span>1 Evergreen needleleaf forest</li>\n      <li><span style='background:#086a10;'></span>2 Evergreen broadleaf forest</li>\n      <li><span style='background:#54a708;'></span>3 Deciduous needleleaf forest</li>\n      <li><span style='background:#78d203;'></span>4 Deciduous broadleaf forest</li>\n      <li><span style='background:#009900;'></span>5 Mixed forest</li>\n      <li><span style='background:#c6b044;'></span>6 Closed shrublands</li>\n      <li><span style='background:#dcd159;'></span>7 Open shrublands</li>\n      <li><span style='background:#dade48;'></span>8 Woody savannas</li>\n      <li><span style='background:#fbff13;'></span>9 Savannas</li>\n      <li><span style='background:#b6ff05;'></span>10 Grasslands</li>\n      <li><span style='background:#27ff87;'></span>11 Permanent wetlands</li>\n      <li><span style='background:#c24f44;'></span>12 Croplands</li>\n      <li><span style='background:#a5a5a5;'></span>13 Urban and built-up</li>\n      <li><span style='background:#ff6d4c;'></span>14 Cropland/natural vegetation mosaic</li>\n      <li><span style='background:#69fff8;'></span>15 Snow and ice</li>\n      <li><span style='background:#f9ffa4;'></span>16 Barren or sparsely vegetated</li>\n      <li><span style='background:#ffffff;'></span>254 Unclassified</li>\n    </ul>\n  </div>\n  </div>\n\n  <style type='text/css'>\n    .my-legend .legend-title {\n      text-align: left;\n      margin-bottom: 2px;\n      margin-left: 2px;\n      font-weight: bold;\n      font-size: 90%;\n      }\n    .my-legend .legend-scale ul {\n      margin: 0;\n      margin-bottom: 5px;\n      padding: 0;\n      float: left;\n      list-style: none;\n      }\n    .my-legend .legend-scale ul li {\n      font-size: 80%;\n      list-style: none;\n      margin-left: 1px;\n      line-height: 18px;\n      margin-bottom: 2px;\n      }\n    .my-legend ul.legend-labels li span {\n      display: block;\n      float: left;\n      height: 16px;\n      width: 30px;\n      margin-right: 5px;\n      margin-left: 2px;\n      border: 1px solid #999;\n      }\n    .my-legend .legend-source {\n      font-size: 70%;\n      color: #999;\n      clear: both;\n      }\n    .my-legend a {\n      color: #777;\n      }\n  </style>\n</body>\n</html>\n",
            "_view_count": null,
            "_view_module_version": "1.5.0",
            "description_tooltip": null,
            "_model_module": "@jupyter-widgets/controls",
            "layout": "IPY_MODEL_d2afdd67e42f43319bfb4cf12424694a"
          }
        },
        "25d17b70569442869a5a90507ae37edc": {
          "model_module": "@jupyter-widgets/controls",
          "model_name": "DescriptionStyleModel",
          "model_module_version": "1.5.0",
          "state": {
            "_view_name": "StyleView",
            "_model_name": "DescriptionStyleModel",
            "description_width": "",
            "_view_module": "@jupyter-widgets/base",
            "_model_module_version": "1.5.0",
            "_view_count": null,
            "_view_module_version": "1.2.0",
            "_model_module": "@jupyter-widgets/controls"
          }
        },
        "d2afdd67e42f43319bfb4cf12424694a": {
          "model_module": "@jupyter-widgets/base",
          "model_name": "LayoutModel",
          "model_module_version": "1.2.0",
          "state": {
            "_view_name": "LayoutView",
            "grid_template_rows": null,
            "right": null,
            "justify_content": null,
            "_view_module": "@jupyter-widgets/base",
            "overflow": null,
            "_model_module_version": "1.2.0",
            "_view_count": null,
            "flex_flow": null,
            "width": null,
            "min_width": null,
            "border": null,
            "align_items": null,
            "bottom": null,
            "_model_module": "@jupyter-widgets/base",
            "top": null,
            "grid_column": null,
            "overflow_y": null,
            "overflow_x": null,
            "grid_auto_flow": null,
            "grid_area": null,
            "grid_template_columns": null,
            "flex": null,
            "_model_name": "LayoutModel",
            "justify_items": null,
            "grid_row": null,
            "max_height": null,
            "align_content": null,
            "visibility": null,
            "align_self": null,
            "height": null,
            "min_height": null,
            "padding": null,
            "grid_auto_rows": null,
            "grid_gap": null,
            "max_width": null,
            "order": null,
            "_view_module_version": "1.2.0",
            "grid_template_areas": null,
            "object_position": null,
            "object_fit": null,
            "grid_auto_columns": null,
            "margin": null,
            "display": null,
            "left": null
          }
        }
      }
    }
  },
  "cells": [
    {
      "cell_type": "code",
      "metadata": {
        "colab": {
          "base_uri": "https://localhost:8080/",
          "height": 1000
        },
        "id": "SsBvKdnX1Yl_",
        "outputId": "fd2a963f-b84e-4a0e-9e0f-2ac7896eb4dd"
      },
      "source": [
        "!pip install geemap"
      ],
      "execution_count": null,
      "outputs": [
        {
          "output_type": "stream",
          "name": "stdout",
          "text": [
            "Collecting geemap\n",
            "  Downloading geemap-0.9.4-py2.py3-none-any.whl (493 kB)\n",
            "\u001b[?25l\r\u001b[K     |▋                               | 10 kB 27.2 MB/s eta 0:00:01\r\u001b[K     |█▎                              | 20 kB 28.8 MB/s eta 0:00:01\r\u001b[K     |██                              | 30 kB 20.5 MB/s eta 0:00:01\r\u001b[K     |██▋                             | 40 kB 18.8 MB/s eta 0:00:01\r\u001b[K     |███▎                            | 51 kB 8.3 MB/s eta 0:00:01\r\u001b[K     |████                            | 61 kB 9.7 MB/s eta 0:00:01\r\u001b[K     |████▋                           | 71 kB 8.9 MB/s eta 0:00:01\r\u001b[K     |█████▎                          | 81 kB 9.9 MB/s eta 0:00:01\r\u001b[K     |██████                          | 92 kB 10.5 MB/s eta 0:00:01\r\u001b[K     |██████▋                         | 102 kB 8.0 MB/s eta 0:00:01\r\u001b[K     |███████▎                        | 112 kB 8.0 MB/s eta 0:00:01\r\u001b[K     |████████                        | 122 kB 8.0 MB/s eta 0:00:01\r\u001b[K     |████████▋                       | 133 kB 8.0 MB/s eta 0:00:01\r\u001b[K     |█████████▎                      | 143 kB 8.0 MB/s eta 0:00:01\r\u001b[K     |██████████                      | 153 kB 8.0 MB/s eta 0:00:01\r\u001b[K     |██████████▋                     | 163 kB 8.0 MB/s eta 0:00:01\r\u001b[K     |███████████▎                    | 174 kB 8.0 MB/s eta 0:00:01\r\u001b[K     |████████████                    | 184 kB 8.0 MB/s eta 0:00:01\r\u001b[K     |████████████▋                   | 194 kB 8.0 MB/s eta 0:00:01\r\u001b[K     |█████████████▎                  | 204 kB 8.0 MB/s eta 0:00:01\r\u001b[K     |██████████████                  | 215 kB 8.0 MB/s eta 0:00:01\r\u001b[K     |██████████████▋                 | 225 kB 8.0 MB/s eta 0:00:01\r\u001b[K     |███████████████▎                | 235 kB 8.0 MB/s eta 0:00:01\r\u001b[K     |████████████████                | 245 kB 8.0 MB/s eta 0:00:01\r\u001b[K     |████████████████▋               | 256 kB 8.0 MB/s eta 0:00:01\r\u001b[K     |█████████████████▎              | 266 kB 8.0 MB/s eta 0:00:01\r\u001b[K     |██████████████████              | 276 kB 8.0 MB/s eta 0:00:01\r\u001b[K     |██████████████████▋             | 286 kB 8.0 MB/s eta 0:00:01\r\u001b[K     |███████████████████▎            | 296 kB 8.0 MB/s eta 0:00:01\r\u001b[K     |████████████████████            | 307 kB 8.0 MB/s eta 0:00:01\r\u001b[K     |████████████████████▋           | 317 kB 8.0 MB/s eta 0:00:01\r\u001b[K     |█████████████████████▎          | 327 kB 8.0 MB/s eta 0:00:01\r\u001b[K     |██████████████████████          | 337 kB 8.0 MB/s eta 0:00:01\r\u001b[K     |██████████████████████▋         | 348 kB 8.0 MB/s eta 0:00:01\r\u001b[K     |███████████████████████▎        | 358 kB 8.0 MB/s eta 0:00:01\r\u001b[K     |████████████████████████        | 368 kB 8.0 MB/s eta 0:00:01\r\u001b[K     |████████████████████████▋       | 378 kB 8.0 MB/s eta 0:00:01\r\u001b[K     |█████████████████████████▎      | 389 kB 8.0 MB/s eta 0:00:01\r\u001b[K     |██████████████████████████      | 399 kB 8.0 MB/s eta 0:00:01\r\u001b[K     |██████████████████████████▋     | 409 kB 8.0 MB/s eta 0:00:01\r\u001b[K     |███████████████████████████▎    | 419 kB 8.0 MB/s eta 0:00:01\r\u001b[K     |████████████████████████████    | 430 kB 8.0 MB/s eta 0:00:01\r\u001b[K     |████████████████████████████▋   | 440 kB 8.0 MB/s eta 0:00:01\r\u001b[K     |█████████████████████████████▎  | 450 kB 8.0 MB/s eta 0:00:01\r\u001b[K     |██████████████████████████████  | 460 kB 8.0 MB/s eta 0:00:01\r\u001b[K     |██████████████████████████████▋ | 471 kB 8.0 MB/s eta 0:00:01\r\u001b[K     |███████████████████████████████▎| 481 kB 8.0 MB/s eta 0:00:01\r\u001b[K     |████████████████████████████████| 491 kB 8.0 MB/s eta 0:00:01\r\u001b[K     |████████████████████████████████| 493 kB 8.0 MB/s \n",
            "\u001b[?25hCollecting owslib\n",
            "  Downloading OWSLib-0.25.0-py2.py3-none-any.whl (216 kB)\n",
            "\u001b[?25l\r\u001b[K     |█▌                              | 10 kB 31.5 MB/s eta 0:00:01\r\u001b[K     |███                             | 20 kB 37.2 MB/s eta 0:00:01\r\u001b[K     |████▌                           | 30 kB 42.2 MB/s eta 0:00:01\r\u001b[K     |██████                          | 40 kB 46.1 MB/s eta 0:00:01\r\u001b[K     |███████▋                        | 51 kB 48.3 MB/s eta 0:00:01\r\u001b[K     |█████████                       | 61 kB 51.9 MB/s eta 0:00:01\r\u001b[K     |██████████▋                     | 71 kB 52.7 MB/s eta 0:00:01\r\u001b[K     |████████████                    | 81 kB 53.4 MB/s eta 0:00:01\r\u001b[K     |█████████████▋                  | 92 kB 53.9 MB/s eta 0:00:01\r\u001b[K     |███████████████▏                | 102 kB 55.2 MB/s eta 0:00:01\r\u001b[K     |████████████████▋               | 112 kB 55.2 MB/s eta 0:00:01\r\u001b[K     |██████████████████▏             | 122 kB 55.2 MB/s eta 0:00:01\r\u001b[K     |███████████████████▊            | 133 kB 55.2 MB/s eta 0:00:01\r\u001b[K     |█████████████████████▏          | 143 kB 55.2 MB/s eta 0:00:01\r\u001b[K     |██████████████████████▊         | 153 kB 55.2 MB/s eta 0:00:01\r\u001b[K     |████████████████████████▏       | 163 kB 55.2 MB/s eta 0:00:01\r\u001b[K     |█████████████████████████▊      | 174 kB 55.2 MB/s eta 0:00:01\r\u001b[K     |███████████████████████████▎    | 184 kB 55.2 MB/s eta 0:00:01\r\u001b[K     |████████████████████████████▊   | 194 kB 55.2 MB/s eta 0:00:01\r\u001b[K     |██████████████████████████████▎ | 204 kB 55.2 MB/s eta 0:00:01\r\u001b[K     |███████████████████████████████▉| 215 kB 55.2 MB/s eta 0:00:01\r\u001b[K     |████████████████████████████████| 216 kB 55.2 MB/s \n",
            "\u001b[?25hRequirement already satisfied: googledrivedownloader in /usr/local/lib/python3.7/dist-packages (from geemap) (0.4)\n",
            "Collecting geojson\n",
            "  Downloading geojson-2.5.0-py2.py3-none-any.whl (14 kB)\n",
            "Collecting voila\n",
            "  Downloading voila-0.2.16-py3-none-any.whl (1.6 MB)\n",
            "\u001b[K     |████████████████████████████████| 1.6 MB 44.5 MB/s \n",
            "\u001b[?25hCollecting folium>=0.11.0\n",
            "  Downloading folium-0.12.1.post1.tar.gz (93 kB)\n",
            "\u001b[K     |████████████████████████████████| 93 kB 1.4 MB/s \n",
            "\u001b[?25h  Installing build dependencies ... \u001b[?25l\u001b[?25hdone\n",
            "  Getting requirements to build wheel ... \u001b[?25l\u001b[?25hdone\n",
            "    Preparing wheel metadata ... \u001b[?25l\u001b[?25hdone\n",
            "Collecting whiteboxgui>=0.6.0\n",
            "  Downloading whiteboxgui-0.6.0-py2.py3-none-any.whl (93 kB)\n",
            "\u001b[K     |████████████████████████████████| 93 kB 1.4 MB/s \n",
            "\u001b[?25hCollecting bqplot\n",
            "  Downloading bqplot-0.12.31-py2.py3-none-any.whl (1.2 MB)\n",
            "\u001b[K     |████████████████████████████████| 1.2 MB 35.2 MB/s \n",
            "\u001b[?25hRequirement already satisfied: pandas in /usr/local/lib/python3.7/dist-packages (from geemap) (1.1.5)\n",
            "Collecting colour\n",
            "  Downloading colour-0.1.5-py2.py3-none-any.whl (23 kB)\n",
            "Requirement already satisfied: earthengine-api>=0.1.230 in /usr/local/lib/python3.7/dist-packages (from geemap) (0.1.290)\n",
            "Requirement already satisfied: matplotlib in /usr/local/lib/python3.7/dist-packages (from geemap) (3.2.2)\n",
            "Collecting ipyevents\n",
            "  Downloading ipyevents-2.0.1-py2.py3-none-any.whl (130 kB)\n",
            "\u001b[K     |████████████████████████████████| 130 kB 75.1 MB/s \n",
            "\u001b[?25hCollecting geeadd>=0.5.1\n",
            "  Downloading geeadd-0.5.5-py3-none-any.whl (30 kB)\n",
            "Collecting python-box\n",
            "  Downloading python_box-5.4.1-py3-none-any.whl (21 kB)\n",
            "Collecting ipyleaflet>=0.14.0\n",
            "  Downloading ipyleaflet-0.14.0-py2.py3-none-any.whl (3.3 MB)\n",
            "\u001b[K     |████████████████████████████████| 3.3 MB 67.9 MB/s \n",
            "\u001b[?25hCollecting geocoder\n",
            "  Downloading geocoder-1.38.1-py2.py3-none-any.whl (98 kB)\n",
            "\u001b[K     |████████████████████████████████| 98 kB 7.9 MB/s \n",
            "\u001b[?25hCollecting mss\n",
            "  Downloading mss-6.1.0-py3-none-any.whl (76 kB)\n",
            "\u001b[K     |████████████████████████████████| 76 kB 6.0 MB/s \n",
            "\u001b[?25hCollecting sankee\n",
            "  Downloading sankee-0.0.5-py3-none-any.whl (29 kB)\n",
            "Collecting xyzservices\n",
            "  Downloading xyzservices-2021.11.0-py3-none-any.whl (34 kB)\n",
            "Collecting pyshp>=2.1.3\n",
            "  Downloading pyshp-2.1.3.tar.gz (219 kB)\n",
            "\u001b[K     |████████████████████████████████| 219 kB 60.5 MB/s \n",
            "\u001b[?25hCollecting ipytree\n",
            "  Downloading ipytree-0.2.1-py2.py3-none-any.whl (1.3 MB)\n",
            "\u001b[K     |████████████████████████████████| 1.3 MB 39.9 MB/s \n",
            "\u001b[?25hRequirement already satisfied: pillow in /usr/local/lib/python3.7/dist-packages (from geemap) (7.1.2)\n",
            "Requirement already satisfied: click in /usr/local/lib/python3.7/dist-packages (from geemap) (7.1.2)\n",
            "Requirement already satisfied: numpy in /usr/local/lib/python3.7/dist-packages (from geemap) (1.19.5)\n",
            "Collecting ffmpeg-python\n",
            "  Downloading ffmpeg_python-0.2.0-py3-none-any.whl (25 kB)\n",
            "Collecting ipynb-py-convert\n",
            "  Downloading ipynb-py-convert-0.4.6.tar.gz (3.9 kB)\n",
            "Collecting jupyterlab>=3\n",
            "  Downloading jupyterlab-3.2.4-py3-none-any.whl (8.6 MB)\n",
            "\u001b[K     |████████████████████████████████| 8.6 MB 16.9 MB/s \n",
            "\u001b[?25hCollecting pycrs\n",
            "  Downloading PyCRS-1.0.2.tar.gz (36 kB)\n",
            "Collecting ipyfilechooser>=0.6.0\n",
            "  Downloading ipyfilechooser-0.6.0-py3-none-any.whl (11 kB)\n",
            "Requirement already satisfied: httplib2shim in /usr/local/lib/python3.7/dist-packages (from earthengine-api>=0.1.230->geemap) (0.0.3)\n",
            "Requirement already satisfied: future in /usr/local/lib/python3.7/dist-packages (from earthengine-api>=0.1.230->geemap) (0.16.0)\n",
            "Requirement already satisfied: google-cloud-storage in /usr/local/lib/python3.7/dist-packages (from earthengine-api>=0.1.230->geemap) (1.18.1)\n",
            "Requirement already satisfied: google-auth-httplib2>=0.0.3 in /usr/local/lib/python3.7/dist-packages (from earthengine-api>=0.1.230->geemap) (0.0.4)\n",
            "Requirement already satisfied: six in /usr/local/lib/python3.7/dist-packages (from earthengine-api>=0.1.230->geemap) (1.15.0)\n",
            "Requirement already satisfied: google-api-python-client<2,>=1.12.1 in /usr/local/lib/python3.7/dist-packages (from earthengine-api>=0.1.230->geemap) (1.12.8)\n",
            "Requirement already satisfied: google-auth>=1.4.1 in /usr/local/lib/python3.7/dist-packages (from earthengine-api>=0.1.230->geemap) (1.35.0)\n",
            "Requirement already satisfied: httplib2<1dev,>=0.9.2 in /usr/local/lib/python3.7/dist-packages (from earthengine-api>=0.1.230->geemap) (0.17.4)\n",
            "Requirement already satisfied: requests in /usr/local/lib/python3.7/dist-packages (from folium>=0.11.0->geemap) (2.23.0)\n",
            "Requirement already satisfied: branca>=0.3.0 in /usr/local/lib/python3.7/dist-packages (from folium>=0.11.0->geemap) (0.4.2)\n",
            "Requirement already satisfied: jinja2>=2.9 in /usr/local/lib/python3.7/dist-packages (from folium>=0.11.0->geemap) (2.11.3)\n",
            "Collecting logzero>=1.5.0\n",
            "  Downloading logzero-1.7.0-py2.py3-none-any.whl (16 kB)\n",
            "Collecting beautifulsoup4>=4.9.0\n",
            "  Downloading beautifulsoup4-4.10.0-py3-none-any.whl (97 kB)\n",
            "\u001b[K     |████████████████████████████████| 97 kB 7.4 MB/s \n",
            "\u001b[?25hCollecting soupsieve>1.2\n",
            "  Downloading soupsieve-2.3.1-py3-none-any.whl (37 kB)\n",
            "Requirement already satisfied: google-api-core<2dev,>=1.21.0 in /usr/local/lib/python3.7/dist-packages (from google-api-python-client<2,>=1.12.1->earthengine-api>=0.1.230->geemap) (1.26.3)\n",
            "Requirement already satisfied: uritemplate<4dev,>=3.0.0 in /usr/local/lib/python3.7/dist-packages (from google-api-python-client<2,>=1.12.1->earthengine-api>=0.1.230->geemap) (3.0.1)\n",
            "Requirement already satisfied: protobuf>=3.12.0 in /usr/local/lib/python3.7/dist-packages (from google-api-core<2dev,>=1.21.0->google-api-python-client<2,>=1.12.1->earthengine-api>=0.1.230->geemap) (3.17.3)\n",
            "Requirement already satisfied: setuptools>=40.3.0 in /usr/local/lib/python3.7/dist-packages (from google-api-core<2dev,>=1.21.0->google-api-python-client<2,>=1.12.1->earthengine-api>=0.1.230->geemap) (57.4.0)\n",
            "Requirement already satisfied: googleapis-common-protos<2.0dev,>=1.6.0 in /usr/local/lib/python3.7/dist-packages (from google-api-core<2dev,>=1.21.0->google-api-python-client<2,>=1.12.1->earthengine-api>=0.1.230->geemap) (1.53.0)\n",
            "Requirement already satisfied: pytz in /usr/local/lib/python3.7/dist-packages (from google-api-core<2dev,>=1.21.0->google-api-python-client<2,>=1.12.1->earthengine-api>=0.1.230->geemap) (2018.9)\n",
            "Requirement already satisfied: packaging>=14.3 in /usr/local/lib/python3.7/dist-packages (from google-api-core<2dev,>=1.21.0->google-api-python-client<2,>=1.12.1->earthengine-api>=0.1.230->geemap) (21.3)\n",
            "Requirement already satisfied: pyasn1-modules>=0.2.1 in /usr/local/lib/python3.7/dist-packages (from google-auth>=1.4.1->earthengine-api>=0.1.230->geemap) (0.2.8)\n",
            "Requirement already satisfied: rsa<5,>=3.1.4 in /usr/local/lib/python3.7/dist-packages (from google-auth>=1.4.1->earthengine-api>=0.1.230->geemap) (4.7.2)\n",
            "Requirement already satisfied: cachetools<5.0,>=2.0.0 in /usr/local/lib/python3.7/dist-packages (from google-auth>=1.4.1->earthengine-api>=0.1.230->geemap) (4.2.4)\n",
            "Requirement already satisfied: ipywidgets in /usr/local/lib/python3.7/dist-packages (from ipyfilechooser>=0.6.0->geemap) (7.6.5)\n",
            "Collecting traittypes<3,>=0.2.1\n",
            "  Downloading traittypes-0.2.1-py2.py3-none-any.whl (8.6 kB)\n",
            "Requirement already satisfied: traitlets>=4.3.1 in /usr/local/lib/python3.7/dist-packages (from ipywidgets->ipyfilechooser>=0.6.0->geemap) (5.1.1)\n",
            "Requirement already satisfied: widgetsnbextension~=3.5.0 in /usr/local/lib/python3.7/dist-packages (from ipywidgets->ipyfilechooser>=0.6.0->geemap) (3.5.2)\n",
            "Requirement already satisfied: nbformat>=4.2.0 in /usr/local/lib/python3.7/dist-packages (from ipywidgets->ipyfilechooser>=0.6.0->geemap) (5.1.3)\n",
            "Requirement already satisfied: ipython>=4.0.0 in /usr/local/lib/python3.7/dist-packages (from ipywidgets->ipyfilechooser>=0.6.0->geemap) (5.5.0)\n",
            "Requirement already satisfied: ipython-genutils~=0.2.0 in /usr/local/lib/python3.7/dist-packages (from ipywidgets->ipyfilechooser>=0.6.0->geemap) (0.2.0)\n",
            "Requirement already satisfied: ipykernel>=4.5.1 in /usr/local/lib/python3.7/dist-packages (from ipywidgets->ipyfilechooser>=0.6.0->geemap) (4.10.1)\n",
            "Requirement already satisfied: jupyterlab-widgets>=1.0.0 in /usr/local/lib/python3.7/dist-packages (from ipywidgets->ipyfilechooser>=0.6.0->geemap) (1.0.2)\n",
            "Requirement already satisfied: jupyter-client in /usr/local/lib/python3.7/dist-packages (from ipykernel>=4.5.1->ipywidgets->ipyfilechooser>=0.6.0->geemap) (5.3.5)\n",
            "Requirement already satisfied: tornado>=4.0 in /usr/local/lib/python3.7/dist-packages (from ipykernel>=4.5.1->ipywidgets->ipyfilechooser>=0.6.0->geemap) (5.1.1)\n",
            "Requirement already satisfied: prompt-toolkit<2.0.0,>=1.0.4 in /usr/local/lib/python3.7/dist-packages (from ipython>=4.0.0->ipywidgets->ipyfilechooser>=0.6.0->geemap) (1.0.18)\n",
            "Requirement already satisfied: decorator in /usr/local/lib/python3.7/dist-packages (from ipython>=4.0.0->ipywidgets->ipyfilechooser>=0.6.0->geemap) (4.4.2)\n",
            "Requirement already satisfied: pexpect in /usr/local/lib/python3.7/dist-packages (from ipython>=4.0.0->ipywidgets->ipyfilechooser>=0.6.0->geemap) (4.8.0)\n",
            "Requirement already satisfied: pygments in /usr/local/lib/python3.7/dist-packages (from ipython>=4.0.0->ipywidgets->ipyfilechooser>=0.6.0->geemap) (2.6.1)\n",
            "Requirement already satisfied: pickleshare in /usr/local/lib/python3.7/dist-packages (from ipython>=4.0.0->ipywidgets->ipyfilechooser>=0.6.0->geemap) (0.7.5)\n",
            "Requirement already satisfied: simplegeneric>0.8 in /usr/local/lib/python3.7/dist-packages (from ipython>=4.0.0->ipywidgets->ipyfilechooser>=0.6.0->geemap) (0.8.1)\n",
            "Requirement already satisfied: MarkupSafe>=0.23 in /usr/local/lib/python3.7/dist-packages (from jinja2>=2.9->folium>=0.11.0->geemap) (2.0.1)\n",
            "Collecting jupyterlab-server~=2.3\n",
            "  Downloading jupyterlab_server-2.8.2-py3-none-any.whl (58 kB)\n",
            "\u001b[K     |████████████████████████████████| 58 kB 5.6 MB/s \n",
            "\u001b[?25hCollecting tornado>=4.0\n",
            "  Downloading tornado-6.1-cp37-cp37m-manylinux2010_x86_64.whl (428 kB)\n",
            "\u001b[K     |████████████████████████████████| 428 kB 56.7 MB/s \n",
            "\u001b[?25hRequirement already satisfied: jupyter-core in /usr/local/lib/python3.7/dist-packages (from jupyterlab>=3->geemap) (4.9.1)\n",
            "Collecting nbclassic~=0.2\n",
            "  Downloading nbclassic-0.3.4-py3-none-any.whl (25 kB)\n",
            "Collecting jupyter-server~=1.4\n",
            "  Downloading jupyter_server-1.11.2-py3-none-any.whl (394 kB)\n",
            "\u001b[K     |████████████████████████████████| 394 kB 36.9 MB/s \n",
            "\u001b[?25hCollecting websocket-client\n",
            "  Downloading websocket_client-1.2.1-py2.py3-none-any.whl (52 kB)\n",
            "\u001b[K     |████████████████████████████████| 52 kB 1.7 MB/s \n",
            "\u001b[?25hCollecting anyio<4,>=3.1.0\n",
            "  Downloading anyio-3.3.4-py3-none-any.whl (78 kB)\n",
            "\u001b[K     |████████████████████████████████| 78 kB 7.3 MB/s \n",
            "\u001b[?25hRequirement already satisfied: argon2-cffi in /usr/local/lib/python3.7/dist-packages (from jupyter-server~=1.4->jupyterlab>=3->geemap) (21.1.0)\n",
            "Requirement already satisfied: nbconvert in /usr/local/lib/python3.7/dist-packages (from jupyter-server~=1.4->jupyterlab>=3->geemap) (5.6.1)\n",
            "Requirement already satisfied: Send2Trash in /usr/local/lib/python3.7/dist-packages (from jupyter-server~=1.4->jupyterlab>=3->geemap) (1.8.0)\n",
            "Requirement already satisfied: terminado>=0.8.3 in /usr/local/lib/python3.7/dist-packages (from jupyter-server~=1.4->jupyterlab>=3->geemap) (0.12.1)\n",
            "Requirement already satisfied: pyzmq>=17 in /usr/local/lib/python3.7/dist-packages (from jupyter-server~=1.4->jupyterlab>=3->geemap) (22.3.0)\n",
            "Collecting jupyter-client\n",
            "  Downloading jupyter_client-7.0.6-py3-none-any.whl (125 kB)\n",
            "\u001b[K     |████████████████████████████████| 125 kB 70.1 MB/s \n",
            "\u001b[?25hRequirement already satisfied: prometheus-client in /usr/local/lib/python3.7/dist-packages (from jupyter-server~=1.4->jupyterlab>=3->geemap) (0.12.0)\n",
            "Collecting sniffio>=1.1\n",
            "  Downloading sniffio-1.2.0-py3-none-any.whl (10 kB)\n",
            "Requirement already satisfied: typing-extensions in /usr/local/lib/python3.7/dist-packages (from anyio<4,>=3.1.0->jupyter-server~=1.4->jupyterlab>=3->geemap) (3.10.0.2)\n",
            "Requirement already satisfied: idna>=2.8 in /usr/local/lib/python3.7/dist-packages (from anyio<4,>=3.1.0->jupyter-server~=1.4->jupyterlab>=3->geemap) (2.10)\n",
            "Requirement already satisfied: python-dateutil>=2.1 in /usr/local/lib/python3.7/dist-packages (from jupyter-client->ipykernel>=4.5.1->ipywidgets->ipyfilechooser>=0.6.0->geemap) (2.8.2)\n",
            "Requirement already satisfied: nest-asyncio>=1.5 in /usr/local/lib/python3.7/dist-packages (from jupyter-client->ipykernel>=4.5.1->ipywidgets->ipyfilechooser>=0.6.0->geemap) (1.5.1)\n",
            "Requirement already satisfied: entrypoints in /usr/local/lib/python3.7/dist-packages (from jupyter-client->ipykernel>=4.5.1->ipywidgets->ipyfilechooser>=0.6.0->geemap) (0.3)\n",
            "Collecting json5\n",
            "  Downloading json5-0.9.6-py2.py3-none-any.whl (18 kB)\n",
            "Requirement already satisfied: babel in /usr/local/lib/python3.7/dist-packages (from jupyterlab-server~=2.3->jupyterlab>=3->geemap) (2.9.1)\n",
            "Collecting jsonschema>=3.0.1\n",
            "  Downloading jsonschema-4.2.1-py3-none-any.whl (69 kB)\n",
            "\u001b[K     |████████████████████████████████| 69 kB 7.6 MB/s \n",
            "\u001b[?25hRequirement already satisfied: importlib-resources>=1.4.0 in /usr/local/lib/python3.7/dist-packages (from jsonschema>=3.0.1->jupyterlab-server~=2.3->jupyterlab>=3->geemap) (5.4.0)\n",
            "Requirement already satisfied: attrs>=17.4.0 in /usr/local/lib/python3.7/dist-packages (from jsonschema>=3.0.1->jupyterlab-server~=2.3->jupyterlab>=3->geemap) (21.2.0)\n",
            "Requirement already satisfied: pyrsistent!=0.17.0,!=0.17.1,!=0.17.2,>=0.14.0 in /usr/local/lib/python3.7/dist-packages (from jsonschema>=3.0.1->jupyterlab-server~=2.3->jupyterlab>=3->geemap) (0.18.0)\n",
            "Requirement already satisfied: importlib-metadata in /usr/local/lib/python3.7/dist-packages (from jsonschema>=3.0.1->jupyterlab-server~=2.3->jupyterlab>=3->geemap) (4.8.2)\n",
            "Requirement already satisfied: zipp>=3.1.0 in /usr/local/lib/python3.7/dist-packages (from importlib-resources>=1.4.0->jsonschema>=3.0.1->jupyterlab-server~=2.3->jupyterlab>=3->geemap) (3.6.0)\n",
            "Requirement already satisfied: notebook<7 in /usr/local/lib/python3.7/dist-packages (from nbclassic~=0.2->jupyterlab>=3->geemap) (5.3.1)\n",
            "Requirement already satisfied: pyparsing!=3.0.5,>=2.0.2 in /usr/local/lib/python3.7/dist-packages (from packaging>=14.3->google-api-core<2dev,>=1.21.0->google-api-python-client<2,>=1.12.1->earthengine-api>=0.1.230->geemap) (3.0.6)\n",
            "Requirement already satisfied: wcwidth in /usr/local/lib/python3.7/dist-packages (from prompt-toolkit<2.0.0,>=1.0.4->ipython>=4.0.0->ipywidgets->ipyfilechooser>=0.6.0->geemap) (0.2.5)\n",
            "Requirement already satisfied: pyasn1<0.5.0,>=0.4.6 in /usr/local/lib/python3.7/dist-packages (from pyasn1-modules>=0.2.1->google-auth>=1.4.1->earthengine-api>=0.1.230->geemap) (0.4.8)\n",
            "Requirement already satisfied: certifi>=2017.4.17 in /usr/local/lib/python3.7/dist-packages (from requests->folium>=0.11.0->geemap) (2021.10.8)\n",
            "Requirement already satisfied: chardet<4,>=3.0.2 in /usr/local/lib/python3.7/dist-packages (from requests->folium>=0.11.0->geemap) (3.0.4)\n",
            "Requirement already satisfied: urllib3!=1.25.0,!=1.25.1,<1.26,>=1.21.1 in /usr/local/lib/python3.7/dist-packages (from requests->folium>=0.11.0->geemap) (1.24.3)\n",
            "Requirement already satisfied: ptyprocess in /usr/local/lib/python3.7/dist-packages (from terminado>=0.8.3->jupyter-server~=1.4->jupyterlab>=3->geemap) (0.7.0)\n",
            "Collecting whitebox\n",
            "  Downloading whitebox-2.0.3-py2.py3-none-any.whl (70 kB)\n",
            "\u001b[K     |████████████████████████████████| 70 kB 9.1 MB/s \n",
            "\u001b[?25hRequirement already satisfied: cffi>=1.0.0 in /usr/local/lib/python3.7/dist-packages (from argon2-cffi->jupyter-server~=1.4->jupyterlab>=3->geemap) (1.15.0)\n",
            "Requirement already satisfied: pycparser in /usr/local/lib/python3.7/dist-packages (from cffi>=1.0.0->argon2-cffi->jupyter-server~=1.4->jupyterlab>=3->geemap) (2.21)\n",
            "Collecting ratelim\n",
            "  Downloading ratelim-0.1.6-py2.py3-none-any.whl (4.0 kB)\n",
            "Requirement already satisfied: google-resumable-media<0.5.0dev,>=0.3.1 in /usr/local/lib/python3.7/dist-packages (from google-cloud-storage->earthengine-api>=0.1.230->geemap) (0.4.1)\n",
            "Requirement already satisfied: google-cloud-core<2.0dev,>=1.0.0 in /usr/local/lib/python3.7/dist-packages (from google-cloud-storage->earthengine-api>=0.1.230->geemap) (1.0.3)\n",
            "Requirement already satisfied: cycler>=0.10 in /usr/local/lib/python3.7/dist-packages (from matplotlib->geemap) (0.11.0)\n",
            "Requirement already satisfied: kiwisolver>=1.0.1 in /usr/local/lib/python3.7/dist-packages (from matplotlib->geemap) (1.3.2)\n",
            "Requirement already satisfied: pandocfilters>=1.4.1 in /usr/local/lib/python3.7/dist-packages (from nbconvert->jupyter-server~=1.4->jupyterlab>=3->geemap) (1.5.0)\n",
            "Requirement already satisfied: testpath in /usr/local/lib/python3.7/dist-packages (from nbconvert->jupyter-server~=1.4->jupyterlab>=3->geemap) (0.5.0)\n",
            "Requirement already satisfied: mistune<2,>=0.8.1 in /usr/local/lib/python3.7/dist-packages (from nbconvert->jupyter-server~=1.4->jupyterlab>=3->geemap) (0.8.4)\n",
            "Requirement already satisfied: defusedxml in /usr/local/lib/python3.7/dist-packages (from nbconvert->jupyter-server~=1.4->jupyterlab>=3->geemap) (0.7.1)\n",
            "Requirement already satisfied: bleach in /usr/local/lib/python3.7/dist-packages (from nbconvert->jupyter-server~=1.4->jupyterlab>=3->geemap) (4.1.0)\n",
            "Requirement already satisfied: webencodings in /usr/local/lib/python3.7/dist-packages (from bleach->nbconvert->jupyter-server~=1.4->jupyterlab>=3->geemap) (0.5.1)\n",
            "Collecting pyproj>=2\n",
            "  Downloading pyproj-3.2.1-cp37-cp37m-manylinux2010_x86_64.whl (6.3 MB)\n",
            "\u001b[K     |████████████████████████████████| 6.3 MB 69.1 MB/s \n",
            "\u001b[?25hRequirement already satisfied: pyyaml in /usr/local/lib/python3.7/dist-packages (from owslib->geemap) (3.13)\n",
            "Requirement already satisfied: plotly in /usr/local/lib/python3.7/dist-packages (from sankee->geemap) (4.4.1)\n",
            "Requirement already satisfied: retrying>=1.3.3 in /usr/local/lib/python3.7/dist-packages (from plotly->sankee->geemap) (1.3.3)\n",
            "Collecting jupyter-client\n",
            "  Downloading jupyter_client-6.1.12-py3-none-any.whl (112 kB)\n",
            "\u001b[K     |████████████████████████████████| 112 kB 19.4 MB/s \n",
            "\u001b[?25hCollecting nbconvert\n",
            "  Downloading nbconvert-6.3.0-py3-none-any.whl (556 kB)\n",
            "\u001b[K     |████████████████████████████████| 556 kB 60.2 MB/s \n",
            "\u001b[?25hRequirement already satisfied: nbclient<0.6,>=0.4.0 in /usr/local/lib/python3.7/dist-packages (from voila->geemap) (0.5.8)\n",
            "Requirement already satisfied: jupyterlab-pygments in /usr/local/lib/python3.7/dist-packages (from nbconvert->jupyter-server~=1.4->jupyterlab>=3->geemap) (0.1.2)\n",
            "Building wheels for collected packages: folium, pyshp, ipynb-py-convert, pycrs\n",
            "  Building wheel for folium (PEP 517) ... \u001b[?25l\u001b[?25hdone\n",
            "  Created wheel for folium: filename=folium-0.12.1.post1-py2.py3-none-any.whl size=95017 sha256=72e8fe82159bae48f86e87aeb79339d8a9b67d874949f22852a4bb69507e74f6\n",
            "  Stored in directory: /root/.cache/pip/wheels/cf/d2/b1/569dd3ad4959f691dbd11987ac20ee2d5d58cb7d9f45968cae\n",
            "  Building wheel for pyshp (setup.py) ... \u001b[?25l\u001b[?25hdone\n",
            "  Created wheel for pyshp: filename=pyshp-2.1.3-py3-none-any.whl size=37325 sha256=dc982b8cc20c47769135978c9c22d0c0f708f24dc05beca23bed1a5d1f1c5904\n",
            "  Stored in directory: /root/.cache/pip/wheels/43/f8/87/53c8cd41545ba20e536ea29a8fcb5431b5f477ca50d5dffbbe\n",
            "  Building wheel for ipynb-py-convert (setup.py) ... \u001b[?25l\u001b[?25hdone\n",
            "  Created wheel for ipynb-py-convert: filename=ipynb_py_convert-0.4.6-py3-none-any.whl size=4639 sha256=7f303b1a59f7f99ba1e04a44fb2863010579bc5ec17ad40aeadd79dbb8428db3\n",
            "  Stored in directory: /root/.cache/pip/wheels/af/31/a9/761b134adbbca3c92d491eff3bad785c0a0c0079695d6f0504\n",
            "  Building wheel for pycrs (setup.py) ... \u001b[?25l\u001b[?25hdone\n",
            "  Created wheel for pycrs: filename=PyCRS-1.0.2-py3-none-any.whl size=32704 sha256=b1755d13c89953ba14ea941801dcd920a63d24a3bb407d73feb6d9c445bfcbfd\n",
            "  Stored in directory: /root/.cache/pip/wheels/3e/ce/32/1ec0aba6b9770681a423e82f0274c57d09ad2c20c2864901f9\n",
            "Successfully built folium pyshp ipynb-py-convert pycrs\n",
            "Installing collected packages: tornado, jsonschema, jupyter-client, nbconvert, sniffio, websocket-client, anyio, soupsieve, jupyter-server, json5, whitebox, traittypes, ratelim, pyproj, nbclassic, logzero, jupyterlab-server, ipytree, ipyfilechooser, beautifulsoup4, xyzservices, whiteboxgui, voila, sankee, python-box, pyshp, pycrs, owslib, mss, jupyterlab, ipynb-py-convert, ipyleaflet, ipyevents, geojson, geocoder, geeadd, folium, ffmpeg-python, colour, bqplot, geemap\n",
            "  Attempting uninstall: tornado\n",
            "    Found existing installation: tornado 5.1.1\n",
            "    Uninstalling tornado-5.1.1:\n",
            "      Successfully uninstalled tornado-5.1.1\n",
            "  Attempting uninstall: jsonschema\n",
            "    Found existing installation: jsonschema 2.6.0\n",
            "    Uninstalling jsonschema-2.6.0:\n",
            "      Successfully uninstalled jsonschema-2.6.0\n",
            "  Attempting uninstall: jupyter-client\n",
            "    Found existing installation: jupyter-client 5.3.5\n",
            "    Uninstalling jupyter-client-5.3.5:\n",
            "      Successfully uninstalled jupyter-client-5.3.5\n",
            "  Attempting uninstall: nbconvert\n",
            "    Found existing installation: nbconvert 5.6.1\n",
            "    Uninstalling nbconvert-5.6.1:\n",
            "      Successfully uninstalled nbconvert-5.6.1\n",
            "  Attempting uninstall: beautifulsoup4\n",
            "    Found existing installation: beautifulsoup4 4.6.3\n",
            "    Uninstalling beautifulsoup4-4.6.3:\n",
            "      Successfully uninstalled beautifulsoup4-4.6.3\n",
            "  Attempting uninstall: folium\n",
            "    Found existing installation: folium 0.8.3\n",
            "    Uninstalling folium-0.8.3:\n",
            "      Successfully uninstalled folium-0.8.3\n",
            "\u001b[31mERROR: pip's dependency resolver does not currently take into account all the packages that are installed. This behaviour is the source of the following dependency conflicts.\n",
            "google-colab 1.0.0 requires tornado~=5.1.0; python_version >= \"3.0\", but you have tornado 6.1 which is incompatible.\n",
            "datascience 0.10.6 requires folium==0.2.1, but you have folium 0.12.1.post1 which is incompatible.\u001b[0m\n",
            "Successfully installed anyio-3.3.4 beautifulsoup4-4.10.0 bqplot-0.12.31 colour-0.1.5 ffmpeg-python-0.2.0 folium-0.12.1.post1 geeadd-0.5.5 geemap-0.9.4 geocoder-1.38.1 geojson-2.5.0 ipyevents-2.0.1 ipyfilechooser-0.6.0 ipyleaflet-0.14.0 ipynb-py-convert-0.4.6 ipytree-0.2.1 json5-0.9.6 jsonschema-4.2.1 jupyter-client-6.1.12 jupyter-server-1.11.2 jupyterlab-3.2.4 jupyterlab-server-2.8.2 logzero-1.7.0 mss-6.1.0 nbclassic-0.3.4 nbconvert-6.3.0 owslib-0.25.0 pycrs-1.0.2 pyproj-3.2.1 pyshp-2.1.3 python-box-5.4.1 ratelim-0.1.6 sankee-0.0.5 sniffio-1.2.0 soupsieve-2.3.1 tornado-6.1 traittypes-0.2.1 voila-0.2.16 websocket-client-1.2.1 whitebox-2.0.3 whiteboxgui-0.6.0 xyzservices-2021.11.0\n"
          ]
        },
        {
          "output_type": "display_data",
          "data": {
            "application/vnd.colab-display-data+json": {
              "pip_warning": {
                "packages": [
                  "jupyter_client",
                  "tornado"
                ]
              }
            }
          },
          "metadata": {}
        }
      ]
    },
    {
      "cell_type": "code",
      "metadata": {
        "id": "-zIxMf9z1pHR",
        "colab": {
          "base_uri": "https://localhost:8080/",
          "height": 176
        },
        "outputId": "70b7e917-03b3-4a95-fd37-ad3188022b74"
      },
      "source": [
        "import ee\n",
        "import geemap\n",
        "# Trigger the authentication flow.\n",
        "ee.Authenticate()\n",
        "\n",
        "# Initialize the library.\n",
        "ee.Initialize()"
      ],
      "execution_count": null,
      "outputs": [
        {
          "output_type": "stream",
          "name": "stdout",
          "text": [
            "To authorize access needed by Earth Engine, open the following URL in a web browser and follow the instructions. If the web browser does not start automatically, please manually browse the URL below.\n",
            "\n",
            "    https://accounts.google.com/o/oauth2/auth?client_id=517222506229-vsmmajv00ul0bs7p89v5m89qs8eb9359.apps.googleusercontent.com&scope=https%3A%2F%2Fwww.googleapis.com%2Fauth%2Fearthengine+https%3A%2F%2Fwww.googleapis.com%2Fauth%2Fdevstorage.full_control&redirect_uri=urn%3Aietf%3Awg%3Aoauth%3A2.0%3Aoob&response_type=code&code_challenge=bd5GxS2_0OrBgJcrsqLKoJ3XqN_AEKZZ_aZnrQ8jx-k&code_challenge_method=S256\n",
            "\n",
            "The authorization workflow will generate a code, which you should paste in the box below. \n",
            "Enter verification code: 4/1AX4XfWjRcIoSFc2K1pWzv4D1cE6YaM6MxLmediDLjIM7NgYG4-rB-EKlOX0\n",
            "\n",
            "Successfully saved authorization token.\n"
          ]
        }
      ]
    },
    {
      "cell_type": "code",
      "metadata": {
        "id": "NivFnVAb1v83"
      },
      "source": [
        "Map = geemap.Map()\n",
        "\n",
        "admin = ee.FeatureCollection(\"FAO/GAUL_SIMPLIFIED_500m/2015/level1\");\n",
        "maharashtra = admin.filter(ee.Filter.eq('ADM1_NAME', 'Maharashtra'))\n",
        "geometry = maharashtra.geometry()\n",
        "\n",
        "point = ee.Geometry.Point([80.3288, 23.5121])\n",
        "\n",
        "image = ee.ImageCollection('LANDSAT/LC08/C01/T1_SR') \\\n",
        "    .filterDate('2019-01-01', '2019-12-31') \\\n",
        "    .sort('CLOUD_COVER') \\\n",
        "    .min() \\\n",
        "    .select('B[1-7]') \\\n",
        "    .clip(geometry)\n",
        "\n",
        "\n",
        "vis_params = {\n",
        "    'min': 0,\n",
        "    'max': 3000,\n",
        "    'bands': ['B5', 'B4', 'B3']\n",
        "}\n",
        "\n",
        "Map.centerObject(point, 5)\n",
        "Map.addLayer(image, vis_params, \"Landsat-8\")\n",
        "\n",
        "#Map"
      ],
      "execution_count": null,
      "outputs": []
    },
    {
      "cell_type": "code",
      "metadata": {
        "id": "DfZMbkTc10tj",
        "colab": {
          "base_uri": "https://localhost:8080/",
          "height": 621,
          "referenced_widgets": [
            "b71b3e972fd8420fa40ae2df417e671a",
            "3accbde19c6f4ee1b2cde9558240bfba",
            "e799dc4984d74e0685290ea16b0065ed",
            "f964e22885f14f4f8c7b951f9cb842aa",
            "53fdfa56c144426eb55495dc415eaa52",
            "519179f0435b4978b479b61cd3102618",
            "f2d70834f3d34eb393ab0fd86244b889",
            "d4369e52e65241f4adeabb7c1e9bcb97",
            "90c2b6c5cf554ca8814a81e19738587a",
            "f05c8f28406b466bb9a12a47b217b65c",
            "6fefe4fe612849d1b046a58a60b2cf41",
            "fed33dd49d964656b4c3b4b7562c0c4c",
            "b13965464b484ecc8990ae827d97c5c0",
            "7de7e6cc010b45f5b90ac59d0aecbf6b",
            "47c7ee7e43de43f2bdb25436e9d1e3a6",
            "34b5b693600247688fe36e46fe791cc9",
            "ca9f7ce93d024690b25b0c7e13278599",
            "cc5f71bf323b4601b25eba405d1185d5",
            "5f0052fe069d468ea34d1e5b90bb88cf",
            "4ef7d173b8cf459084de3f10d7cb5e86",
            "151aed478f1b4ce4bd2f81aba371e495",
            "f8a8e177c11d498595456c273fe2f9d5",
            "b1181cdde480407d9414f22a467493a1",
            "b80f84afabc24b66b9e074d960646ad1",
            "960eb34ebbbf446690f99a5f5bddd385",
            "fd767d3833244542b613b6304e83cdb8",
            "b1871703abe84ae1a114346dcc6b9a4f",
            "2867dc629a8146ad8a52ee97807dc813",
            "8bd3e6981dfa4533830a6a5ed26d43a4",
            "f7a466a7135448fd878c9f41860bac42",
            "cd1278a681584c0eb8e76580173acee4",
            "1b4d54c5c6064b0388f21d396e9f663e",
            "2f0bc79b333647f3ae4ec4914d34f5dd",
            "25d17b70569442869a5a90507ae37edc",
            "d2afdd67e42f43319bfb4cf12424694a"
          ]
        },
        "outputId": "b508b4c6-73e5-45c9-dd71-0cbfaa630c2a"
      },
      "source": [
        "modis = ee.ImageCollection('MODIS/006/MCD12Q1') \\\n",
        "              .filterDate('2016-01-01', '2019-01-01') \\\n",
        "              .select('LC_Type1') \\\n",
        "              .reduce(ee.Reducer.median())\n",
        "\n",
        "points = modis.sample(**{\n",
        "    'region': ee.Geometry.Rectangle([72.0000, 23.0000, 82.0000, 15.0000]),\n",
        "    'scale': 30,\n",
        "    'numPixels': 5000,\n",
        "    'seed': 0,\n",
        "    'geometries': True  # Set this to False to ignore geometries\n",
        "})\n",
        "\n",
        "Map.addLayer(points, {}, 'training', False)\n",
        "Map"
      ],
      "execution_count": null,
      "outputs": [
        {
          "output_type": "display_data",
          "data": {
            "application/vnd.jupyter.widget-view+json": {
              "model_id": "b71b3e972fd8420fa40ae2df417e671a",
              "version_minor": 0,
              "version_major": 2
            },
            "text/plain": [
              "Map(center=[23.512099999999997, 80.3288], controls=(WidgetControl(options=['position', 'transparent_bg'], widg…"
            ]
          },
          "metadata": {
            "application/vnd.jupyter.widget-view+json": {
              "colab": {
                "custom_widget_manager": {
                  "url": "https://ssl.gstatic.com/colaboratory-static/widgets/colab-cdn-widget-manager/e680a8b83b2ea152/manager.min.js"
                }
              }
            }
          }
        }
      ]
    },
    {
      "cell_type": "code",
      "metadata": {
        "id": "JARK8Myc4o1J",
        "colab": {
          "base_uri": "https://localhost:8080/"
        },
        "outputId": "3b721968-c557-49c1-8d6a-9629c1d5383e"
      },
      "source": [
        "print(points.size().getInfo())"
      ],
      "execution_count": null,
      "outputs": [
        {
          "output_type": "stream",
          "name": "stdout",
          "text": [
            "5000\n"
          ]
        }
      ]
    },
    {
      "cell_type": "code",
      "metadata": {
        "id": "IuxCzCLL4q_I",
        "colab": {
          "base_uri": "https://localhost:8080/"
        },
        "outputId": "e8c29a93-34c6-4dff-d854-f4b88ad5f5e7"
      },
      "source": [
        "print(points.first().getInfo())"
      ],
      "execution_count": null,
      "outputs": [
        {
          "output_type": "stream",
          "name": "stdout",
          "text": [
            "{'type': 'Feature', 'geometry': {'type': 'Point', 'coordinates': [75.96063229451673, 21.19164441922813]}, 'id': '0', 'properties': {'LC_Type1_median': 12}}\n"
          ]
        }
      ]
    },
    {
      "cell_type": "code",
      "metadata": {
        "id": "AGxNPIps4ujB",
        "colab": {
          "base_uri": "https://localhost:8080/"
        },
        "outputId": "eb28ae79-b54a-4e53-a5fb-4c30d982fb03"
      },
      "source": [
        "# Use these bands for prediction.\n",
        "bands = ['B1', 'B2', 'B3', 'B4', 'B5', 'B6', 'B7']\n",
        "\n",
        "\n",
        "# This property of the table stores the land cover labels.\n",
        "label = 'LC_Type1_median'\n",
        "input = image.select(bands)\n",
        "\n",
        "# Overlay the points on the imagery to get training.\n",
        "training = input.sampleRegions(**{\n",
        "  'collection': points,\n",
        "  'properties': [label],\n",
        "  'scale': 30\n",
        "})\n",
        "\n",
        "# Train a CART classifier with default parameters.\n",
        "trained = ee.Classifier.smileCart().train(training, label, bands)\n",
        "\n",
        "print(training.first().getInfo());"
      ],
      "execution_count": null,
      "outputs": [
        {
          "output_type": "stream",
          "name": "stdout",
          "text": [
            "{'type': 'Feature', 'geometry': None, 'id': '0_0', 'properties': {'B1': 282, 'B2': 377, 'B3': 638, 'B4': 548, 'B5': 2163, 'B6': 1395, 'B7': 885, 'LC_Type1_median': 12}}\n"
          ]
        }
      ]
    },
    {
      "cell_type": "code",
      "metadata": {
        "id": "DpVJXD_T4usM"
      },
      "source": [
        "result = image.select(bands).classify(trained)\n",
        "\n",
        "# Display the clusters with random colors.\n",
        "# Map.addLayer(result.randomVisualizer(), {}, 'classfied')\n",
        "# Map"
      ],
      "execution_count": null,
      "outputs": []
    },
    {
      "cell_type": "code",
      "metadata": {
        "id": "j6LcHfGZ5Zal"
      },
      "source": [
        "map2 = geemap.Map()\n",
        "\n",
        "ee_class_table = \"\"\"\n",
        "\n",
        "Value\tColor\tDescription\n",
        "0\t1c0dff\tWater\n",
        "1\t05450a\tEvergreen needleleaf forest\n",
        "2\t086a10\tEvergreen broadleaf forest\n",
        "3\t54a708\tDeciduous needleleaf forest\n",
        "4\t78d203\tDeciduous broadleaf forest\n",
        "5\t009900\tMixed forest\n",
        "6\tc6b044\tClosed shrublands\n",
        "7\tdcd159\tOpen shrublands\n",
        "8\tdade48\tWoody savannas\n",
        "9\tfbff13\tSavannas\n",
        "10\tb6ff05\tGrasslands\n",
        "11\t27ff87\tPermanent wetlands\n",
        "12\tc24f44\tCroplands\n",
        "13\ta5a5a5\tUrban and built-up\n",
        "14\tff6d4c\tCropland/natural vegetation mosaic\n",
        "15\t69fff8\tSnow and ice\n",
        "16\tf9ffa4\tBarren or sparsely vegetated\n",
        "254\tffffff\tUnclassified\n",
        "\n",
        "\"\"\"\n",
        "#############################################################\n",
        "landcover = ee.ImageCollection('MODIS/006/MCD12Q1') \\\n",
        "              .filterDate('2019-01-01', '2019-12-31') \\\n",
        "              .select('LC_Type1') \\\n",
        "              .reduce(ee.Reducer.mean()) \\\n",
        "              .clip(geometry)\n",
        "\n",
        "LandCoverVis = {\n",
        "  'min': 1.0,\n",
        "  'max': 17.0,\n",
        "  'palette': [\n",
        "    '05450a', '086a10', '54a708', '78d203', '009900', 'c6b044', 'dcd159',\n",
        "    'dade48', 'fbff13', 'b6ff05', '27ff87', 'c24f44', 'a5a5a5', 'ff6d4c',\n",
        "    '69fff8', 'f9ffa4', '1c0dff'\n",
        "  ],\n",
        "}\n",
        "\n",
        "Map.centerObject(point, 5)\n",
        "Map.addLayer(landcover, LandCoverVis, 'MODIS Land Cover')\n",
        "\n",
        "legend_dict = geemap.legend_from_ee(ee_class_table)\n",
        "#map2.add_legend(legend_title=\"MODIS Global Land Cover\", legend_dict=legend_dict)\n",
        "#map2"
      ],
      "execution_count": null,
      "outputs": []
    },
    {
      "cell_type": "code",
      "metadata": {
        "id": "K5U8z1xi4-PR"
      },
      "source": [
        "landsatcover = result.set('classification_class_values', [0, 1, 2, 3, 4, 5, 6, 7, 8, 9, 10, 11, 12, 13, 14, 15, 16])\n",
        "landsatcover = landsatcover.set('classification_class_palette', ['1c0dff', '05450a', '086a10', '54a708', '78d203', '009900', 'c6b044', 'dcd159', 'dade48', 'fbff13', 'b6ff05', '27ff87', 'c24f44', 'a5a5a5', 'ff6d4c', '69fff8', 'f9ffa4',   ])\n",
        "Map.addLayer(landsatcover, {}, 'Land cover')"
      ],
      "execution_count": null,
      "outputs": []
    },
    {
      "cell_type": "code",
      "metadata": {
        "id": "U6__EKV5o5vC",
        "colab": {
          "base_uri": "https://localhost:8080/",
          "height": 621,
          "referenced_widgets": [
            "b71b3e972fd8420fa40ae2df417e671a",
            "3accbde19c6f4ee1b2cde9558240bfba",
            "e799dc4984d74e0685290ea16b0065ed",
            "f964e22885f14f4f8c7b951f9cb842aa",
            "53fdfa56c144426eb55495dc415eaa52",
            "519179f0435b4978b479b61cd3102618",
            "f2d70834f3d34eb393ab0fd86244b889",
            "d4369e52e65241f4adeabb7c1e9bcb97",
            "90c2b6c5cf554ca8814a81e19738587a",
            "f05c8f28406b466bb9a12a47b217b65c",
            "6fefe4fe612849d1b046a58a60b2cf41",
            "f7a466a7135448fd878c9f41860bac42",
            "fed33dd49d964656b4c3b4b7562c0c4c",
            "b13965464b484ecc8990ae827d97c5c0",
            "7de7e6cc010b45f5b90ac59d0aecbf6b",
            "47c7ee7e43de43f2bdb25436e9d1e3a6",
            "34b5b693600247688fe36e46fe791cc9",
            "2867dc629a8146ad8a52ee97807dc813",
            "8bd3e6981dfa4533830a6a5ed26d43a4",
            "ca9f7ce93d024690b25b0c7e13278599",
            "cc5f71bf323b4601b25eba405d1185d5",
            "5f0052fe069d468ea34d1e5b90bb88cf",
            "cd1278a681584c0eb8e76580173acee4",
            "4ef7d173b8cf459084de3f10d7cb5e86",
            "151aed478f1b4ce4bd2f81aba371e495",
            "f8a8e177c11d498595456c273fe2f9d5",
            "b1181cdde480407d9414f22a467493a1",
            "1b4d54c5c6064b0388f21d396e9f663e",
            "b80f84afabc24b66b9e074d960646ad1",
            "960eb34ebbbf446690f99a5f5bddd385",
            "fd767d3833244542b613b6304e83cdb8",
            "b1871703abe84ae1a114346dcc6b9a4f",
            "2f0bc79b333647f3ae4ec4914d34f5dd",
            "25d17b70569442869a5a90507ae37edc",
            "d2afdd67e42f43319bfb4cf12424694a"
          ]
        },
        "outputId": "42c8b3a1-1c25-4e20-b9ca-b8a5a4d35c92"
      },
      "source": [
        "ee_class_table = \"\"\"\n",
        "\n",
        "Value\tColor\tDescription\n",
        "0\t1c0dff\tWater\n",
        "1\t05450a\tEvergreen needleleaf forest\n",
        "2\t086a10\tEvergreen broadleaf forest\n",
        "3\t54a708\tDeciduous needleleaf forest\n",
        "4\t78d203\tDeciduous broadleaf forest\n",
        "5\t009900\tMixed forest\n",
        "6\tc6b044\tClosed shrublands\n",
        "7\tdcd159\tOpen shrublands\n",
        "8\tdade48\tWoody savannas\n",
        "9\tfbff13\tSavannas\n",
        "10\tb6ff05\tGrasslands\n",
        "11\t27ff87\tPermanent wetlands\n",
        "12\tc24f44\tCroplands\n",
        "13\ta5a5a5\tUrban and built-up\n",
        "14\tff6d4c\tCropland/natural vegetation mosaic\n",
        "15\t69fff8\tSnow and ice\n",
        "16\tf9ffa4\tBarren or sparsely vegetated\n",
        "254\tffffff\tUnclassified\n",
        "\n",
        "\"\"\"\n",
        "\n",
        "legend_dict = geemap.legend_from_ee(ee_class_table)\n",
        "Map.add_legend(legend_title=\"Land Cover Legend\", legend_dict=legend_dict)\n",
        "\n",
        "Map"
      ],
      "execution_count": null,
      "outputs": [
        {
          "output_type": "display_data",
          "data": {
            "application/vnd.jupyter.widget-view+json": {
              "model_id": "b71b3e972fd8420fa40ae2df417e671a",
              "version_minor": 0,
              "version_major": 2
            },
            "text/plain": [
              "Map(center=[23.512099999999997, 80.3288], controls=(WidgetControl(options=['position', 'transparent_bg'], widg…"
            ]
          },
          "metadata": {
            "application/vnd.jupyter.widget-view+json": {
              "colab": {
                "custom_widget_manager": {
                  "url": "https://ssl.gstatic.com/colaboratory-static/widgets/colab-cdn-widget-manager/e680a8b83b2ea152/manager.min.js"
                }
              }
            }
          }
        }
      ]
    }
  ]
}