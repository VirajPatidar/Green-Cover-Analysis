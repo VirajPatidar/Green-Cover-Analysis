{
  "nbformat": 4,
  "nbformat_minor": 0,
  "metadata": {
    "colab": {
      "name": "VI_and_timelapse.ipynb",
      "provenance": []
    },
    "kernelspec": {
      "name": "python3",
      "display_name": "Python 3"
    },
    "language_info": {
      "name": "python"
    },
    "widgets": {
      "application/vnd.jupyter.widget-state+json": {
        "148b9a6d5c6d44f8a6584a7731533ef3": {
          "model_module": "@jupyter-widgets/controls",
          "model_name": "HBoxModel",
          "model_module_version": "1.5.0",
          "state": {
            "_view_name": "HBoxView",
            "_dom_classes": [],
            "_model_name": "HBoxModel",
            "_view_module": "@jupyter-widgets/controls",
            "_model_module_version": "1.5.0",
            "_view_count": null,
            "_view_module_version": "1.5.0",
            "box_style": "",
            "layout": "IPY_MODEL_f9ab4a78b66745d3881eff92b71a66bc",
            "_model_module": "@jupyter-widgets/controls",
            "children": [
              "IPY_MODEL_ab2076a6ce2041e98f80216d04b17df8",
              "IPY_MODEL_fca51870c9904e4599a437686be1ce7f"
            ]
          }
        },
        "f9ab4a78b66745d3881eff92b71a66bc": {
          "model_module": "@jupyter-widgets/base",
          "model_name": "LayoutModel",
          "model_module_version": "1.2.0",
          "state": {
            "_view_name": "LayoutView",
            "grid_template_rows": null,
            "right": null,
            "justify_content": null,
            "_view_module": "@jupyter-widgets/base",
            "overflow": null,
            "_model_module_version": "1.2.0",
            "_view_count": null,
            "flex_flow": null,
            "width": null,
            "min_width": null,
            "border": null,
            "align_items": null,
            "bottom": null,
            "_model_module": "@jupyter-widgets/base",
            "top": null,
            "grid_column": null,
            "overflow_y": null,
            "overflow_x": null,
            "grid_auto_flow": null,
            "grid_area": null,
            "grid_template_columns": null,
            "flex": null,
            "_model_name": "LayoutModel",
            "justify_items": null,
            "grid_row": null,
            "max_height": null,
            "align_content": null,
            "visibility": null,
            "align_self": null,
            "height": null,
            "min_height": null,
            "padding": null,
            "grid_auto_rows": null,
            "grid_gap": null,
            "max_width": null,
            "order": null,
            "_view_module_version": "1.2.0",
            "grid_template_areas": null,
            "object_position": null,
            "object_fit": null,
            "grid_auto_columns": null,
            "margin": null,
            "display": null,
            "left": null
          }
        },
        "ab2076a6ce2041e98f80216d04b17df8": {
          "model_module": "@jupyter-widgets/controls",
          "model_name": "IntSliderModel",
          "model_module_version": "1.5.0",
          "state": {
            "_view_name": "IntSliderView",
            "style": "IPY_MODEL_e0692853fe9048e09dbc5ab2aa614f3a",
            "_dom_classes": [],
            "description": "Start Year:",
            "step": 1,
            "_model_name": "IntSliderModel",
            "orientation": "horizontal",
            "max": 2021,
            "_view_module": "@jupyter-widgets/controls",
            "_model_module_version": "1.5.0",
            "value": 2021,
            "_view_count": null,
            "disabled": false,
            "_view_module_version": "1.5.0",
            "min": 2013,
            "continuous_update": true,
            "readout_format": "d",
            "description_tooltip": null,
            "readout": true,
            "_model_module": "@jupyter-widgets/controls",
            "layout": "IPY_MODEL_fe35d1209a5e4fd1802c87d9b7a069d5"
          }
        },
        "fca51870c9904e4599a437686be1ce7f": {
          "model_module": "@jupyter-widgets/controls",
          "model_name": "IntSliderModel",
          "model_module_version": "1.5.0",
          "state": {
            "_view_name": "IntSliderView",
            "style": "IPY_MODEL_b7683026453941c38100497fe3d1c6e6",
            "_dom_classes": [],
            "description": "Start Month:",
            "step": 1,
            "_model_name": "IntSliderModel",
            "orientation": "horizontal",
            "max": 12,
            "_view_module": "@jupyter-widgets/controls",
            "_model_module_version": "1.5.0",
            "value": 10,
            "_view_count": null,
            "disabled": false,
            "_view_module_version": "1.5.0",
            "min": 1,
            "continuous_update": true,
            "readout_format": "d",
            "description_tooltip": null,
            "readout": true,
            "_model_module": "@jupyter-widgets/controls",
            "layout": "IPY_MODEL_943305698b394aea9339d4190a887938"
          }
        },
        "e0692853fe9048e09dbc5ab2aa614f3a": {
          "model_module": "@jupyter-widgets/controls",
          "model_name": "SliderStyleModel",
          "model_module_version": "1.5.0",
          "state": {
            "_view_name": "StyleView",
            "handle_color": null,
            "_model_name": "SliderStyleModel",
            "description_width": "initial",
            "_view_module": "@jupyter-widgets/base",
            "_model_module_version": "1.5.0",
            "_view_count": null,
            "_view_module_version": "1.2.0",
            "_model_module": "@jupyter-widgets/controls"
          }
        },
        "fe35d1209a5e4fd1802c87d9b7a069d5": {
          "model_module": "@jupyter-widgets/base",
          "model_name": "LayoutModel",
          "model_module_version": "1.2.0",
          "state": {
            "_view_name": "LayoutView",
            "grid_template_rows": null,
            "right": null,
            "justify_content": null,
            "_view_module": "@jupyter-widgets/base",
            "overflow": null,
            "_model_module_version": "1.2.0",
            "_view_count": null,
            "flex_flow": null,
            "width": null,
            "min_width": null,
            "border": null,
            "align_items": null,
            "bottom": null,
            "_model_module": "@jupyter-widgets/base",
            "top": null,
            "grid_column": null,
            "overflow_y": null,
            "overflow_x": null,
            "grid_auto_flow": null,
            "grid_area": null,
            "grid_template_columns": null,
            "flex": null,
            "_model_name": "LayoutModel",
            "justify_items": null,
            "grid_row": null,
            "max_height": null,
            "align_content": null,
            "visibility": null,
            "align_self": null,
            "height": null,
            "min_height": null,
            "padding": null,
            "grid_auto_rows": null,
            "grid_gap": null,
            "max_width": null,
            "order": null,
            "_view_module_version": "1.2.0",
            "grid_template_areas": null,
            "object_position": null,
            "object_fit": null,
            "grid_auto_columns": null,
            "margin": null,
            "display": null,
            "left": null
          }
        },
        "b7683026453941c38100497fe3d1c6e6": {
          "model_module": "@jupyter-widgets/controls",
          "model_name": "SliderStyleModel",
          "model_module_version": "1.5.0",
          "state": {
            "_view_name": "StyleView",
            "handle_color": null,
            "_model_name": "SliderStyleModel",
            "description_width": "initial",
            "_view_module": "@jupyter-widgets/base",
            "_model_module_version": "1.5.0",
            "_view_count": null,
            "_view_module_version": "1.2.0",
            "_model_module": "@jupyter-widgets/controls"
          }
        },
        "943305698b394aea9339d4190a887938": {
          "model_module": "@jupyter-widgets/base",
          "model_name": "LayoutModel",
          "model_module_version": "1.2.0",
          "state": {
            "_view_name": "LayoutView",
            "grid_template_rows": null,
            "right": null,
            "justify_content": null,
            "_view_module": "@jupyter-widgets/base",
            "overflow": null,
            "_model_module_version": "1.2.0",
            "_view_count": null,
            "flex_flow": null,
            "width": null,
            "min_width": null,
            "border": null,
            "align_items": null,
            "bottom": null,
            "_model_module": "@jupyter-widgets/base",
            "top": null,
            "grid_column": null,
            "overflow_y": null,
            "overflow_x": null,
            "grid_auto_flow": null,
            "grid_area": null,
            "grid_template_columns": null,
            "flex": null,
            "_model_name": "LayoutModel",
            "justify_items": null,
            "grid_row": null,
            "max_height": null,
            "align_content": null,
            "visibility": null,
            "align_self": null,
            "height": null,
            "min_height": null,
            "padding": null,
            "grid_auto_rows": null,
            "grid_gap": null,
            "max_width": null,
            "order": null,
            "_view_module_version": "1.2.0",
            "grid_template_areas": null,
            "object_position": null,
            "object_fit": null,
            "grid_auto_columns": null,
            "margin": null,
            "display": null,
            "left": null
          }
        },
        "dca034f080bb4d5db37e348310e6d129": {
          "model_module": "@jupyter-widgets/controls",
          "model_name": "HBoxModel",
          "model_module_version": "1.5.0",
          "state": {
            "_view_name": "HBoxView",
            "_dom_classes": [],
            "_model_name": "HBoxModel",
            "_view_module": "@jupyter-widgets/controls",
            "_model_module_version": "1.5.0",
            "_view_count": null,
            "_view_module_version": "1.5.0",
            "box_style": "",
            "layout": "IPY_MODEL_9852a17e66fd48619fd4b5665d03914c",
            "_model_module": "@jupyter-widgets/controls",
            "children": [
              "IPY_MODEL_226319df1820473c890c1a3ab9f3305a"
            ]
          }
        },
        "9852a17e66fd48619fd4b5665d03914c": {
          "model_module": "@jupyter-widgets/base",
          "model_name": "LayoutModel",
          "model_module_version": "1.2.0",
          "state": {
            "_view_name": "LayoutView",
            "grid_template_rows": null,
            "right": null,
            "justify_content": null,
            "_view_module": "@jupyter-widgets/base",
            "overflow": null,
            "_model_module_version": "1.2.0",
            "_view_count": null,
            "flex_flow": null,
            "width": null,
            "min_width": null,
            "border": null,
            "align_items": null,
            "bottom": null,
            "_model_module": "@jupyter-widgets/base",
            "top": null,
            "grid_column": null,
            "overflow_y": null,
            "overflow_x": null,
            "grid_auto_flow": null,
            "grid_area": null,
            "grid_template_columns": null,
            "flex": null,
            "_model_name": "LayoutModel",
            "justify_items": null,
            "grid_row": null,
            "max_height": null,
            "align_content": null,
            "visibility": null,
            "align_self": null,
            "height": null,
            "min_height": null,
            "padding": null,
            "grid_auto_rows": null,
            "grid_gap": null,
            "max_width": null,
            "order": null,
            "_view_module_version": "1.2.0",
            "grid_template_areas": null,
            "object_position": null,
            "object_fit": null,
            "grid_auto_columns": null,
            "margin": null,
            "display": null,
            "left": null
          }
        },
        "226319df1820473c890c1a3ab9f3305a": {
          "model_module": "@jupyter-widgets/controls",
          "model_name": "ButtonModel",
          "model_module_version": "1.5.0",
          "state": {
            "_view_name": "ButtonView",
            "style": "IPY_MODEL_e07f0580132e46beb18e0501ffa130ba",
            "_dom_classes": [],
            "description": "Add Layer",
            "_model_name": "ButtonModel",
            "button_style": "primary",
            "_view_module": "@jupyter-widgets/controls",
            "_model_module_version": "1.5.0",
            "tooltip": "Click to add layer",
            "_view_count": null,
            "disabled": false,
            "_view_module_version": "1.5.0",
            "layout": "IPY_MODEL_1f286ccd2136421ba3de740cfb7491b2",
            "_model_module": "@jupyter-widgets/controls",
            "icon": ""
          }
        },
        "e07f0580132e46beb18e0501ffa130ba": {
          "model_module": "@jupyter-widgets/controls",
          "model_name": "ButtonStyleModel",
          "model_module_version": "1.5.0",
          "state": {
            "_view_name": "StyleView",
            "_model_name": "ButtonStyleModel",
            "_view_module": "@jupyter-widgets/base",
            "_model_module_version": "1.5.0",
            "_view_count": null,
            "button_color": null,
            "font_weight": "",
            "_view_module_version": "1.2.0",
            "_model_module": "@jupyter-widgets/controls"
          }
        },
        "1f286ccd2136421ba3de740cfb7491b2": {
          "model_module": "@jupyter-widgets/base",
          "model_name": "LayoutModel",
          "model_module_version": "1.2.0",
          "state": {
            "_view_name": "LayoutView",
            "grid_template_rows": null,
            "right": null,
            "justify_content": null,
            "_view_module": "@jupyter-widgets/base",
            "overflow": null,
            "_model_module_version": "1.2.0",
            "_view_count": null,
            "flex_flow": null,
            "width": null,
            "min_width": null,
            "border": null,
            "align_items": null,
            "bottom": null,
            "_model_module": "@jupyter-widgets/base",
            "top": null,
            "grid_column": null,
            "overflow_y": null,
            "overflow_x": null,
            "grid_auto_flow": null,
            "grid_area": null,
            "grid_template_columns": null,
            "flex": null,
            "_model_name": "LayoutModel",
            "justify_items": null,
            "grid_row": null,
            "max_height": null,
            "align_content": null,
            "visibility": null,
            "align_self": null,
            "height": null,
            "min_height": null,
            "padding": null,
            "grid_auto_rows": null,
            "grid_gap": null,
            "max_width": null,
            "order": null,
            "_view_module_version": "1.2.0",
            "grid_template_areas": null,
            "object_position": null,
            "object_fit": null,
            "grid_auto_columns": null,
            "margin": null,
            "display": null,
            "left": null
          }
        },
        "fe5e6a6b7cb449feb3159d7f7481559f": {
          "model_module": "@jupyter-widgets/base",
          "model_name": "LayoutModel",
          "model_module_version": "1.2.0",
          "state": {
            "_view_name": "LayoutView",
            "grid_template_rows": null,
            "right": null,
            "justify_content": null,
            "_view_module": "@jupyter-widgets/base",
            "overflow": null,
            "_model_module_version": "1.2.0",
            "_view_count": null,
            "flex_flow": null,
            "width": null,
            "min_width": null,
            "border": null,
            "align_items": null,
            "bottom": null,
            "_model_module": "@jupyter-widgets/base",
            "top": null,
            "grid_column": null,
            "overflow_y": null,
            "overflow_x": null,
            "grid_auto_flow": null,
            "grid_area": null,
            "grid_template_columns": null,
            "flex": null,
            "_model_name": "LayoutModel",
            "justify_items": null,
            "grid_row": null,
            "max_height": null,
            "align_content": null,
            "visibility": null,
            "align_self": null,
            "height": null,
            "min_height": null,
            "padding": null,
            "grid_auto_rows": null,
            "grid_gap": null,
            "max_width": null,
            "order": null,
            "_view_module_version": "1.2.0",
            "grid_template_areas": null,
            "object_position": null,
            "object_fit": null,
            "grid_auto_columns": null,
            "margin": null,
            "display": null,
            "left": null
          }
        },
        "7cfac5d0368f45db9575f67556f29f06": {
          "model_module": "jupyter-leaflet",
          "model_name": "LeafletMapModel",
          "model_module_version": "^0.14.0",
          "state": {
            "_view_name": "LeafletMapView",
            "keyboard_pan_offset": 80,
            "right": 1503,
            "tap": true,
            "_view_module": "jupyter-leaflet",
            "max_zoom": 18,
            "_model_module_version": "^0.14.0",
            "_view_count": null,
            "zoom_snap": 1,
            "min_zoom": 1,
            "bounce_at_zoom_limits": true,
            "keyboard": true,
            "north": 55.875310835696816,
            "scroll_wheel_zoom": true,
            "dragging": true,
            "_model_module": "jupyter-leaflet",
            "zoom_delta": 1,
            "close_popup_on_click": true,
            "fullscreen": false,
            "style": "IPY_MODEL_01fc5f952c1d453f94b12d45ef9651d0",
            "layout": "IPY_MODEL_a28e7c88ed994ef895c8c8d16ee08a85",
            "bottom": 1878,
            "inertia_max_speed": 1500,
            "top": 1278,
            "box_zoom": true,
            "controls": [
              "IPY_MODEL_f8feb03ab5db45938ce1a735820b5c1c",
              "IPY_MODEL_a9d832f286b043d3b4cfc3d98374b773",
              "IPY_MODEL_fb506e1fea78404a9e53aaa4ce8b21a9",
              "IPY_MODEL_fe0a5426aa8146ba8a27cebd9b4f7b33",
              "IPY_MODEL_d6caf17cfbdf49e78e6e9169c42967c9",
              "IPY_MODEL_feb8b8e529aa4ff5bb8a091b66821e38",
              "IPY_MODEL_953a9226dada4523831fee94050aeeb3",
              "IPY_MODEL_a8e0f5f1273442e49211ae4a80970fbb"
            ],
            "default_style": "IPY_MODEL_01fc5f952c1d453f94b12d45ef9651d0",
            "east": -47.90039062500001,
            "double_click_zoom": true,
            "interpolation": "bilinear",
            "layers": [
              "IPY_MODEL_a7023126b8274d078457d0148f2494c8",
              "IPY_MODEL_5c957730fc604bb69d33fec69f38fa9d",
              "IPY_MODEL_bc7add31fd0543219880dd56b629fffe",
              "IPY_MODEL_a2fc65a28877401aa6eaf9b1822637bf"
            ],
            "dragging_style": "IPY_MODEL_5f90e1b05d7d483ca04f6cf473aa8411",
            "_dom_classes": [],
            "zoom_animation_threshold": 4,
            "_model_name": "LeafletMapModel",
            "zoom_start": 12,
            "modisdate": "yesterday",
            "keyboard_zoom_offset": 1,
            "inertia_deceleration": 3000,
            "inertia": true,
            "crs": {
              "name": "EPSG3857",
              "custom": false
            },
            "center": [
              38.16911413556086,
              -109.86162903443912
            ],
            "zoom": 4,
            "world_copy_jump": false,
            "_view_module_version": "^0.14.0",
            "window_url": "https://6ro34meujsk-496ff2e9c6d22116-0-colab.googleusercontent.com/outputframe.html?vrz=colab-20211118-060053-RC00_410742426",
            "tap_tolerance": 15,
            "west": -171.82617187500003,
            "touch_zoom": true,
            "options": [
              "bounce_at_zoom_limits",
              "box_zoom",
              "center",
              "close_popup_on_click",
              "double_click_zoom",
              "dragging",
              "fullscreen",
              "inertia",
              "inertia_deceleration",
              "inertia_max_speed",
              "interpolation",
              "keyboard",
              "keyboard_pan_offset",
              "keyboard_zoom_offset",
              "max_zoom",
              "min_zoom",
              "scroll_wheel_zoom",
              "tap",
              "tap_tolerance",
              "touch_zoom",
              "world_copy_jump",
              "zoom",
              "zoom_animation_threshold",
              "zoom_delta",
              "zoom_snap",
              "zoom_start"
            ],
            "south": 14.774882506516272,
            "left": 93,
            "_dragging": false
          }
        },
        "e99c6805d9e44a1694c04c72be1ae0cb": {
          "model_module": "jupyter-leaflet",
          "model_name": "LeafletMapStyleModel",
          "model_module_version": "^0.14.0",
          "state": {
            "_view_name": "StyleView",
            "_model_name": "LeafletMapStyleModel",
            "_view_module": "@jupyter-widgets/base",
            "_model_module_version": "^0.14.0",
            "_view_count": null,
            "cursor": "grab",
            "_view_module_version": "1.2.0",
            "_model_module": "jupyter-leaflet"
          }
        },
        "a28e7c88ed994ef895c8c8d16ee08a85": {
          "model_module": "@jupyter-widgets/base",
          "model_name": "LayoutModel",
          "model_module_version": "1.2.0",
          "state": {
            "_view_name": "LayoutView",
            "grid_template_rows": null,
            "right": null,
            "justify_content": null,
            "_view_module": "@jupyter-widgets/base",
            "overflow": null,
            "_model_module_version": "1.2.0",
            "_view_count": null,
            "flex_flow": null,
            "width": null,
            "min_width": null,
            "border": null,
            "align_items": null,
            "bottom": null,
            "_model_module": "@jupyter-widgets/base",
            "top": null,
            "grid_column": null,
            "overflow_y": null,
            "overflow_x": null,
            "grid_auto_flow": null,
            "grid_area": null,
            "grid_template_columns": null,
            "flex": null,
            "_model_name": "LayoutModel",
            "justify_items": null,
            "grid_row": null,
            "max_height": null,
            "align_content": null,
            "visibility": null,
            "align_self": null,
            "height": "600px",
            "min_height": null,
            "padding": null,
            "grid_auto_rows": null,
            "grid_gap": null,
            "max_width": null,
            "order": null,
            "_view_module_version": "1.2.0",
            "grid_template_areas": null,
            "object_position": null,
            "object_fit": null,
            "grid_auto_columns": null,
            "margin": null,
            "display": null,
            "left": null
          }
        },
        "f8feb03ab5db45938ce1a735820b5c1c": {
          "model_module": "jupyter-leaflet",
          "model_name": "LeafletWidgetControlModel",
          "model_module_version": "^0.14.0",
          "state": {
            "_view_name": "LeafletWidgetControlView",
            "widget": "IPY_MODEL_b03e9b5c5e494be282c04eda600663b7",
            "_model_name": "LeafletWidgetControlModel",
            "_view_module": "jupyter-leaflet",
            "_model_module_version": "^0.14.0",
            "max_height": null,
            "_view_count": null,
            "min_height": null,
            "_view_module_version": "^0.14.0",
            "max_width": null,
            "transparent_bg": false,
            "min_width": null,
            "position": "topleft",
            "_model_module": "jupyter-leaflet",
            "options": [
              "position",
              "transparent_bg"
            ]
          }
        },
        "a9d832f286b043d3b4cfc3d98374b773": {
          "model_module": "jupyter-leaflet",
          "model_name": "LeafletZoomControlModel",
          "model_module_version": "^0.14.0",
          "state": {
            "_view_name": "LeafletZoomControlView",
            "zoom_in_title": "Zoom in",
            "_model_name": "LeafletZoomControlModel",
            "_view_module": "jupyter-leaflet",
            "_model_module_version": "^0.14.0",
            "_view_count": null,
            "_view_module_version": "^0.14.0",
            "zoom_out_title": "Zoom out",
            "position": "topleft",
            "zoom_in_text": "+",
            "_model_module": "jupyter-leaflet",
            "options": [
              "position",
              "zoom_in_text",
              "zoom_in_title",
              "zoom_out_text",
              "zoom_out_title"
            ],
            "zoom_out_text": "-"
          }
        },
        "fb506e1fea78404a9e53aaa4ce8b21a9": {
          "model_module": "jupyter-leaflet",
          "model_name": "LeafletScaleControlModel",
          "model_module_version": "^0.14.0",
          "state": {
            "_view_name": "LeafletScaleControlView",
            "_model_name": "LeafletScaleControlModel",
            "metric": true,
            "_view_module": "jupyter-leaflet",
            "_model_module_version": "^0.14.0",
            "max_width": 100,
            "_view_count": null,
            "_view_module_version": "^0.14.0",
            "update_when_idle": false,
            "position": "bottomleft",
            "imperial": true,
            "_model_module": "jupyter-leaflet",
            "options": [
              "imperial",
              "max_width",
              "metric",
              "position",
              "update_when_idle"
            ]
          }
        },
        "fe0a5426aa8146ba8a27cebd9b4f7b33": {
          "model_module": "jupyter-leaflet",
          "model_name": "LeafletFullScreenControlModel",
          "model_module_version": "^0.14.0",
          "state": {
            "_view_name": "LeafletFullScreenControlView",
            "_model_name": "LeafletFullScreenControlModel",
            "_view_module": "jupyter-leaflet",
            "_model_module_version": "^0.14.0",
            "_view_count": null,
            "_view_module_version": "^0.14.0",
            "position": "topleft",
            "_model_module": "jupyter-leaflet",
            "options": [
              "position"
            ]
          }
        },
        "d6caf17cfbdf49e78e6e9169c42967c9": {
          "model_module": "jupyter-leaflet",
          "model_name": "LeafletMeasureControlModel",
          "model_module_version": "^0.14.0",
          "state": {
            "_view_name": "LeafletMeasureControlView",
            "primary_area_unit": "acres",
            "capture_z_index": 10000,
            "secondary_area_unit": null,
            "primary_length_unit": "kilometers",
            "active_color": "orange",
            "_model_name": "LeafletMeasureControlModel",
            "popup_options": {
              "className": "leaflet-measure-resultpopup",
              "autoPanPadding": [
                10,
                10
              ]
            },
            "_view_module": "jupyter-leaflet",
            "_model_module_version": "^0.14.0",
            "_view_count": null,
            "_view_module_version": "^0.14.0",
            "secondary_length_unit": null,
            "completed_color": "#C8F2BE",
            "position": "bottomleft",
            "_model_module": "jupyter-leaflet",
            "options": [
              "active_color",
              "capture_z_index",
              "completed_color",
              "popup_options",
              "position",
              "primary_area_unit",
              "primary_length_unit",
              "secondary_area_unit",
              "secondary_length_unit"
            ],
            "_custom_units": {}
          }
        },
        "feb8b8e529aa4ff5bb8a091b66821e38": {
          "model_module": "jupyter-leaflet",
          "model_name": "LeafletAttributionControlModel",
          "model_module_version": "^0.14.0",
          "state": {
            "_view_name": "LeafletAttributionControlView",
            "prefix": "ipyleaflet",
            "_model_name": "LeafletAttributionControlModel",
            "_view_module": "jupyter-leaflet",
            "_model_module_version": "^0.14.0",
            "_view_count": null,
            "_view_module_version": "^0.14.0",
            "position": "bottomright",
            "_model_module": "jupyter-leaflet",
            "options": [
              "position",
              "prefix"
            ]
          }
        },
        "953a9226dada4523831fee94050aeeb3": {
          "model_module": "jupyter-leaflet",
          "model_name": "LeafletDrawControlModel",
          "model_module_version": "^0.14.0",
          "state": {
            "_view_name": "LeafletDrawControlView",
            "polygon": {
              "shapeOptions": {}
            },
            "circlemarker": {},
            "_model_name": "LeafletDrawControlModel",
            "edit": true,
            "data": [],
            "_view_module": "jupyter-leaflet",
            "_model_module_version": "^0.14.0",
            "remove": true,
            "_view_count": null,
            "_view_module_version": "^0.14.0",
            "polyline": {
              "shapeOptions": {}
            },
            "marker": {
              "shapeOptions": {
                "color": "#3388ff"
              }
            },
            "position": "topleft",
            "circle": {
              "shapeOptions": {
                "color": "#3388ff"
              }
            },
            "_model_module": "jupyter-leaflet",
            "options": [
              "position"
            ],
            "rectangle": {
              "shapeOptions": {
                "color": "#3388ff"
              }
            }
          }
        },
        "a8e0f5f1273442e49211ae4a80970fbb": {
          "model_module": "jupyter-leaflet",
          "model_name": "LeafletWidgetControlModel",
          "model_module_version": "^0.14.0",
          "state": {
            "_view_name": "LeafletWidgetControlView",
            "widget": "IPY_MODEL_be11e498417c449882e74fa782b54276",
            "_model_name": "LeafletWidgetControlModel",
            "_view_module": "jupyter-leaflet",
            "_model_module_version": "^0.14.0",
            "max_height": null,
            "_view_count": null,
            "min_height": null,
            "_view_module_version": "^0.14.0",
            "max_width": null,
            "transparent_bg": false,
            "min_width": null,
            "position": "topright",
            "_model_module": "jupyter-leaflet",
            "options": [
              "position",
              "transparent_bg"
            ]
          }
        },
        "01fc5f952c1d453f94b12d45ef9651d0": {
          "model_module": "jupyter-leaflet",
          "model_name": "LeafletMapStyleModel",
          "model_module_version": "^0.14.0",
          "state": {
            "_view_name": "StyleView",
            "_model_name": "LeafletMapStyleModel",
            "_view_module": "@jupyter-widgets/base",
            "_model_module_version": "^0.14.0",
            "_view_count": null,
            "cursor": "grab",
            "_view_module_version": "1.2.0",
            "_model_module": "jupyter-leaflet"
          }
        },
        "a7023126b8274d078457d0148f2494c8": {
          "model_module": "jupyter-leaflet",
          "model_name": "LeafletTileLayerModel",
          "model_module_version": "^0.14.0",
          "state": {
            "_view_name": "LeafletTileLayerView",
            "_view_module": "jupyter-leaflet",
            "max_zoom": 19,
            "_model_module_version": "^0.14.0",
            "_view_count": null,
            "visible": true,
            "min_zoom": 1,
            "tms": false,
            "_model_module": "jupyter-leaflet",
            "loading": false,
            "bottom": true,
            "no_wrap": false,
            "tile_size": 256,
            "popup_min_width": 50,
            "opacity": 1,
            "popup": null,
            "attribution": "Map data (c) <a href=\"https://openstreetmap.org\">OpenStreetMap</a> contributors",
            "_model_name": "LeafletTileLayerModel",
            "max_native_zoom": 18,
            "base": true,
            "min_native_zoom": 0,
            "show_loading": false,
            "name": "",
            "url": "https://{s}.tile.openstreetmap.org/{z}/{x}/{y}.png",
            "popup_max_height": null,
            "popup_max_width": 300,
            "detect_retina": false,
            "_view_module_version": "^0.14.0",
            "options": [
              "attribution",
              "detect_retina",
              "max_native_zoom",
              "max_zoom",
              "min_native_zoom",
              "min_zoom",
              "no_wrap",
              "tile_size",
              "tms"
            ]
          }
        },
        "5c957730fc604bb69d33fec69f38fa9d": {
          "model_module": "jupyter-leaflet",
          "model_name": "LeafletTileLayerModel",
          "model_module_version": "^0.14.0",
          "state": {
            "_view_name": "LeafletTileLayerView",
            "_view_module": "jupyter-leaflet",
            "max_zoom": 18,
            "_model_module_version": "^0.14.0",
            "_view_count": null,
            "visible": true,
            "min_zoom": 0,
            "tms": false,
            "_model_module": "jupyter-leaflet",
            "loading": false,
            "bottom": true,
            "no_wrap": false,
            "tile_size": 256,
            "popup_min_width": 50,
            "opacity": 1,
            "popup": null,
            "attribution": "Google",
            "_model_name": "LeafletTileLayerModel",
            "max_native_zoom": 18,
            "base": false,
            "min_native_zoom": 0,
            "show_loading": false,
            "name": "Google Maps",
            "url": "https://mt1.google.com/vt/lyrs=m&x={x}&y={y}&z={z}",
            "popup_max_height": null,
            "popup_max_width": 300,
            "detect_retina": false,
            "_view_module_version": "^0.14.0",
            "options": [
              "attribution",
              "detect_retina",
              "max_native_zoom",
              "max_zoom",
              "min_native_zoom",
              "min_zoom",
              "no_wrap",
              "tile_size",
              "tms"
            ]
          }
        },
        "5f90e1b05d7d483ca04f6cf473aa8411": {
          "model_module": "jupyter-leaflet",
          "model_name": "LeafletMapStyleModel",
          "model_module_version": "^0.14.0",
          "state": {
            "_view_name": "StyleView",
            "_model_name": "LeafletMapStyleModel",
            "_view_module": "@jupyter-widgets/base",
            "_model_module_version": "^0.14.0",
            "_view_count": null,
            "cursor": "move",
            "_view_module_version": "1.2.0",
            "_model_module": "jupyter-leaflet"
          }
        },
        "b03e9b5c5e494be282c04eda600663b7": {
          "model_module": "@jupyter-widgets/controls",
          "model_name": "HBoxModel",
          "model_module_version": "1.5.0",
          "state": {
            "_view_name": "HBoxView",
            "_dom_classes": [],
            "_model_name": "HBoxModel",
            "_view_module": "@jupyter-widgets/controls",
            "_model_module_version": "1.5.0",
            "_view_count": null,
            "_view_module_version": "1.5.0",
            "box_style": "",
            "layout": "IPY_MODEL_0c64a267d3d0441eab511cadd95c462e",
            "_model_module": "@jupyter-widgets/controls",
            "children": [
              "IPY_MODEL_e55288bb8c964275b6b03fbbbfffc882"
            ]
          }
        },
        "be11e498417c449882e74fa782b54276": {
          "model_module": "@jupyter-widgets/controls",
          "model_name": "VBoxModel",
          "model_module_version": "1.5.0",
          "state": {
            "_view_name": "VBoxView",
            "_dom_classes": [],
            "_model_name": "VBoxModel",
            "_view_module": "@jupyter-widgets/controls",
            "_model_module_version": "1.5.0",
            "_view_count": null,
            "_view_module_version": "1.5.0",
            "box_style": "",
            "layout": "IPY_MODEL_c6e3c85704284afb811403a0094905c8",
            "_model_module": "@jupyter-widgets/controls",
            "children": [
              "IPY_MODEL_d53ef68035684eadb0fb7640ca271b9d"
            ]
          }
        },
        "0c64a267d3d0441eab511cadd95c462e": {
          "model_module": "@jupyter-widgets/base",
          "model_name": "LayoutModel",
          "model_module_version": "1.2.0",
          "state": {
            "_view_name": "LayoutView",
            "grid_template_rows": null,
            "right": null,
            "justify_content": null,
            "_view_module": "@jupyter-widgets/base",
            "overflow": null,
            "_model_module_version": "1.2.0",
            "_view_count": null,
            "flex_flow": null,
            "width": null,
            "min_width": null,
            "border": null,
            "align_items": null,
            "bottom": null,
            "_model_module": "@jupyter-widgets/base",
            "top": null,
            "grid_column": null,
            "overflow_y": null,
            "overflow_x": null,
            "grid_auto_flow": null,
            "grid_area": null,
            "grid_template_columns": null,
            "flex": null,
            "_model_name": "LayoutModel",
            "justify_items": null,
            "grid_row": null,
            "max_height": null,
            "align_content": null,
            "visibility": null,
            "align_self": null,
            "height": null,
            "min_height": null,
            "padding": null,
            "grid_auto_rows": null,
            "grid_gap": null,
            "max_width": null,
            "order": null,
            "_view_module_version": "1.2.0",
            "grid_template_areas": null,
            "object_position": null,
            "object_fit": null,
            "grid_auto_columns": null,
            "margin": null,
            "display": null,
            "left": null
          }
        },
        "e55288bb8c964275b6b03fbbbfffc882": {
          "model_module": "@jupyter-widgets/controls",
          "model_name": "ToggleButtonModel",
          "model_module_version": "1.5.0",
          "state": {
            "_view_name": "ToggleButtonView",
            "style": "IPY_MODEL_29072ba668484a10a060d9111d008a7f",
            "_dom_classes": [],
            "description": "",
            "_model_name": "ToggleButtonModel",
            "button_style": "",
            "_view_module": "@jupyter-widgets/controls",
            "_model_module_version": "1.5.0",
            "tooltip": "Search location/data",
            "_view_count": null,
            "disabled": false,
            "_view_module_version": "1.5.0",
            "value": false,
            "description_tooltip": null,
            "_model_module": "@jupyter-widgets/controls",
            "layout": "IPY_MODEL_bb060fd204db43dd9266498642f41d24",
            "icon": "globe"
          }
        },
        "c6e3c85704284afb811403a0094905c8": {
          "model_module": "@jupyter-widgets/base",
          "model_name": "LayoutModel",
          "model_module_version": "1.2.0",
          "state": {
            "_view_name": "LayoutView",
            "grid_template_rows": null,
            "right": null,
            "justify_content": null,
            "_view_module": "@jupyter-widgets/base",
            "overflow": null,
            "_model_module_version": "1.2.0",
            "_view_count": null,
            "flex_flow": null,
            "width": null,
            "min_width": null,
            "border": null,
            "align_items": null,
            "bottom": null,
            "_model_module": "@jupyter-widgets/base",
            "top": null,
            "grid_column": null,
            "overflow_y": null,
            "overflow_x": null,
            "grid_auto_flow": null,
            "grid_area": null,
            "grid_template_columns": null,
            "flex": null,
            "_model_name": "LayoutModel",
            "justify_items": null,
            "grid_row": null,
            "max_height": null,
            "align_content": null,
            "visibility": null,
            "align_self": null,
            "height": null,
            "min_height": null,
            "padding": null,
            "grid_auto_rows": null,
            "grid_gap": null,
            "max_width": null,
            "order": null,
            "_view_module_version": "1.2.0",
            "grid_template_areas": null,
            "object_position": null,
            "object_fit": null,
            "grid_auto_columns": null,
            "margin": null,
            "display": null,
            "left": null
          }
        },
        "d53ef68035684eadb0fb7640ca271b9d": {
          "model_module": "@jupyter-widgets/controls",
          "model_name": "ToggleButtonModel",
          "model_module_version": "1.5.0",
          "state": {
            "_view_name": "ToggleButtonView",
            "style": "IPY_MODEL_7e92f40ebf734ffb96f65f8620f59e8b",
            "_dom_classes": [],
            "description": "",
            "_model_name": "ToggleButtonModel",
            "button_style": "",
            "_view_module": "@jupyter-widgets/controls",
            "_model_module_version": "1.5.0",
            "tooltip": "Toolbar",
            "_view_count": null,
            "disabled": false,
            "_view_module_version": "1.5.0",
            "value": false,
            "description_tooltip": null,
            "_model_module": "@jupyter-widgets/controls",
            "layout": "IPY_MODEL_4c3eb19ae13147508189887ddce73963",
            "icon": "wrench"
          }
        },
        "29072ba668484a10a060d9111d008a7f": {
          "model_module": "@jupyter-widgets/controls",
          "model_name": "DescriptionStyleModel",
          "model_module_version": "1.5.0",
          "state": {
            "_view_name": "StyleView",
            "_model_name": "DescriptionStyleModel",
            "description_width": "",
            "_view_module": "@jupyter-widgets/base",
            "_model_module_version": "1.5.0",
            "_view_count": null,
            "_view_module_version": "1.2.0",
            "_model_module": "@jupyter-widgets/controls"
          }
        },
        "bb060fd204db43dd9266498642f41d24": {
          "model_module": "@jupyter-widgets/base",
          "model_name": "LayoutModel",
          "model_module_version": "1.2.0",
          "state": {
            "_view_name": "LayoutView",
            "grid_template_rows": null,
            "right": null,
            "justify_content": null,
            "_view_module": "@jupyter-widgets/base",
            "overflow": null,
            "_model_module_version": "1.2.0",
            "_view_count": null,
            "flex_flow": null,
            "width": "28px",
            "min_width": null,
            "border": null,
            "align_items": null,
            "bottom": null,
            "_model_module": "@jupyter-widgets/base",
            "top": null,
            "grid_column": null,
            "overflow_y": null,
            "overflow_x": null,
            "grid_auto_flow": null,
            "grid_area": null,
            "grid_template_columns": null,
            "flex": null,
            "_model_name": "LayoutModel",
            "justify_items": null,
            "grid_row": null,
            "max_height": null,
            "align_content": null,
            "visibility": null,
            "align_self": null,
            "height": "28px",
            "min_height": null,
            "padding": "0px 0px 0px 4px",
            "grid_auto_rows": null,
            "grid_gap": null,
            "max_width": null,
            "order": null,
            "_view_module_version": "1.2.0",
            "grid_template_areas": null,
            "object_position": null,
            "object_fit": null,
            "grid_auto_columns": null,
            "margin": null,
            "display": null,
            "left": null
          }
        },
        "7e92f40ebf734ffb96f65f8620f59e8b": {
          "model_module": "@jupyter-widgets/controls",
          "model_name": "DescriptionStyleModel",
          "model_module_version": "1.5.0",
          "state": {
            "_view_name": "StyleView",
            "_model_name": "DescriptionStyleModel",
            "description_width": "",
            "_view_module": "@jupyter-widgets/base",
            "_model_module_version": "1.5.0",
            "_view_count": null,
            "_view_module_version": "1.2.0",
            "_model_module": "@jupyter-widgets/controls"
          }
        },
        "4c3eb19ae13147508189887ddce73963": {
          "model_module": "@jupyter-widgets/base",
          "model_name": "LayoutModel",
          "model_module_version": "1.2.0",
          "state": {
            "_view_name": "LayoutView",
            "grid_template_rows": null,
            "right": null,
            "justify_content": null,
            "_view_module": "@jupyter-widgets/base",
            "overflow": null,
            "_model_module_version": "1.2.0",
            "_view_count": null,
            "flex_flow": null,
            "width": "28px",
            "min_width": null,
            "border": null,
            "align_items": null,
            "bottom": null,
            "_model_module": "@jupyter-widgets/base",
            "top": null,
            "grid_column": null,
            "overflow_y": null,
            "overflow_x": null,
            "grid_auto_flow": null,
            "grid_area": null,
            "grid_template_columns": null,
            "flex": null,
            "_model_name": "LayoutModel",
            "justify_items": null,
            "grid_row": null,
            "max_height": null,
            "align_content": null,
            "visibility": null,
            "align_self": null,
            "height": "28px",
            "min_height": null,
            "padding": "0px 0px 0px 4px",
            "grid_auto_rows": null,
            "grid_gap": null,
            "max_width": null,
            "order": null,
            "_view_module_version": "1.2.0",
            "grid_template_areas": null,
            "object_position": null,
            "object_fit": null,
            "grid_auto_columns": null,
            "margin": null,
            "display": null,
            "left": null
          }
        },
        "bc7add31fd0543219880dd56b629fffe": {
          "model_module": "jupyter-leaflet",
          "model_name": "LeafletTileLayerModel",
          "model_module_version": "^0.14.0",
          "state": {
            "_view_name": "LeafletTileLayerView",
            "_view_module": "jupyter-leaflet",
            "max_zoom": 18,
            "_model_module_version": "^0.14.0",
            "_view_count": null,
            "visible": true,
            "min_zoom": 0,
            "tms": false,
            "_model_module": "jupyter-leaflet",
            "loading": false,
            "bottom": true,
            "no_wrap": false,
            "tile_size": 256,
            "popup_min_width": 50,
            "opacity": 1,
            "popup": null,
            "attribution": "Google Earth Engine",
            "_model_name": "LeafletTileLayerModel",
            "max_native_zoom": 18,
            "base": false,
            "min_native_zoom": 0,
            "show_loading": false,
            "name": "NDVI image",
            "url": "https://earthengine.googleapis.com/v1alpha/projects/earthengine-legacy/maps/de058260efeaa84fdcc0ff00b6477603-f2293102c9195de51f1f7f305fccfc7a/tiles/{z}/{x}/{y}",
            "popup_max_height": null,
            "popup_max_width": 300,
            "detect_retina": false,
            "_view_module_version": "^0.14.0",
            "options": [
              "attribution",
              "detect_retina",
              "max_native_zoom",
              "max_zoom",
              "min_native_zoom",
              "min_zoom",
              "no_wrap",
              "tile_size",
              "tms"
            ]
          }
        },
        "a2fc65a28877401aa6eaf9b1822637bf": {
          "model_module": "jupyter-leaflet",
          "model_name": "LeafletTileLayerModel",
          "model_module_version": "^0.14.0",
          "state": {
            "_view_name": "LeafletTileLayerView",
            "_view_module": "jupyter-leaflet",
            "max_zoom": 18,
            "_model_module_version": "^0.14.0",
            "_view_count": null,
            "visible": true,
            "min_zoom": 0,
            "tms": false,
            "_model_module": "jupyter-leaflet",
            "loading": false,
            "bottom": true,
            "no_wrap": false,
            "tile_size": 256,
            "popup_min_width": 50,
            "opacity": 1,
            "popup": null,
            "attribution": "Google Earth Engine",
            "_model_name": "LeafletTileLayerModel",
            "max_native_zoom": 18,
            "base": false,
            "min_native_zoom": 0,
            "show_loading": false,
            "name": "EVI image",
            "url": "https://earthengine.googleapis.com/v1alpha/projects/earthengine-legacy/maps/ed338932a6038305344fedd8ee026e72-aaa73ceddae5caee6a623e409467b871/tiles/{z}/{x}/{y}",
            "popup_max_height": null,
            "popup_max_width": 300,
            "detect_retina": false,
            "_view_module_version": "^0.14.0",
            "options": [
              "attribution",
              "detect_retina",
              "max_native_zoom",
              "max_zoom",
              "min_native_zoom",
              "min_zoom",
              "no_wrap",
              "tile_size",
              "tms"
            ]
          }
        },
        "2707e8507d884a37ad2525d4f8fe67e3": {
          "model_module": "@jupyter-widgets/output",
          "model_name": "OutputModel",
          "model_module_version": "1.0.0",
          "state": {
            "_view_name": "OutputView",
            "msg_id": "",
            "_dom_classes": [],
            "_model_name": "OutputModel",
            "outputs": [
              {
                "output_type": "stream",
                "name": "stdout",
                "text": [
                  "Computing...\n"
                ]
              },
              {
                "output_type": "stream",
                "name": "stdout",
                "text": [
                  "<class 'geemap.geemap.Map'>\n"
                ]
              }
            ],
            "_view_module": "@jupyter-widgets/output",
            "_model_module_version": "1.0.0",
            "_view_count": null,
            "_view_module_version": "1.0.0",
            "layout": "IPY_MODEL_fe5e6a6b7cb449feb3159d7f7481559f",
            "_model_module": "@jupyter-widgets/output"
          }
        },
        "1f555eb4a37b43acb2de990ab08b349f": {
          "model_module": "@jupyter-widgets/controls",
          "model_name": "HBoxModel",
          "model_module_version": "1.5.0",
          "state": {
            "_view_name": "HBoxView",
            "_dom_classes": [],
            "_model_name": "HBoxModel",
            "_view_module": "@jupyter-widgets/controls",
            "_model_module_version": "1.5.0",
            "_view_count": null,
            "_view_module_version": "1.5.0",
            "box_style": "",
            "layout": "IPY_MODEL_62fb6dfb702e42bdb11d210531c41de1",
            "_model_module": "@jupyter-widgets/controls",
            "children": [
              "IPY_MODEL_c44fe50c1f6944e0800bd7e78e4e601c",
              "IPY_MODEL_9846d95acfd341da96d67697f36fb293",
              "IPY_MODEL_1fad800dc9fe4a7fb8472c7c9efc330d",
              "IPY_MODEL_a77f1156c19740bf8c67164973369624",
              "IPY_MODEL_2b3b0af64bef499e9799e0efedf6bc4d"
            ]
          }
        },
        "62fb6dfb702e42bdb11d210531c41de1": {
          "model_module": "@jupyter-widgets/base",
          "model_name": "LayoutModel",
          "model_module_version": "1.2.0",
          "state": {
            "_view_name": "LayoutView",
            "grid_template_rows": null,
            "right": null,
            "justify_content": null,
            "_view_module": "@jupyter-widgets/base",
            "overflow": null,
            "_model_module_version": "1.2.0",
            "_view_count": null,
            "flex_flow": null,
            "width": null,
            "min_width": null,
            "border": null,
            "align_items": null,
            "bottom": null,
            "_model_module": "@jupyter-widgets/base",
            "top": null,
            "grid_column": null,
            "overflow_y": null,
            "overflow_x": null,
            "grid_auto_flow": null,
            "grid_area": null,
            "grid_template_columns": null,
            "flex": null,
            "_model_name": "LayoutModel",
            "justify_items": null,
            "grid_row": null,
            "max_height": null,
            "align_content": null,
            "visibility": null,
            "align_self": null,
            "height": null,
            "min_height": null,
            "padding": null,
            "grid_auto_rows": null,
            "grid_gap": null,
            "max_width": null,
            "order": null,
            "_view_module_version": "1.2.0",
            "grid_template_areas": null,
            "object_position": null,
            "object_fit": null,
            "grid_auto_columns": null,
            "margin": null,
            "display": null,
            "left": null
          }
        },
        "c44fe50c1f6944e0800bd7e78e4e601c": {
          "model_module": "@jupyter-widgets/controls",
          "model_name": "IntSliderModel",
          "model_module_version": "1.5.0",
          "state": {
            "_view_name": "IntSliderView",
            "style": "IPY_MODEL_451141ee1e4c4ab5b9867cbf83b31b7f",
            "_dom_classes": [],
            "description": "Start Year:",
            "step": 1,
            "_model_name": "IntSliderModel",
            "orientation": "horizontal",
            "max": 2020,
            "_view_module": "@jupyter-widgets/controls",
            "_model_module_version": "1.5.0",
            "value": 1984,
            "_view_count": null,
            "disabled": false,
            "_view_module_version": "1.5.0",
            "min": 1984,
            "continuous_update": true,
            "readout_format": "d",
            "description_tooltip": null,
            "readout": true,
            "_model_module": "@jupyter-widgets/controls",
            "layout": "IPY_MODEL_566eae4567cb49d3938eba04bda34dd7"
          }
        },
        "9846d95acfd341da96d67697f36fb293": {
          "model_module": "@jupyter-widgets/controls",
          "model_name": "IntSliderModel",
          "model_module_version": "1.5.0",
          "state": {
            "_view_name": "IntSliderView",
            "style": "IPY_MODEL_265d18b1b63e4e51826faa0ca5208446",
            "_dom_classes": [],
            "description": "End Year:",
            "step": 1,
            "_model_name": "IntSliderModel",
            "orientation": "horizontal",
            "max": 2020,
            "_view_module": "@jupyter-widgets/controls",
            "_model_module_version": "1.5.0",
            "value": 2020,
            "_view_count": null,
            "disabled": false,
            "_view_module_version": "1.5.0",
            "min": 1984,
            "continuous_update": true,
            "readout_format": "d",
            "description_tooltip": null,
            "readout": true,
            "_model_module": "@jupyter-widgets/controls",
            "layout": "IPY_MODEL_2b941bc7c0d14c42819462363148eb98"
          }
        },
        "1fad800dc9fe4a7fb8472c7c9efc330d": {
          "model_module": "@jupyter-widgets/controls",
          "model_name": "IntSliderModel",
          "model_module_version": "1.5.0",
          "state": {
            "_view_name": "IntSliderView",
            "style": "IPY_MODEL_4efd75cf9d5c41d79ccebd948b1bc166",
            "_dom_classes": [],
            "description": "Start Month:",
            "step": 1,
            "_model_name": "IntSliderModel",
            "orientation": "horizontal",
            "max": 12,
            "_view_module": "@jupyter-widgets/controls",
            "_model_module_version": "1.5.0",
            "value": 5,
            "_view_count": null,
            "disabled": false,
            "_view_module_version": "1.5.0",
            "min": 1,
            "continuous_update": true,
            "readout_format": "d",
            "description_tooltip": null,
            "readout": true,
            "_model_module": "@jupyter-widgets/controls",
            "layout": "IPY_MODEL_ef7210e2df4b416aa279259ee39cb51c"
          }
        },
        "a77f1156c19740bf8c67164973369624": {
          "model_module": "@jupyter-widgets/controls",
          "model_name": "IntSliderModel",
          "model_module_version": "1.5.0",
          "state": {
            "_view_name": "IntSliderView",
            "style": "IPY_MODEL_290e72a4622244449d638e1d44564cf1",
            "_dom_classes": [],
            "description": "End Month:",
            "step": 1,
            "_model_name": "IntSliderModel",
            "orientation": "horizontal",
            "max": 12,
            "_view_module": "@jupyter-widgets/controls",
            "_model_module_version": "1.5.0",
            "value": 10,
            "_view_count": null,
            "disabled": false,
            "_view_module_version": "1.5.0",
            "min": 1,
            "continuous_update": true,
            "readout_format": "d",
            "description_tooltip": null,
            "readout": true,
            "_model_module": "@jupyter-widgets/controls",
            "layout": "IPY_MODEL_276af08693c14220892e4d22dd25abba"
          }
        },
        "2b3b0af64bef499e9799e0efedf6bc4d": {
          "model_module": "@jupyter-widgets/controls",
          "model_name": "DropdownModel",
          "model_module_version": "1.5.0",
          "state": {
            "_options_labels": [
              "NDVI",
              "EVI"
            ],
            "_view_name": "DropdownView",
            "style": "IPY_MODEL_6fea9e5dc0244950898704816c8db30c",
            "_dom_classes": [],
            "description": "Index:",
            "_model_name": "DropdownModel",
            "index": 0,
            "_view_module": "@jupyter-widgets/controls",
            "_model_module_version": "1.5.0",
            "_view_count": null,
            "disabled": false,
            "_view_module_version": "1.5.0",
            "description_tooltip": null,
            "_model_module": "@jupyter-widgets/controls",
            "layout": "IPY_MODEL_293cd0566a984529b29fb010312dae05"
          }
        },
        "451141ee1e4c4ab5b9867cbf83b31b7f": {
          "model_module": "@jupyter-widgets/controls",
          "model_name": "SliderStyleModel",
          "model_module_version": "1.5.0",
          "state": {
            "_view_name": "StyleView",
            "handle_color": null,
            "_model_name": "SliderStyleModel",
            "description_width": "initial",
            "_view_module": "@jupyter-widgets/base",
            "_model_module_version": "1.5.0",
            "_view_count": null,
            "_view_module_version": "1.2.0",
            "_model_module": "@jupyter-widgets/controls"
          }
        },
        "566eae4567cb49d3938eba04bda34dd7": {
          "model_module": "@jupyter-widgets/base",
          "model_name": "LayoutModel",
          "model_module_version": "1.2.0",
          "state": {
            "_view_name": "LayoutView",
            "grid_template_rows": null,
            "right": null,
            "justify_content": null,
            "_view_module": "@jupyter-widgets/base",
            "overflow": null,
            "_model_module_version": "1.2.0",
            "_view_count": null,
            "flex_flow": null,
            "width": null,
            "min_width": null,
            "border": null,
            "align_items": null,
            "bottom": null,
            "_model_module": "@jupyter-widgets/base",
            "top": null,
            "grid_column": null,
            "overflow_y": null,
            "overflow_x": null,
            "grid_auto_flow": null,
            "grid_area": null,
            "grid_template_columns": null,
            "flex": null,
            "_model_name": "LayoutModel",
            "justify_items": null,
            "grid_row": null,
            "max_height": null,
            "align_content": null,
            "visibility": null,
            "align_self": null,
            "height": null,
            "min_height": null,
            "padding": null,
            "grid_auto_rows": null,
            "grid_gap": null,
            "max_width": null,
            "order": null,
            "_view_module_version": "1.2.0",
            "grid_template_areas": null,
            "object_position": null,
            "object_fit": null,
            "grid_auto_columns": null,
            "margin": null,
            "display": null,
            "left": null
          }
        },
        "265d18b1b63e4e51826faa0ca5208446": {
          "model_module": "@jupyter-widgets/controls",
          "model_name": "SliderStyleModel",
          "model_module_version": "1.5.0",
          "state": {
            "_view_name": "StyleView",
            "handle_color": null,
            "_model_name": "SliderStyleModel",
            "description_width": "initial",
            "_view_module": "@jupyter-widgets/base",
            "_model_module_version": "1.5.0",
            "_view_count": null,
            "_view_module_version": "1.2.0",
            "_model_module": "@jupyter-widgets/controls"
          }
        },
        "2b941bc7c0d14c42819462363148eb98": {
          "model_module": "@jupyter-widgets/base",
          "model_name": "LayoutModel",
          "model_module_version": "1.2.0",
          "state": {
            "_view_name": "LayoutView",
            "grid_template_rows": null,
            "right": null,
            "justify_content": null,
            "_view_module": "@jupyter-widgets/base",
            "overflow": null,
            "_model_module_version": "1.2.0",
            "_view_count": null,
            "flex_flow": null,
            "width": null,
            "min_width": null,
            "border": null,
            "align_items": null,
            "bottom": null,
            "_model_module": "@jupyter-widgets/base",
            "top": null,
            "grid_column": null,
            "overflow_y": null,
            "overflow_x": null,
            "grid_auto_flow": null,
            "grid_area": null,
            "grid_template_columns": null,
            "flex": null,
            "_model_name": "LayoutModel",
            "justify_items": null,
            "grid_row": null,
            "max_height": null,
            "align_content": null,
            "visibility": null,
            "align_self": null,
            "height": null,
            "min_height": null,
            "padding": null,
            "grid_auto_rows": null,
            "grid_gap": null,
            "max_width": null,
            "order": null,
            "_view_module_version": "1.2.0",
            "grid_template_areas": null,
            "object_position": null,
            "object_fit": null,
            "grid_auto_columns": null,
            "margin": null,
            "display": null,
            "left": null
          }
        },
        "4efd75cf9d5c41d79ccebd948b1bc166": {
          "model_module": "@jupyter-widgets/controls",
          "model_name": "SliderStyleModel",
          "model_module_version": "1.5.0",
          "state": {
            "_view_name": "StyleView",
            "handle_color": null,
            "_model_name": "SliderStyleModel",
            "description_width": "initial",
            "_view_module": "@jupyter-widgets/base",
            "_model_module_version": "1.5.0",
            "_view_count": null,
            "_view_module_version": "1.2.0",
            "_model_module": "@jupyter-widgets/controls"
          }
        },
        "ef7210e2df4b416aa279259ee39cb51c": {
          "model_module": "@jupyter-widgets/base",
          "model_name": "LayoutModel",
          "model_module_version": "1.2.0",
          "state": {
            "_view_name": "LayoutView",
            "grid_template_rows": null,
            "right": null,
            "justify_content": null,
            "_view_module": "@jupyter-widgets/base",
            "overflow": null,
            "_model_module_version": "1.2.0",
            "_view_count": null,
            "flex_flow": null,
            "width": null,
            "min_width": null,
            "border": null,
            "align_items": null,
            "bottom": null,
            "_model_module": "@jupyter-widgets/base",
            "top": null,
            "grid_column": null,
            "overflow_y": null,
            "overflow_x": null,
            "grid_auto_flow": null,
            "grid_area": null,
            "grid_template_columns": null,
            "flex": null,
            "_model_name": "LayoutModel",
            "justify_items": null,
            "grid_row": null,
            "max_height": null,
            "align_content": null,
            "visibility": null,
            "align_self": null,
            "height": null,
            "min_height": null,
            "padding": null,
            "grid_auto_rows": null,
            "grid_gap": null,
            "max_width": null,
            "order": null,
            "_view_module_version": "1.2.0",
            "grid_template_areas": null,
            "object_position": null,
            "object_fit": null,
            "grid_auto_columns": null,
            "margin": null,
            "display": null,
            "left": null
          }
        },
        "290e72a4622244449d638e1d44564cf1": {
          "model_module": "@jupyter-widgets/controls",
          "model_name": "SliderStyleModel",
          "model_module_version": "1.5.0",
          "state": {
            "_view_name": "StyleView",
            "handle_color": null,
            "_model_name": "SliderStyleModel",
            "description_width": "initial",
            "_view_module": "@jupyter-widgets/base",
            "_model_module_version": "1.5.0",
            "_view_count": null,
            "_view_module_version": "1.2.0",
            "_model_module": "@jupyter-widgets/controls"
          }
        },
        "276af08693c14220892e4d22dd25abba": {
          "model_module": "@jupyter-widgets/base",
          "model_name": "LayoutModel",
          "model_module_version": "1.2.0",
          "state": {
            "_view_name": "LayoutView",
            "grid_template_rows": null,
            "right": null,
            "justify_content": null,
            "_view_module": "@jupyter-widgets/base",
            "overflow": null,
            "_model_module_version": "1.2.0",
            "_view_count": null,
            "flex_flow": null,
            "width": null,
            "min_width": null,
            "border": null,
            "align_items": null,
            "bottom": null,
            "_model_module": "@jupyter-widgets/base",
            "top": null,
            "grid_column": null,
            "overflow_y": null,
            "overflow_x": null,
            "grid_auto_flow": null,
            "grid_area": null,
            "grid_template_columns": null,
            "flex": null,
            "_model_name": "LayoutModel",
            "justify_items": null,
            "grid_row": null,
            "max_height": null,
            "align_content": null,
            "visibility": null,
            "align_self": null,
            "height": null,
            "min_height": null,
            "padding": null,
            "grid_auto_rows": null,
            "grid_gap": null,
            "max_width": null,
            "order": null,
            "_view_module_version": "1.2.0",
            "grid_template_areas": null,
            "object_position": null,
            "object_fit": null,
            "grid_auto_columns": null,
            "margin": null,
            "display": null,
            "left": null
          }
        },
        "6fea9e5dc0244950898704816c8db30c": {
          "model_module": "@jupyter-widgets/controls",
          "model_name": "DescriptionStyleModel",
          "model_module_version": "1.5.0",
          "state": {
            "_view_name": "StyleView",
            "_model_name": "DescriptionStyleModel",
            "description_width": "",
            "_view_module": "@jupyter-widgets/base",
            "_model_module_version": "1.5.0",
            "_view_count": null,
            "_view_module_version": "1.2.0",
            "_model_module": "@jupyter-widgets/controls"
          }
        },
        "293cd0566a984529b29fb010312dae05": {
          "model_module": "@jupyter-widgets/base",
          "model_name": "LayoutModel",
          "model_module_version": "1.2.0",
          "state": {
            "_view_name": "LayoutView",
            "grid_template_rows": null,
            "right": null,
            "justify_content": null,
            "_view_module": "@jupyter-widgets/base",
            "overflow": null,
            "_model_module_version": "1.2.0",
            "_view_count": null,
            "flex_flow": null,
            "width": null,
            "min_width": null,
            "border": null,
            "align_items": null,
            "bottom": null,
            "_model_module": "@jupyter-widgets/base",
            "top": null,
            "grid_column": null,
            "overflow_y": null,
            "overflow_x": null,
            "grid_auto_flow": null,
            "grid_area": null,
            "grid_template_columns": null,
            "flex": null,
            "_model_name": "LayoutModel",
            "justify_items": null,
            "grid_row": null,
            "max_height": null,
            "align_content": null,
            "visibility": null,
            "align_self": null,
            "height": null,
            "min_height": null,
            "padding": null,
            "grid_auto_rows": null,
            "grid_gap": null,
            "max_width": null,
            "order": null,
            "_view_module_version": "1.2.0",
            "grid_template_areas": null,
            "object_position": null,
            "object_fit": null,
            "grid_auto_columns": null,
            "margin": null,
            "display": null,
            "left": null
          }
        },
        "556a80ca5fef460596b8a5131572691e": {
          "model_module": "@jupyter-widgets/controls",
          "model_name": "HBoxModel",
          "model_module_version": "1.5.0",
          "state": {
            "_view_name": "HBoxView",
            "_dom_classes": [],
            "_model_name": "HBoxModel",
            "_view_module": "@jupyter-widgets/controls",
            "_model_module_version": "1.5.0",
            "_view_count": null,
            "_view_module_version": "1.5.0",
            "box_style": "",
            "layout": "IPY_MODEL_e9055b79cdd443be9f37b840ecd58c4c",
            "_model_module": "@jupyter-widgets/controls",
            "children": [
              "IPY_MODEL_2c6bee62eccf4dc79997de0dfcf3915d"
            ]
          }
        },
        "e9055b79cdd443be9f37b840ecd58c4c": {
          "model_module": "@jupyter-widgets/base",
          "model_name": "LayoutModel",
          "model_module_version": "1.2.0",
          "state": {
            "_view_name": "LayoutView",
            "grid_template_rows": null,
            "right": null,
            "justify_content": null,
            "_view_module": "@jupyter-widgets/base",
            "overflow": null,
            "_model_module_version": "1.2.0",
            "_view_count": null,
            "flex_flow": null,
            "width": null,
            "min_width": null,
            "border": null,
            "align_items": null,
            "bottom": null,
            "_model_module": "@jupyter-widgets/base",
            "top": null,
            "grid_column": null,
            "overflow_y": null,
            "overflow_x": null,
            "grid_auto_flow": null,
            "grid_area": null,
            "grid_template_columns": null,
            "flex": null,
            "_model_name": "LayoutModel",
            "justify_items": null,
            "grid_row": null,
            "max_height": null,
            "align_content": null,
            "visibility": null,
            "align_self": null,
            "height": null,
            "min_height": null,
            "padding": null,
            "grid_auto_rows": null,
            "grid_gap": null,
            "max_width": null,
            "order": null,
            "_view_module_version": "1.2.0",
            "grid_template_areas": null,
            "object_position": null,
            "object_fit": null,
            "grid_auto_columns": null,
            "margin": null,
            "display": null,
            "left": null
          }
        },
        "2c6bee62eccf4dc79997de0dfcf3915d": {
          "model_module": "@jupyter-widgets/controls",
          "model_name": "ButtonModel",
          "model_module_version": "1.5.0",
          "state": {
            "_view_name": "ButtonView",
            "style": "IPY_MODEL_29c599a3f99e4118910f6f40ed0b3fe4",
            "_dom_classes": [],
            "description": "Create timelapse",
            "_model_name": "ButtonModel",
            "button_style": "primary",
            "_view_module": "@jupyter-widgets/controls",
            "_model_module_version": "1.5.0",
            "tooltip": "Click to create timelapse",
            "_view_count": null,
            "disabled": false,
            "_view_module_version": "1.5.0",
            "layout": "IPY_MODEL_9de1525cd8394fff9d96d8a04434595c",
            "_model_module": "@jupyter-widgets/controls",
            "icon": ""
          }
        },
        "29c599a3f99e4118910f6f40ed0b3fe4": {
          "model_module": "@jupyter-widgets/controls",
          "model_name": "ButtonStyleModel",
          "model_module_version": "1.5.0",
          "state": {
            "_view_name": "StyleView",
            "_model_name": "ButtonStyleModel",
            "_view_module": "@jupyter-widgets/base",
            "_model_module_version": "1.5.0",
            "_view_count": null,
            "button_color": null,
            "font_weight": "",
            "_view_module_version": "1.2.0",
            "_model_module": "@jupyter-widgets/controls"
          }
        },
        "9de1525cd8394fff9d96d8a04434595c": {
          "model_module": "@jupyter-widgets/base",
          "model_name": "LayoutModel",
          "model_module_version": "1.2.0",
          "state": {
            "_view_name": "LayoutView",
            "grid_template_rows": null,
            "right": null,
            "justify_content": null,
            "_view_module": "@jupyter-widgets/base",
            "overflow": null,
            "_model_module_version": "1.2.0",
            "_view_count": null,
            "flex_flow": null,
            "width": null,
            "min_width": null,
            "border": null,
            "align_items": null,
            "bottom": null,
            "_model_module": "@jupyter-widgets/base",
            "top": null,
            "grid_column": null,
            "overflow_y": null,
            "overflow_x": null,
            "grid_auto_flow": null,
            "grid_area": null,
            "grid_template_columns": null,
            "flex": null,
            "_model_name": "LayoutModel",
            "justify_items": null,
            "grid_row": null,
            "max_height": null,
            "align_content": null,
            "visibility": null,
            "align_self": null,
            "height": null,
            "min_height": null,
            "padding": null,
            "grid_auto_rows": null,
            "grid_gap": null,
            "max_width": null,
            "order": null,
            "_view_module_version": "1.2.0",
            "grid_template_areas": null,
            "object_position": null,
            "object_fit": null,
            "grid_auto_columns": null,
            "margin": null,
            "display": null,
            "left": null
          }
        },
        "6680a80cd5074d8a8de6944f6b43b85f": {
          "model_module": "@jupyter-widgets/controls",
          "model_name": "ButtonStyleModel",
          "model_module_version": "1.5.0",
          "state": {
            "_view_name": "StyleView",
            "_model_name": "ButtonStyleModel",
            "_view_module": "@jupyter-widgets/base",
            "_model_module_version": "1.5.0",
            "_view_count": null,
            "button_color": null,
            "font_weight": "",
            "_view_module_version": "1.2.0",
            "_model_module": "@jupyter-widgets/controls"
          }
        },
        "ddd43f83867e431b8185a882a0ff5202": {
          "model_module": "@jupyter-widgets/base",
          "model_name": "LayoutModel",
          "model_module_version": "1.2.0",
          "state": {
            "_view_name": "LayoutView",
            "grid_template_rows": null,
            "right": null,
            "justify_content": null,
            "_view_module": "@jupyter-widgets/base",
            "overflow": null,
            "_model_module_version": "1.2.0",
            "_view_count": null,
            "flex_flow": null,
            "width": null,
            "min_width": null,
            "border": null,
            "align_items": null,
            "bottom": null,
            "_model_module": "@jupyter-widgets/base",
            "top": null,
            "grid_column": null,
            "overflow_y": null,
            "overflow_x": null,
            "grid_auto_flow": null,
            "grid_area": null,
            "grid_template_columns": null,
            "flex": null,
            "_model_name": "LayoutModel",
            "justify_items": null,
            "grid_row": null,
            "max_height": null,
            "align_content": null,
            "visibility": null,
            "align_self": null,
            "height": null,
            "min_height": null,
            "padding": null,
            "grid_auto_rows": null,
            "grid_gap": null,
            "max_width": null,
            "order": null,
            "_view_module_version": "1.2.0",
            "grid_template_areas": null,
            "object_position": null,
            "object_fit": null,
            "grid_auto_columns": null,
            "margin": null,
            "display": null,
            "left": null
          }
        },
        "57b0889113b44479aa80fd624090e6b7": {
          "model_module": "@jupyter-widgets/base",
          "model_name": "LayoutModel",
          "model_module_version": "1.2.0",
          "state": {
            "_view_name": "LayoutView",
            "grid_template_rows": null,
            "right": null,
            "justify_content": null,
            "_view_module": "@jupyter-widgets/base",
            "overflow": null,
            "_model_module_version": "1.2.0",
            "_view_count": null,
            "flex_flow": null,
            "width": null,
            "min_width": null,
            "border": null,
            "align_items": null,
            "bottom": null,
            "_model_module": "@jupyter-widgets/base",
            "top": null,
            "grid_column": null,
            "overflow_y": null,
            "overflow_x": null,
            "grid_auto_flow": null,
            "grid_area": null,
            "grid_template_columns": null,
            "flex": null,
            "_model_name": "LayoutModel",
            "justify_items": null,
            "grid_row": null,
            "max_height": null,
            "align_content": null,
            "visibility": null,
            "align_self": null,
            "height": null,
            "min_height": null,
            "padding": null,
            "grid_auto_rows": null,
            "grid_gap": null,
            "max_width": null,
            "order": null,
            "_view_module_version": "1.2.0",
            "grid_template_areas": null,
            "object_position": null,
            "object_fit": null,
            "grid_auto_columns": null,
            "margin": null,
            "display": null,
            "left": null
          }
        },
        "77f642b43ed946de985b60c8b38bfe44": {
          "model_module": "@jupyter-widgets/output",
          "model_name": "OutputModel",
          "model_module_version": "1.0.0",
          "state": {
            "_view_name": "OutputView",
            "msg_id": "",
            "_dom_classes": [],
            "_model_name": "OutputModel",
            "outputs": [],
            "_view_module": "@jupyter-widgets/output",
            "_model_module_version": "1.0.0",
            "_view_count": null,
            "_view_module_version": "1.0.0",
            "layout": "IPY_MODEL_57b0889113b44479aa80fd624090e6b7",
            "_model_module": "@jupyter-widgets/output"
          }
        },
        "f5efef84b9fc45e288ef30a16649a72d": {
          "model_module": "@jupyter-widgets/controls",
          "model_name": "HTMLModel",
          "model_module_version": "1.5.0",
          "state": {
            "_view_name": "HTMLView",
            "style": "IPY_MODEL_90f7c8ff8a6849228f0751000e9fe518",
            "_dom_classes": [],
            "description": "",
            "_model_name": "HTMLModel",
            "placeholder": "​",
            "_view_module": "@jupyter-widgets/controls",
            "_model_module_version": "1.5.0",
            "value": "<embed src=data:image/svg+xml;charset=utf-8;base64,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 width=50%></embed>",
            "_view_count": null,
            "_view_module_version": "1.5.0",
            "description_tooltip": null,
            "_model_module": "@jupyter-widgets/controls",
            "layout": "IPY_MODEL_5424f026e2de4c1095316c3061c18302"
          }
        },
        "90f7c8ff8a6849228f0751000e9fe518": {
          "model_module": "@jupyter-widgets/controls",
          "model_name": "DescriptionStyleModel",
          "model_module_version": "1.5.0",
          "state": {
            "_view_name": "StyleView",
            "_model_name": "DescriptionStyleModel",
            "description_width": "",
            "_view_module": "@jupyter-widgets/base",
            "_model_module_version": "1.5.0",
            "_view_count": null,
            "_view_module_version": "1.2.0",
            "_model_module": "@jupyter-widgets/controls"
          }
        },
        "5424f026e2de4c1095316c3061c18302": {
          "model_module": "@jupyter-widgets/base",
          "model_name": "LayoutModel",
          "model_module_version": "1.2.0",
          "state": {
            "_view_name": "LayoutView",
            "grid_template_rows": null,
            "right": null,
            "justify_content": null,
            "_view_module": "@jupyter-widgets/base",
            "overflow": null,
            "_model_module_version": "1.2.0",
            "_view_count": null,
            "flex_flow": null,
            "width": null,
            "min_width": null,
            "border": null,
            "align_items": null,
            "bottom": null,
            "_model_module": "@jupyter-widgets/base",
            "top": null,
            "grid_column": null,
            "overflow_y": null,
            "overflow_x": null,
            "grid_auto_flow": null,
            "grid_area": null,
            "grid_template_columns": null,
            "flex": null,
            "_model_name": "LayoutModel",
            "justify_items": null,
            "grid_row": null,
            "max_height": null,
            "align_content": null,
            "visibility": null,
            "align_self": null,
            "height": null,
            "min_height": null,
            "padding": null,
            "grid_auto_rows": null,
            "grid_gap": null,
            "max_width": null,
            "order": null,
            "_view_module_version": "1.2.0",
            "grid_template_areas": null,
            "object_position": null,
            "object_fit": null,
            "grid_auto_columns": null,
            "margin": null,
            "display": null,
            "left": null
          }
        }
      }
    }
  },
  "cells": [
    {
      "cell_type": "markdown",
      "metadata": {
        "id": "kOXWgoVTVUe4"
      },
      "source": [
        "This Notebook contains NDVI and EVI maps using geemap, timelapse for vegitaion index, time series graphs of EVI and NDVI for Maharashtra state and widgets for taking user inputs"
      ]
    },
    {
      "cell_type": "code",
      "metadata": {
        "id": "BRQsQ9ch-Vgg",
        "colab": {
          "base_uri": "https://localhost:8080/"
        },
        "outputId": "2e63a390-14e5-4a97-997d-2339248db06c"
      },
      "source": [
        "!pip install geemap"
      ],
      "execution_count": 114,
      "outputs": [
        {
          "output_type": "stream",
          "name": "stdout",
          "text": [
            "Requirement already satisfied: geemap in /usr/local/lib/python3.7/dist-packages (0.9.4)\n",
            "Requirement already satisfied: ipyleaflet>=0.14.0 in /usr/local/lib/python3.7/dist-packages (from geemap) (0.14.0)\n",
            "Requirement already satisfied: jupyterlab>=3 in /usr/local/lib/python3.7/dist-packages (from geemap) (3.2.4)\n",
            "Requirement already satisfied: voila in /usr/local/lib/python3.7/dist-packages (from geemap) (0.2.16)\n",
            "Requirement already satisfied: bqplot in /usr/local/lib/python3.7/dist-packages (from geemap) (0.12.31)\n",
            "Requirement already satisfied: mss in /usr/local/lib/python3.7/dist-packages (from geemap) (6.1.0)\n",
            "Requirement already satisfied: xyzservices in /usr/local/lib/python3.7/dist-packages (from geemap) (2021.11.0)\n",
            "Requirement already satisfied: geocoder in /usr/local/lib/python3.7/dist-packages (from geemap) (1.38.1)\n",
            "Requirement already satisfied: click in /usr/local/lib/python3.7/dist-packages (from geemap) (7.1.2)\n",
            "Requirement already satisfied: owslib in /usr/local/lib/python3.7/dist-packages (from geemap) (0.25.0)\n",
            "Requirement already satisfied: numpy in /usr/local/lib/python3.7/dist-packages (from geemap) (1.19.5)\n",
            "Requirement already satisfied: folium>=0.11.0 in /usr/local/lib/python3.7/dist-packages (from geemap) (0.12.1.post1)\n",
            "Requirement already satisfied: ipyevents in /usr/local/lib/python3.7/dist-packages (from geemap) (2.0.1)\n",
            "Requirement already satisfied: googledrivedownloader in /usr/local/lib/python3.7/dist-packages (from geemap) (0.4)\n",
            "Requirement already satisfied: python-box in /usr/local/lib/python3.7/dist-packages (from geemap) (5.4.1)\n",
            "Requirement already satisfied: pillow in /usr/local/lib/python3.7/dist-packages (from geemap) (7.1.2)\n",
            "Requirement already satisfied: whiteboxgui>=0.6.0 in /usr/local/lib/python3.7/dist-packages (from geemap) (0.6.0)\n",
            "Requirement already satisfied: ffmpeg-python in /usr/local/lib/python3.7/dist-packages (from geemap) (0.2.0)\n",
            "Requirement already satisfied: pyshp>=2.1.3 in /usr/local/lib/python3.7/dist-packages (from geemap) (2.1.3)\n",
            "Requirement already satisfied: ipynb-py-convert in /usr/local/lib/python3.7/dist-packages (from geemap) (0.4.6)\n",
            "Requirement already satisfied: matplotlib in /usr/local/lib/python3.7/dist-packages (from geemap) (3.2.2)\n",
            "Requirement already satisfied: pycrs in /usr/local/lib/python3.7/dist-packages (from geemap) (1.0.2)\n",
            "Requirement already satisfied: ipyfilechooser>=0.6.0 in /usr/local/lib/python3.7/dist-packages (from geemap) (0.6.0)\n",
            "Requirement already satisfied: geeadd>=0.5.1 in /usr/local/lib/python3.7/dist-packages (from geemap) (0.5.5)\n",
            "Requirement already satisfied: ipytree in /usr/local/lib/python3.7/dist-packages (from geemap) (0.2.1)\n",
            "Requirement already satisfied: sankee in /usr/local/lib/python3.7/dist-packages (from geemap) (0.0.5)\n",
            "Requirement already satisfied: earthengine-api>=0.1.230 in /usr/local/lib/python3.7/dist-packages (from geemap) (0.1.290)\n",
            "Requirement already satisfied: colour in /usr/local/lib/python3.7/dist-packages (from geemap) (0.1.5)\n",
            "Requirement already satisfied: geojson in /usr/local/lib/python3.7/dist-packages (from geemap) (2.5.0)\n",
            "Requirement already satisfied: pandas in /usr/local/lib/python3.7/dist-packages (from geemap) (1.1.5)\n",
            "Requirement already satisfied: future in /usr/local/lib/python3.7/dist-packages (from earthengine-api>=0.1.230->geemap) (0.16.0)\n",
            "Requirement already satisfied: google-auth>=1.4.1 in /usr/local/lib/python3.7/dist-packages (from earthengine-api>=0.1.230->geemap) (1.35.0)\n",
            "Requirement already satisfied: httplib2shim in /usr/local/lib/python3.7/dist-packages (from earthengine-api>=0.1.230->geemap) (0.0.3)\n",
            "Requirement already satisfied: httplib2<1dev,>=0.9.2 in /usr/local/lib/python3.7/dist-packages (from earthengine-api>=0.1.230->geemap) (0.17.4)\n",
            "Requirement already satisfied: google-auth-httplib2>=0.0.3 in /usr/local/lib/python3.7/dist-packages (from earthengine-api>=0.1.230->geemap) (0.0.4)\n",
            "Requirement already satisfied: google-cloud-storage in /usr/local/lib/python3.7/dist-packages (from earthengine-api>=0.1.230->geemap) (1.18.1)\n",
            "Requirement already satisfied: google-api-python-client<2,>=1.12.1 in /usr/local/lib/python3.7/dist-packages (from earthengine-api>=0.1.230->geemap) (1.12.8)\n",
            "Requirement already satisfied: six in /usr/local/lib/python3.7/dist-packages (from earthengine-api>=0.1.230->geemap) (1.15.0)\n",
            "Requirement already satisfied: branca>=0.3.0 in /usr/local/lib/python3.7/dist-packages (from folium>=0.11.0->geemap) (0.4.2)\n",
            "Requirement already satisfied: requests in /usr/local/lib/python3.7/dist-packages (from folium>=0.11.0->geemap) (2.23.0)\n",
            "Requirement already satisfied: jinja2>=2.9 in /usr/local/lib/python3.7/dist-packages (from folium>=0.11.0->geemap) (2.11.3)\n",
            "Requirement already satisfied: logzero>=1.5.0 in /usr/local/lib/python3.7/dist-packages (from geeadd>=0.5.1->geemap) (1.7.0)\n",
            "Requirement already satisfied: beautifulsoup4>=4.9.0 in /usr/local/lib/python3.7/dist-packages (from geeadd>=0.5.1->geemap) (4.10.0)\n",
            "Requirement already satisfied: soupsieve>1.2 in /usr/local/lib/python3.7/dist-packages (from beautifulsoup4>=4.9.0->geeadd>=0.5.1->geemap) (2.3.1)\n",
            "Requirement already satisfied: google-api-core<2dev,>=1.21.0 in /usr/local/lib/python3.7/dist-packages (from google-api-python-client<2,>=1.12.1->earthengine-api>=0.1.230->geemap) (1.26.3)\n",
            "Requirement already satisfied: uritemplate<4dev,>=3.0.0 in /usr/local/lib/python3.7/dist-packages (from google-api-python-client<2,>=1.12.1->earthengine-api>=0.1.230->geemap) (3.0.1)\n",
            "Requirement already satisfied: packaging>=14.3 in /usr/local/lib/python3.7/dist-packages (from google-api-core<2dev,>=1.21.0->google-api-python-client<2,>=1.12.1->earthengine-api>=0.1.230->geemap) (21.3)\n",
            "Requirement already satisfied: protobuf>=3.12.0 in /usr/local/lib/python3.7/dist-packages (from google-api-core<2dev,>=1.21.0->google-api-python-client<2,>=1.12.1->earthengine-api>=0.1.230->geemap) (3.17.3)\n",
            "Requirement already satisfied: setuptools>=40.3.0 in /usr/local/lib/python3.7/dist-packages (from google-api-core<2dev,>=1.21.0->google-api-python-client<2,>=1.12.1->earthengine-api>=0.1.230->geemap) (57.4.0)\n",
            "Requirement already satisfied: googleapis-common-protos<2.0dev,>=1.6.0 in /usr/local/lib/python3.7/dist-packages (from google-api-core<2dev,>=1.21.0->google-api-python-client<2,>=1.12.1->earthengine-api>=0.1.230->geemap) (1.53.0)\n",
            "Requirement already satisfied: pytz in /usr/local/lib/python3.7/dist-packages (from google-api-core<2dev,>=1.21.0->google-api-python-client<2,>=1.12.1->earthengine-api>=0.1.230->geemap) (2018.9)\n",
            "Requirement already satisfied: rsa<5,>=3.1.4 in /usr/local/lib/python3.7/dist-packages (from google-auth>=1.4.1->earthengine-api>=0.1.230->geemap) (4.7.2)\n",
            "Requirement already satisfied: cachetools<5.0,>=2.0.0 in /usr/local/lib/python3.7/dist-packages (from google-auth>=1.4.1->earthengine-api>=0.1.230->geemap) (4.2.4)\n",
            "Requirement already satisfied: pyasn1-modules>=0.2.1 in /usr/local/lib/python3.7/dist-packages (from google-auth>=1.4.1->earthengine-api>=0.1.230->geemap) (0.2.8)\n",
            "Requirement already satisfied: ipywidgets in /usr/local/lib/python3.7/dist-packages (from ipyfilechooser>=0.6.0->geemap) (7.6.5)\n",
            "Requirement already satisfied: traittypes<3,>=0.2.1 in /usr/local/lib/python3.7/dist-packages (from ipyleaflet>=0.14.0->geemap) (0.2.1)\n",
            "Requirement already satisfied: traitlets>=4.3.1 in /usr/local/lib/python3.7/dist-packages (from ipywidgets->ipyfilechooser>=0.6.0->geemap) (5.1.1)\n",
            "Requirement already satisfied: ipython>=4.0.0 in /usr/local/lib/python3.7/dist-packages (from ipywidgets->ipyfilechooser>=0.6.0->geemap) (5.5.0)\n",
            "Requirement already satisfied: nbformat>=4.2.0 in /usr/local/lib/python3.7/dist-packages (from ipywidgets->ipyfilechooser>=0.6.0->geemap) (5.1.3)\n",
            "Requirement already satisfied: ipykernel>=4.5.1 in /usr/local/lib/python3.7/dist-packages (from ipywidgets->ipyfilechooser>=0.6.0->geemap) (4.10.1)\n",
            "Requirement already satisfied: jupyterlab-widgets>=1.0.0 in /usr/local/lib/python3.7/dist-packages (from ipywidgets->ipyfilechooser>=0.6.0->geemap) (1.0.2)\n",
            "Requirement already satisfied: widgetsnbextension~=3.5.0 in /usr/local/lib/python3.7/dist-packages (from ipywidgets->ipyfilechooser>=0.6.0->geemap) (3.5.2)\n",
            "Requirement already satisfied: ipython-genutils~=0.2.0 in /usr/local/lib/python3.7/dist-packages (from ipywidgets->ipyfilechooser>=0.6.0->geemap) (0.2.0)\n",
            "Requirement already satisfied: tornado>=4.0 in /usr/local/lib/python3.7/dist-packages (from ipykernel>=4.5.1->ipywidgets->ipyfilechooser>=0.6.0->geemap) (6.1)\n",
            "Requirement already satisfied: jupyter-client in /usr/local/lib/python3.7/dist-packages (from ipykernel>=4.5.1->ipywidgets->ipyfilechooser>=0.6.0->geemap) (6.1.12)\n",
            "Requirement already satisfied: decorator in /usr/local/lib/python3.7/dist-packages (from ipython>=4.0.0->ipywidgets->ipyfilechooser>=0.6.0->geemap) (4.4.2)\n",
            "Requirement already satisfied: pexpect in /usr/local/lib/python3.7/dist-packages (from ipython>=4.0.0->ipywidgets->ipyfilechooser>=0.6.0->geemap) (4.8.0)\n",
            "Requirement already satisfied: prompt-toolkit<2.0.0,>=1.0.4 in /usr/local/lib/python3.7/dist-packages (from ipython>=4.0.0->ipywidgets->ipyfilechooser>=0.6.0->geemap) (1.0.18)\n",
            "Requirement already satisfied: simplegeneric>0.8 in /usr/local/lib/python3.7/dist-packages (from ipython>=4.0.0->ipywidgets->ipyfilechooser>=0.6.0->geemap) (0.8.1)\n",
            "Requirement already satisfied: pickleshare in /usr/local/lib/python3.7/dist-packages (from ipython>=4.0.0->ipywidgets->ipyfilechooser>=0.6.0->geemap) (0.7.5)\n",
            "Requirement already satisfied: pygments in /usr/local/lib/python3.7/dist-packages (from ipython>=4.0.0->ipywidgets->ipyfilechooser>=0.6.0->geemap) (2.6.1)\n",
            "Requirement already satisfied: MarkupSafe>=0.23 in /usr/local/lib/python3.7/dist-packages (from jinja2>=2.9->folium>=0.11.0->geemap) (2.0.1)\n",
            "Requirement already satisfied: jupyter-core in /usr/local/lib/python3.7/dist-packages (from jupyterlab>=3->geemap) (4.9.1)\n",
            "Requirement already satisfied: nbclassic~=0.2 in /usr/local/lib/python3.7/dist-packages (from jupyterlab>=3->geemap) (0.3.4)\n",
            "Requirement already satisfied: jupyter-server~=1.4 in /usr/local/lib/python3.7/dist-packages (from jupyterlab>=3->geemap) (1.11.2)\n",
            "Requirement already satisfied: jupyterlab-server~=2.3 in /usr/local/lib/python3.7/dist-packages (from jupyterlab>=3->geemap) (2.8.2)\n",
            "Requirement already satisfied: websocket-client in /usr/local/lib/python3.7/dist-packages (from jupyter-server~=1.4->jupyterlab>=3->geemap) (1.2.1)\n",
            "Requirement already satisfied: terminado>=0.8.3 in /usr/local/lib/python3.7/dist-packages (from jupyter-server~=1.4->jupyterlab>=3->geemap) (0.12.1)\n",
            "Requirement already satisfied: pyzmq>=17 in /usr/local/lib/python3.7/dist-packages (from jupyter-server~=1.4->jupyterlab>=3->geemap) (22.3.0)\n",
            "Requirement already satisfied: nbconvert in /usr/local/lib/python3.7/dist-packages (from jupyter-server~=1.4->jupyterlab>=3->geemap) (6.3.0)\n",
            "Requirement already satisfied: prometheus-client in /usr/local/lib/python3.7/dist-packages (from jupyter-server~=1.4->jupyterlab>=3->geemap) (0.12.0)\n",
            "Requirement already satisfied: Send2Trash in /usr/local/lib/python3.7/dist-packages (from jupyter-server~=1.4->jupyterlab>=3->geemap) (1.8.0)\n",
            "Requirement already satisfied: anyio<4,>=3.1.0 in /usr/local/lib/python3.7/dist-packages (from jupyter-server~=1.4->jupyterlab>=3->geemap) (3.3.4)\n",
            "Requirement already satisfied: argon2-cffi in /usr/local/lib/python3.7/dist-packages (from jupyter-server~=1.4->jupyterlab>=3->geemap) (21.1.0)\n",
            "Requirement already satisfied: sniffio>=1.1 in /usr/local/lib/python3.7/dist-packages (from anyio<4,>=3.1.0->jupyter-server~=1.4->jupyterlab>=3->geemap) (1.2.0)\n",
            "Requirement already satisfied: idna>=2.8 in /usr/local/lib/python3.7/dist-packages (from anyio<4,>=3.1.0->jupyter-server~=1.4->jupyterlab>=3->geemap) (2.10)\n",
            "Requirement already satisfied: typing-extensions in /usr/local/lib/python3.7/dist-packages (from anyio<4,>=3.1.0->jupyter-server~=1.4->jupyterlab>=3->geemap) (3.10.0.2)\n",
            "Requirement already satisfied: python-dateutil>=2.1 in /usr/local/lib/python3.7/dist-packages (from jupyter-client->ipykernel>=4.5.1->ipywidgets->ipyfilechooser>=0.6.0->geemap) (2.8.2)\n",
            "Requirement already satisfied: json5 in /usr/local/lib/python3.7/dist-packages (from jupyterlab-server~=2.3->jupyterlab>=3->geemap) (0.9.6)\n",
            "Requirement already satisfied: babel in /usr/local/lib/python3.7/dist-packages (from jupyterlab-server~=2.3->jupyterlab>=3->geemap) (2.9.1)\n",
            "Requirement already satisfied: jsonschema>=3.0.1 in /usr/local/lib/python3.7/dist-packages (from jupyterlab-server~=2.3->jupyterlab>=3->geemap) (4.2.1)\n",
            "Requirement already satisfied: entrypoints>=0.2.2 in /usr/local/lib/python3.7/dist-packages (from jupyterlab-server~=2.3->jupyterlab>=3->geemap) (0.3)\n",
            "Requirement already satisfied: importlib-resources>=1.4.0 in /usr/local/lib/python3.7/dist-packages (from jsonschema>=3.0.1->jupyterlab-server~=2.3->jupyterlab>=3->geemap) (5.4.0)\n",
            "Requirement already satisfied: pyrsistent!=0.17.0,!=0.17.1,!=0.17.2,>=0.14.0 in /usr/local/lib/python3.7/dist-packages (from jsonschema>=3.0.1->jupyterlab-server~=2.3->jupyterlab>=3->geemap) (0.18.0)\n",
            "Requirement already satisfied: attrs>=17.4.0 in /usr/local/lib/python3.7/dist-packages (from jsonschema>=3.0.1->jupyterlab-server~=2.3->jupyterlab>=3->geemap) (21.2.0)\n",
            "Requirement already satisfied: importlib-metadata in /usr/local/lib/python3.7/dist-packages (from jsonschema>=3.0.1->jupyterlab-server~=2.3->jupyterlab>=3->geemap) (4.8.2)\n",
            "Requirement already satisfied: zipp>=3.1.0 in /usr/local/lib/python3.7/dist-packages (from importlib-resources>=1.4.0->jsonschema>=3.0.1->jupyterlab-server~=2.3->jupyterlab>=3->geemap) (3.6.0)\n",
            "Requirement already satisfied: notebook<7 in /usr/local/lib/python3.7/dist-packages (from nbclassic~=0.2->jupyterlab>=3->geemap) (5.3.1)\n",
            "Requirement already satisfied: pyparsing!=3.0.5,>=2.0.2 in /usr/local/lib/python3.7/dist-packages (from packaging>=14.3->google-api-core<2dev,>=1.21.0->google-api-python-client<2,>=1.12.1->earthengine-api>=0.1.230->geemap) (3.0.6)\n",
            "Requirement already satisfied: wcwidth in /usr/local/lib/python3.7/dist-packages (from prompt-toolkit<2.0.0,>=1.0.4->ipython>=4.0.0->ipywidgets->ipyfilechooser>=0.6.0->geemap) (0.2.5)\n",
            "Requirement already satisfied: pyasn1<0.5.0,>=0.4.6 in /usr/local/lib/python3.7/dist-packages (from pyasn1-modules>=0.2.1->google-auth>=1.4.1->earthengine-api>=0.1.230->geemap) (0.4.8)\n",
            "Requirement already satisfied: certifi>=2017.4.17 in /usr/local/lib/python3.7/dist-packages (from requests->folium>=0.11.0->geemap) (2021.10.8)\n",
            "Requirement already satisfied: chardet<4,>=3.0.2 in /usr/local/lib/python3.7/dist-packages (from requests->folium>=0.11.0->geemap) (3.0.4)\n",
            "Requirement already satisfied: urllib3!=1.25.0,!=1.25.1,<1.26,>=1.21.1 in /usr/local/lib/python3.7/dist-packages (from requests->folium>=0.11.0->geemap) (1.24.3)\n",
            "Requirement already satisfied: ptyprocess in /usr/local/lib/python3.7/dist-packages (from terminado>=0.8.3->jupyter-server~=1.4->jupyterlab>=3->geemap) (0.7.0)\n",
            "Requirement already satisfied: whitebox in /usr/local/lib/python3.7/dist-packages (from whiteboxgui>=0.6.0->geemap) (2.0.3)\n",
            "Requirement already satisfied: cffi>=1.0.0 in /usr/local/lib/python3.7/dist-packages (from argon2-cffi->jupyter-server~=1.4->jupyterlab>=3->geemap) (1.15.0)\n",
            "Requirement already satisfied: pycparser in /usr/local/lib/python3.7/dist-packages (from cffi>=1.0.0->argon2-cffi->jupyter-server~=1.4->jupyterlab>=3->geemap) (2.21)\n",
            "Requirement already satisfied: ratelim in /usr/local/lib/python3.7/dist-packages (from geocoder->geemap) (0.1.6)\n",
            "Requirement already satisfied: google-cloud-core<2.0dev,>=1.0.0 in /usr/local/lib/python3.7/dist-packages (from google-cloud-storage->earthengine-api>=0.1.230->geemap) (1.0.3)\n",
            "Requirement already satisfied: google-resumable-media<0.5.0dev,>=0.3.1 in /usr/local/lib/python3.7/dist-packages (from google-cloud-storage->earthengine-api>=0.1.230->geemap) (0.4.1)\n",
            "Requirement already satisfied: kiwisolver>=1.0.1 in /usr/local/lib/python3.7/dist-packages (from matplotlib->geemap) (1.3.2)\n",
            "Requirement already satisfied: cycler>=0.10 in /usr/local/lib/python3.7/dist-packages (from matplotlib->geemap) (0.11.0)\n",
            "Requirement already satisfied: bleach in /usr/local/lib/python3.7/dist-packages (from nbconvert->jupyter-server~=1.4->jupyterlab>=3->geemap) (4.1.0)\n",
            "Requirement already satisfied: pandocfilters>=1.4.1 in /usr/local/lib/python3.7/dist-packages (from nbconvert->jupyter-server~=1.4->jupyterlab>=3->geemap) (1.5.0)\n",
            "Requirement already satisfied: mistune<2,>=0.8.1 in /usr/local/lib/python3.7/dist-packages (from nbconvert->jupyter-server~=1.4->jupyterlab>=3->geemap) (0.8.4)\n",
            "Requirement already satisfied: defusedxml in /usr/local/lib/python3.7/dist-packages (from nbconvert->jupyter-server~=1.4->jupyterlab>=3->geemap) (0.7.1)\n",
            "Requirement already satisfied: nbclient<0.6.0,>=0.5.0 in /usr/local/lib/python3.7/dist-packages (from nbconvert->jupyter-server~=1.4->jupyterlab>=3->geemap) (0.5.8)\n",
            "Requirement already satisfied: jupyterlab-pygments in /usr/local/lib/python3.7/dist-packages (from nbconvert->jupyter-server~=1.4->jupyterlab>=3->geemap) (0.1.2)\n",
            "Requirement already satisfied: testpath in /usr/local/lib/python3.7/dist-packages (from nbconvert->jupyter-server~=1.4->jupyterlab>=3->geemap) (0.5.0)\n",
            "Requirement already satisfied: nest-asyncio in /usr/local/lib/python3.7/dist-packages (from nbclient<0.6.0,>=0.5.0->nbconvert->jupyter-server~=1.4->jupyterlab>=3->geemap) (1.5.1)\n",
            "Requirement already satisfied: webencodings in /usr/local/lib/python3.7/dist-packages (from bleach->nbconvert->jupyter-server~=1.4->jupyterlab>=3->geemap) (0.5.1)\n",
            "Requirement already satisfied: pyyaml in /usr/local/lib/python3.7/dist-packages (from owslib->geemap) (3.13)\n",
            "Requirement already satisfied: pyproj>=2 in /usr/local/lib/python3.7/dist-packages (from owslib->geemap) (3.2.1)\n",
            "Requirement already satisfied: plotly in /usr/local/lib/python3.7/dist-packages (from sankee->geemap) (4.4.1)\n",
            "Requirement already satisfied: retrying>=1.3.3 in /usr/local/lib/python3.7/dist-packages (from plotly->sankee->geemap) (1.3.3)\n"
          ]
        }
      ]
    },
    {
      "cell_type": "code",
      "metadata": {
        "id": "2_pAqaHw-XRZ"
      },
      "source": [
        "import ee\n",
        "# Trigger the authentication flow.\n",
        "ee.Authenticate()\n",
        "\n",
        "# Initialize the library.\n",
        "ee.Initialize()"
      ],
      "execution_count": null,
      "outputs": []
    },
    {
      "cell_type": "code",
      "metadata": {
        "id": "wCuPN-5mZHM5",
        "colab": {
          "base_uri": "https://localhost:8080/",
          "height": 49,
          "referenced_widgets": [
            "148b9a6d5c6d44f8a6584a7731533ef3",
            "f9ab4a78b66745d3881eff92b71a66bc",
            "ab2076a6ce2041e98f80216d04b17df8",
            "fca51870c9904e4599a437686be1ce7f",
            "e0692853fe9048e09dbc5ab2aa614f3a",
            "fe35d1209a5e4fd1802c87d9b7a069d5",
            "b7683026453941c38100497fe3d1c6e6",
            "943305698b394aea9339d4190a887938"
          ]
        },
        "outputId": "73cb687c-1d0e-49a8-8d22-e0bf2b48b0c6"
      },
      "source": [
        "import ipywidgets as widgets\n",
        "style = {'description_width': 'initial'}\n",
        "\n",
        "year = widgets.IntSlider(description='Start Year:', value=2013, min=2013, max=2021, style=style)\n",
        "month = widgets.IntSlider(description='Start Month:', value=5, min=1, max=12, style=style)\n",
        "hbox = widgets.HBox([year, month])\n",
        "hbox"
      ],
      "execution_count": 116,
      "outputs": [
        {
          "output_type": "display_data",
          "data": {
            "application/vnd.jupyter.widget-view+json": {
              "model_id": "148b9a6d5c6d44f8a6584a7731533ef3",
              "version_minor": 0,
              "version_major": 2
            },
            "text/plain": [
              "HBox(children=(IntSlider(value=2013, description='Start Year:', max=2021, min=2013, style=SliderStyle(descript…"
            ]
          },
          "metadata": {
            "application/vnd.jupyter.widget-view+json": {
              "colab": {
                "custom_widget_manager": {
                  "url": "https://ssl.gstatic.com/colaboratory-static/widgets/colab-cdn-widget-manager/e680a8b83b2ea152/manager.min.js"
                }
              }
            }
          }
        }
      ]
    },
    {
      "cell_type": "code",
      "metadata": {
        "id": "K-Fbfv9jZrEJ",
        "colab": {
          "base_uri": "https://localhost:8080/",
          "height": 49,
          "referenced_widgets": [
            "dca034f080bb4d5db37e348310e6d129",
            "9852a17e66fd48619fd4b5665d03914c",
            "226319df1820473c890c1a3ab9f3305a",
            "e07f0580132e46beb18e0501ffa130ba",
            "1f286ccd2136421ba3de740cfb7491b2",
            "fe5e6a6b7cb449feb3159d7f7481559f"
          ]
        },
        "outputId": "b0ffc62e-4de3-4cbe-d6db-e16344627ba7"
      },
      "source": [
        "add_layer = widgets.Button(\n",
        "    description='Add Layer',\n",
        "    button_style='primary',\n",
        "    tooltip='Click to add layer',\n",
        "    style=style\n",
        ")\n",
        "\n",
        "output1 = widgets.Output()\n",
        "\n",
        "hbox2 = widgets.HBox([add_layer])\n",
        "hbox2"
      ],
      "execution_count": 117,
      "outputs": [
        {
          "output_type": "display_data",
          "data": {
            "application/vnd.jupyter.widget-view+json": {
              "model_id": "dca034f080bb4d5db37e348310e6d129",
              "version_minor": 0,
              "version_major": 2
            },
            "text/plain": [
              "HBox(children=(Button(button_style='primary', description='Add Layer', style=ButtonStyle(), tooltip='Click to …"
            ]
          },
          "metadata": {
            "application/vnd.jupyter.widget-view+json": {
              "colab": {
                "custom_widget_manager": {
                  "url": "https://ssl.gstatic.com/colaboratory-static/widgets/colab-cdn-widget-manager/e680a8b83b2ea152/manager.min.js"
                }
              }
            }
          }
        }
      ]
    },
    {
      "cell_type": "code",
      "metadata": {
        "id": "tiNX2OuIaUbN",
        "colab": {
          "base_uri": "https://localhost:8080/",
          "height": 621,
          "referenced_widgets": [
            "7cfac5d0368f45db9575f67556f29f06",
            "e99c6805d9e44a1694c04c72be1ae0cb",
            "a28e7c88ed994ef895c8c8d16ee08a85",
            "f8feb03ab5db45938ce1a735820b5c1c",
            "a9d832f286b043d3b4cfc3d98374b773",
            "fb506e1fea78404a9e53aaa4ce8b21a9",
            "fe0a5426aa8146ba8a27cebd9b4f7b33",
            "d6caf17cfbdf49e78e6e9169c42967c9",
            "feb8b8e529aa4ff5bb8a091b66821e38",
            "953a9226dada4523831fee94050aeeb3",
            "a8e0f5f1273442e49211ae4a80970fbb",
            "01fc5f952c1d453f94b12d45ef9651d0",
            "a7023126b8274d078457d0148f2494c8",
            "5c957730fc604bb69d33fec69f38fa9d",
            "5f90e1b05d7d483ca04f6cf473aa8411",
            "b03e9b5c5e494be282c04eda600663b7",
            "be11e498417c449882e74fa782b54276",
            "0c64a267d3d0441eab511cadd95c462e",
            "e55288bb8c964275b6b03fbbbfffc882",
            "c6e3c85704284afb811403a0094905c8",
            "d53ef68035684eadb0fb7640ca271b9d",
            "29072ba668484a10a060d9111d008a7f",
            "bb060fd204db43dd9266498642f41d24",
            "7e92f40ebf734ffb96f65f8620f59e8b",
            "4c3eb19ae13147508189887ddce73963",
            "bc7add31fd0543219880dd56b629fffe",
            "a2fc65a28877401aa6eaf9b1822637bf"
          ]
        },
        "outputId": "d4199a2f-f57c-415b-c6d4-8ae75e5b5a41"
      },
      "source": [
        "import geemap\n",
        "\n",
        "map = geemap.Map(center=[40,-100], zoom=4)\n",
        "\n",
        "def submit_check(b):\n",
        "    \n",
        "    with output1:\n",
        "        output1.clear_output()\n",
        "            \n",
        "        start_date = str(year.value)+ '-' + str(month.value).zfill(2) + '-01'\n",
        "        end_date = str(year.value)+ '-' + str(month.value).zfill(2) + '-30'\n",
        "        \n",
        "        print('Computing...')\n",
        "        image = ee.ImageCollection('LANDSAT/LC08/C01/T1_SR').filterDate(start_date, end_date).min()\n",
        "        nir = image.select('B5')\n",
        "        red = image.select('B4')\n",
        "        ndvi = nir.subtract(red).divide(nir.add(red)).rename('NDVI')\n",
        "        ndviParams = {'min': -1, 'max': 1, 'palette': ['blue', 'white', 'green']}\n",
        "        evi = image.expression(\n",
        "            '2.5 * ((NIR - RED) / (NIR + 6 * RED - 7.5 * BLUE + 1))', {\n",
        "            'NIR': image.select('B5'),\n",
        "            'RED': image.select('B4'),\n",
        "            'BLUE': image.select('B2')\n",
        "        })\n",
        "        eviParams = {'min': -1, 'max': 1, 'palette': ['blue', 'white', 'green']}\n",
        "        map.addLayer(ndvi, ndviParams, 'NDVI image')\n",
        "        map.addLayer(evi, eviParams, 'EVI image')\n",
        "        print(type(map))\n",
        "\n",
        "add_layer.on_click(submit_check)\n",
        "map"
      ],
      "execution_count": 118,
      "outputs": [
        {
          "output_type": "display_data",
          "data": {
            "application/vnd.jupyter.widget-view+json": {
              "model_id": "7cfac5d0368f45db9575f67556f29f06",
              "version_minor": 0,
              "version_major": 2
            },
            "text/plain": [
              "Map(center=[40, -100], controls=(WidgetControl(options=['position', 'transparent_bg'], widget=HBox(children=(T…"
            ]
          },
          "metadata": {
            "application/vnd.jupyter.widget-view+json": {
              "colab": {
                "custom_widget_manager": {
                  "url": "https://ssl.gstatic.com/colaboratory-static/widgets/colab-cdn-widget-manager/e680a8b83b2ea152/manager.min.js"
                }
              }
            }
          }
        }
      ]
    },
    {
      "cell_type": "code",
      "metadata": {
        "id": "nq-9I7U6qMOs",
        "colab": {
          "base_uri": "https://localhost:8080/",
          "height": 52,
          "referenced_widgets": [
            "2707e8507d884a37ad2525d4f8fe67e3",
            "fe5e6a6b7cb449feb3159d7f7481559f"
          ]
        },
        "outputId": "c1f62ecf-ac96-434c-a416-5919ace5a782"
      },
      "source": [
        "output1"
      ],
      "execution_count": 119,
      "outputs": [
        {
          "output_type": "display_data",
          "data": {
            "application/vnd.jupyter.widget-view+json": {
              "model_id": "2707e8507d884a37ad2525d4f8fe67e3",
              "version_minor": 0,
              "version_major": 2
            },
            "text/plain": [
              "Output()"
            ]
          },
          "metadata": {
            "application/vnd.jupyter.widget-view+json": {
              "colab": {
                "custom_widget_manager": {
                  "url": "https://ssl.gstatic.com/colaboratory-static/widgets/colab-cdn-widget-manager/e680a8b83b2ea152/manager.min.js"
                }
              }
            }
          }
        }
      ]
    },
    {
      "cell_type": "code",
      "metadata": {
        "id": "ClWzjwJtbgkv"
      },
      "source": [
        "# output1\n",
        "# image = ee.ImageCollection('LANDSAT/LC08/C01/T1_SR').filterDate('2021-10-01', '2021-10-31').min()"
      ],
      "execution_count": 120,
      "outputs": []
    },
    {
      "cell_type": "code",
      "metadata": {
        "id": "LlFAND3A-bHj"
      },
      "source": [
        "# nir = image.select('B5')\n",
        "# red = image.select('B4')\n",
        "\n",
        "# ndvi = nir.subtract(red).divide(nir.add(red)).rename('NDVI')\n",
        "\n",
        "# ndviParams = {'min': -1, 'max': 1, 'palette': ['blue', 'white', 'green']}"
      ],
      "execution_count": 121,
      "outputs": []
    },
    {
      "cell_type": "code",
      "metadata": {
        "id": "qfqP9Lh--bnx"
      },
      "source": [
        "# evi = image.expression(\n",
        "#     '2.5 * ((NIR - RED) / (NIR + 6 * RED - 7.5 * BLUE + 1))', {\n",
        "#       'NIR': image.select('B5'),\n",
        "#       'RED': image.select('B4'),\n",
        "#       'BLUE': image.select('B2')\n",
        "# })\n",
        "# eviParams = {'min': -1, 'max': 1, 'palette': ['blue', 'white', 'green']}"
      ],
      "execution_count": 122,
      "outputs": []
    },
    {
      "cell_type": "code",
      "metadata": {
        "id": "ixsVvAQK-dXH"
      },
      "source": [
        "# import geemap\n",
        "\n",
        "# map = geemap.Map(center=[40,-100], zoom=4)\n",
        "# map.addLayer(ndvi, ndviParams, 'NDVI image')\n",
        "# map.addLayer(evi, eviParams, 'EVI image')\n",
        "# map.set_plot_options(plot_type='bar', add_marker_cluster=True)\n",
        "# map"
      ],
      "execution_count": 123,
      "outputs": []
    },
    {
      "cell_type": "code",
      "metadata": {
        "colab": {
          "base_uri": "https://localhost:8080/",
          "height": 49,
          "referenced_widgets": [
            "1f555eb4a37b43acb2de990ab08b349f",
            "62fb6dfb702e42bdb11d210531c41de1",
            "c44fe50c1f6944e0800bd7e78e4e601c",
            "9846d95acfd341da96d67697f36fb293",
            "1fad800dc9fe4a7fb8472c7c9efc330d",
            "a77f1156c19740bf8c67164973369624",
            "2b3b0af64bef499e9799e0efedf6bc4d",
            "451141ee1e4c4ab5b9867cbf83b31b7f",
            "566eae4567cb49d3938eba04bda34dd7",
            "265d18b1b63e4e51826faa0ca5208446",
            "2b941bc7c0d14c42819462363148eb98",
            "4efd75cf9d5c41d79ccebd948b1bc166",
            "ef7210e2df4b416aa279259ee39cb51c",
            "290e72a4622244449d638e1d44564cf1",
            "276af08693c14220892e4d22dd25abba",
            "6fea9e5dc0244950898704816c8db30c",
            "293cd0566a984529b29fb010312dae05"
          ]
        },
        "id": "HdhfLq61-gB3",
        "outputId": "22f2b6c5-f8eb-4dc3-9815-e54a15408b16"
      },
      "source": [
        "start_year = widgets.IntSlider(description='Start Year:', value=1984, min=1984, max=2020, style=style)\n",
        "end_year = widgets.IntSlider(description='End Year:', value=2020, min=1984, max=2020, style=style)\n",
        "start_month = widgets.IntSlider(description='Start Month:', value=5, min=1, max=12, style=style)\n",
        "end_month = widgets.IntSlider(description='End Month:', value=10, min=1, max=12, style=style)\n",
        "dropdown = widgets.Dropdown(\n",
        "    options=['NDVI', 'EVI'],\n",
        "    value='NDVI',\n",
        "    description='Index:'\n",
        ")\n",
        "hbox3 = widgets.HBox([start_year, end_year, start_month, end_month, dropdown])\n",
        "hbox3"
      ],
      "execution_count": 124,
      "outputs": [
        {
          "output_type": "display_data",
          "data": {
            "application/vnd.jupyter.widget-view+json": {
              "model_id": "1f555eb4a37b43acb2de990ab08b349f",
              "version_minor": 0,
              "version_major": 2
            },
            "text/plain": [
              "HBox(children=(IntSlider(value=1984, description='Start Year:', max=2020, min=1984, style=SliderStyle(descript…"
            ]
          },
          "metadata": {
            "application/vnd.jupyter.widget-view+json": {
              "colab": {
                "custom_widget_manager": {
                  "url": "https://ssl.gstatic.com/colaboratory-static/widgets/colab-cdn-widget-manager/e680a8b83b2ea152/manager.min.js"
                }
              }
            }
          }
        }
      ]
    },
    {
      "cell_type": "code",
      "metadata": {
        "colab": {
          "base_uri": "https://localhost:8080/",
          "height": 49,
          "referenced_widgets": [
            "556a80ca5fef460596b8a5131572691e",
            "e9055b79cdd443be9f37b840ecd58c4c",
            "2c6bee62eccf4dc79997de0dfcf3915d",
            "29c599a3f99e4118910f6f40ed0b3fe4",
            "9de1525cd8394fff9d96d8a04434595c",
            "6680a80cd5074d8a8de6944f6b43b85f",
            "ddd43f83867e431b8185a882a0ff5202",
            "57b0889113b44479aa80fd624090e6b7"
          ]
        },
        "id": "y3ZiISHk-iZn",
        "outputId": "beb252a0-be09-4144-9a7a-8ea3aadc5c08"
      },
      "source": [
        "create_gif = widgets.Button(\n",
        "    description='Create timelapse',\n",
        "    button_style='primary',\n",
        "    tooltip='Click to create timelapse',\n",
        "    style=style\n",
        ")\n",
        "\n",
        "download_gif = widgets.Button(\n",
        "    description='Download GIF',\n",
        "    button_style='primary',\n",
        "    tooltip='Click to download timelapse',\n",
        "    disabled=False,\n",
        "    style=style\n",
        ")\n",
        "\n",
        "output = widgets.Output()\n",
        "\n",
        "hbox5 = widgets.HBox([create_gif])\n",
        "hbox5"
      ],
      "execution_count": 125,
      "outputs": [
        {
          "output_type": "display_data",
          "data": {
            "application/vnd.jupyter.widget-view+json": {
              "model_id": "556a80ca5fef460596b8a5131572691e",
              "version_minor": 0,
              "version_major": 2
            },
            "text/plain": [
              "HBox(children=(Button(button_style='primary', description='Create timelapse', style=ButtonStyle(), tooltip='Cl…"
            ]
          },
          "metadata": {
            "application/vnd.jupyter.widget-view+json": {
              "colab": {
                "custom_widget_manager": {
                  "url": "https://ssl.gstatic.com/colaboratory-static/widgets/colab-cdn-widget-manager/e680a8b83b2ea152/manager.min.js"
                }
              }
            }
          }
        }
      ]
    },
    {
      "cell_type": "code",
      "metadata": {
        "id": "l9tXlKnj-kuL"
      },
      "source": [
        "def submit_clicked(b):\n",
        "    \n",
        "    with output:\n",
        "        output.clear_output()\n",
        "        if start_year.value > end_year.value:\n",
        "            print('The end year must be great than the start year.')\n",
        "            return\n",
        "        if start_month.value > end_month.value:\n",
        "            print('The end month must be great than the start month.')\n",
        "            return        \n",
        "        if start_year.value == end_year.value:\n",
        "            add_progress_bar = False\n",
        "        else:\n",
        "            add_progress_bar = True\n",
        "            \n",
        "        start_date = str(start_month.value).zfill(2) + '-01'\n",
        "        end_date = str(end_month.value).zfill(2) + '-30'\n",
        "        \n",
        "        print('Computing...')\n",
        "        if dropdown.value=='NDVI':\n",
        "          label=\"Timelapse for NDVI\"\n",
        "          map.add_landsat_ts_gif(label= label, bands=['Blue', 'NIR', 'Red'], nd_bands=['NIR', 'Red'], nd_palette=['blue', 'white', 'green'], nd_threshold=0.3, start_year=start_year.value, end_year=end_year.value,start_date=start_date, end_date=end_date,add_progress_bar= add_progress_bar, frames_per_second=5)\n",
        "        # else:\n",
        "        #   label=\"Timelapse for EVI\"\n",
        "        #   map.add_landsat_ts_gif(label= label, bands=['Blue', 'NIR', 'Red'], nd_bands=['Blue','NIR', 'Red'], nd_palette=['blue', 'white', 'green'], nd_threshold=0.3, start_year=start_year.value, end_year=end_year.value,start_date=start_date, end_date=end_date,add_progress_bar= add_progress_bar, frames_per_second=5)\n",
        "\n",
        "\n",
        "create_gif.on_click(submit_clicked)"
      ],
      "execution_count": 126,
      "outputs": []
    },
    {
      "cell_type": "code",
      "metadata": {
        "colab": {
          "base_uri": "https://localhost:8080/",
          "height": 17,
          "referenced_widgets": [
            "77f642b43ed946de985b60c8b38bfe44",
            "57b0889113b44479aa80fd624090e6b7"
          ]
        },
        "id": "LZYxdYa6-nej",
        "outputId": "c1ef4ece-5a16-4208-fa79-648907586f94"
      },
      "source": [
        "output"
      ],
      "execution_count": 127,
      "outputs": [
        {
          "output_type": "display_data",
          "data": {
            "application/vnd.jupyter.widget-view+json": {
              "model_id": "77f642b43ed946de985b60c8b38bfe44",
              "version_minor": 0,
              "version_major": 2
            },
            "text/plain": [
              "Output()"
            ]
          },
          "metadata": {
            "application/vnd.jupyter.widget-view+json": {
              "colab": {
                "custom_widget_manager": {
                  "url": "https://ssl.gstatic.com/colaboratory-static/widgets/colab-cdn-widget-manager/e680a8b83b2ea152/manager.min.js"
                }
              }
            }
          }
        }
      ]
    },
    {
      "cell_type": "code",
      "metadata": {
        "id": "S7qlNnir3MYX",
        "colab": {
          "base_uri": "https://localhost:8080/"
        },
        "outputId": "494ed660-301a-4fcb-8b62-dc3ef95001cf"
      },
      "source": [
        "!pip install proplot\n",
        "!pip install ipygee"
      ],
      "execution_count": 128,
      "outputs": [
        {
          "output_type": "stream",
          "name": "stdout",
          "text": [
            "Requirement already satisfied: proplot in /usr/local/lib/python3.7/dist-packages (0.9.5)\n",
            "Requirement already satisfied: matplotlib in /usr/local/lib/python3.7/dist-packages (from proplot) (3.2.2)\n",
            "Requirement already satisfied: kiwisolver>=1.0.1 in /usr/local/lib/python3.7/dist-packages (from matplotlib->proplot) (1.3.2)\n",
            "Requirement already satisfied: pyparsing!=2.0.4,!=2.1.2,!=2.1.6,>=2.0.1 in /usr/local/lib/python3.7/dist-packages (from matplotlib->proplot) (3.0.6)\n",
            "Requirement already satisfied: cycler>=0.10 in /usr/local/lib/python3.7/dist-packages (from matplotlib->proplot) (0.11.0)\n",
            "Requirement already satisfied: python-dateutil>=2.1 in /usr/local/lib/python3.7/dist-packages (from matplotlib->proplot) (2.8.2)\n",
            "Requirement already satisfied: numpy>=1.11 in /usr/local/lib/python3.7/dist-packages (from matplotlib->proplot) (1.19.5)\n",
            "Requirement already satisfied: six>=1.5 in /usr/local/lib/python3.7/dist-packages (from python-dateutil>=2.1->matplotlib->proplot) (1.15.0)\n",
            "Requirement already satisfied: ipygee in /usr/local/lib/python3.7/dist-packages (0.0.17)\n",
            "Requirement already satisfied: pandas in /usr/local/lib/python3.7/dist-packages (from ipygee) (1.1.5)\n",
            "Requirement already satisfied: pygal in /usr/local/lib/python3.7/dist-packages (from ipygee) (2.4.0)\n",
            "Requirement already satisfied: ipyleaflet>=0.10.2 in /usr/local/lib/python3.7/dist-packages (from ipygee) (0.14.0)\n",
            "Requirement already satisfied: geetools in /usr/local/lib/python3.7/dist-packages (from ipygee) (0.6.14)\n",
            "Requirement already satisfied: traittypes<3,>=0.2.1 in /usr/local/lib/python3.7/dist-packages (from ipyleaflet>=0.10.2->ipygee) (0.2.1)\n",
            "Requirement already satisfied: ipywidgets<8,>=7.6.0 in /usr/local/lib/python3.7/dist-packages (from ipyleaflet>=0.10.2->ipygee) (7.6.5)\n",
            "Requirement already satisfied: jupyterlab-widgets>=1.0.0 in /usr/local/lib/python3.7/dist-packages (from ipywidgets<8,>=7.6.0->ipyleaflet>=0.10.2->ipygee) (1.0.2)\n",
            "Requirement already satisfied: ipykernel>=4.5.1 in /usr/local/lib/python3.7/dist-packages (from ipywidgets<8,>=7.6.0->ipyleaflet>=0.10.2->ipygee) (4.10.1)\n",
            "Requirement already satisfied: widgetsnbextension~=3.5.0 in /usr/local/lib/python3.7/dist-packages (from ipywidgets<8,>=7.6.0->ipyleaflet>=0.10.2->ipygee) (3.5.2)\n",
            "Requirement already satisfied: ipython>=4.0.0 in /usr/local/lib/python3.7/dist-packages (from ipywidgets<8,>=7.6.0->ipyleaflet>=0.10.2->ipygee) (5.5.0)\n",
            "Requirement already satisfied: ipython-genutils~=0.2.0 in /usr/local/lib/python3.7/dist-packages (from ipywidgets<8,>=7.6.0->ipyleaflet>=0.10.2->ipygee) (0.2.0)\n",
            "Requirement already satisfied: traitlets>=4.3.1 in /usr/local/lib/python3.7/dist-packages (from ipywidgets<8,>=7.6.0->ipyleaflet>=0.10.2->ipygee) (5.1.1)\n",
            "Requirement already satisfied: nbformat>=4.2.0 in /usr/local/lib/python3.7/dist-packages (from ipywidgets<8,>=7.6.0->ipyleaflet>=0.10.2->ipygee) (5.1.3)\n",
            "Requirement already satisfied: jupyter-client in /usr/local/lib/python3.7/dist-packages (from ipykernel>=4.5.1->ipywidgets<8,>=7.6.0->ipyleaflet>=0.10.2->ipygee) (6.1.12)\n",
            "Requirement already satisfied: tornado>=4.0 in /usr/local/lib/python3.7/dist-packages (from ipykernel>=4.5.1->ipywidgets<8,>=7.6.0->ipyleaflet>=0.10.2->ipygee) (6.1)\n",
            "Requirement already satisfied: pygments in /usr/local/lib/python3.7/dist-packages (from ipython>=4.0.0->ipywidgets<8,>=7.6.0->ipyleaflet>=0.10.2->ipygee) (2.6.1)\n",
            "Requirement already satisfied: decorator in /usr/local/lib/python3.7/dist-packages (from ipython>=4.0.0->ipywidgets<8,>=7.6.0->ipyleaflet>=0.10.2->ipygee) (4.4.2)\n",
            "Requirement already satisfied: pexpect in /usr/local/lib/python3.7/dist-packages (from ipython>=4.0.0->ipywidgets<8,>=7.6.0->ipyleaflet>=0.10.2->ipygee) (4.8.0)\n",
            "Requirement already satisfied: simplegeneric>0.8 in /usr/local/lib/python3.7/dist-packages (from ipython>=4.0.0->ipywidgets<8,>=7.6.0->ipyleaflet>=0.10.2->ipygee) (0.8.1)\n",
            "Requirement already satisfied: prompt-toolkit<2.0.0,>=1.0.4 in /usr/local/lib/python3.7/dist-packages (from ipython>=4.0.0->ipywidgets<8,>=7.6.0->ipyleaflet>=0.10.2->ipygee) (1.0.18)\n",
            "Requirement already satisfied: setuptools>=18.5 in /usr/local/lib/python3.7/dist-packages (from ipython>=4.0.0->ipywidgets<8,>=7.6.0->ipyleaflet>=0.10.2->ipygee) (57.4.0)\n",
            "Requirement already satisfied: pickleshare in /usr/local/lib/python3.7/dist-packages (from ipython>=4.0.0->ipywidgets<8,>=7.6.0->ipyleaflet>=0.10.2->ipygee) (0.7.5)\n",
            "Requirement already satisfied: jsonschema!=2.5.0,>=2.4 in /usr/local/lib/python3.7/dist-packages (from nbformat>=4.2.0->ipywidgets<8,>=7.6.0->ipyleaflet>=0.10.2->ipygee) (4.2.1)\n",
            "Requirement already satisfied: jupyter-core in /usr/local/lib/python3.7/dist-packages (from nbformat>=4.2.0->ipywidgets<8,>=7.6.0->ipyleaflet>=0.10.2->ipygee) (4.9.1)\n",
            "Requirement already satisfied: attrs>=17.4.0 in /usr/local/lib/python3.7/dist-packages (from jsonschema!=2.5.0,>=2.4->nbformat>=4.2.0->ipywidgets<8,>=7.6.0->ipyleaflet>=0.10.2->ipygee) (21.2.0)\n",
            "Requirement already satisfied: importlib-metadata in /usr/local/lib/python3.7/dist-packages (from jsonschema!=2.5.0,>=2.4->nbformat>=4.2.0->ipywidgets<8,>=7.6.0->ipyleaflet>=0.10.2->ipygee) (4.8.2)\n",
            "Requirement already satisfied: importlib-resources>=1.4.0 in /usr/local/lib/python3.7/dist-packages (from jsonschema!=2.5.0,>=2.4->nbformat>=4.2.0->ipywidgets<8,>=7.6.0->ipyleaflet>=0.10.2->ipygee) (5.4.0)\n",
            "Requirement already satisfied: pyrsistent!=0.17.0,!=0.17.1,!=0.17.2,>=0.14.0 in /usr/local/lib/python3.7/dist-packages (from jsonschema!=2.5.0,>=2.4->nbformat>=4.2.0->ipywidgets<8,>=7.6.0->ipyleaflet>=0.10.2->ipygee) (0.18.0)\n",
            "Requirement already satisfied: zipp>=3.1.0 in /usr/local/lib/python3.7/dist-packages (from importlib-resources>=1.4.0->jsonschema!=2.5.0,>=2.4->nbformat>=4.2.0->ipywidgets<8,>=7.6.0->ipyleaflet>=0.10.2->ipygee) (3.6.0)\n",
            "Requirement already satisfied: six>=1.9.0 in /usr/local/lib/python3.7/dist-packages (from prompt-toolkit<2.0.0,>=1.0.4->ipython>=4.0.0->ipywidgets<8,>=7.6.0->ipyleaflet>=0.10.2->ipygee) (1.15.0)\n",
            "Requirement already satisfied: wcwidth in /usr/local/lib/python3.7/dist-packages (from prompt-toolkit<2.0.0,>=1.0.4->ipython>=4.0.0->ipywidgets<8,>=7.6.0->ipyleaflet>=0.10.2->ipygee) (0.2.5)\n",
            "Requirement already satisfied: notebook>=4.4.1 in /usr/local/lib/python3.7/dist-packages (from widgetsnbextension~=3.5.0->ipywidgets<8,>=7.6.0->ipyleaflet>=0.10.2->ipygee) (5.3.1)\n",
            "Requirement already satisfied: nbconvert in /usr/local/lib/python3.7/dist-packages (from notebook>=4.4.1->widgetsnbextension~=3.5.0->ipywidgets<8,>=7.6.0->ipyleaflet>=0.10.2->ipygee) (6.3.0)\n",
            "Requirement already satisfied: terminado>=0.8.1 in /usr/local/lib/python3.7/dist-packages (from notebook>=4.4.1->widgetsnbextension~=3.5.0->ipywidgets<8,>=7.6.0->ipyleaflet>=0.10.2->ipygee) (0.12.1)\n",
            "Requirement already satisfied: Send2Trash in /usr/local/lib/python3.7/dist-packages (from notebook>=4.4.1->widgetsnbextension~=3.5.0->ipywidgets<8,>=7.6.0->ipyleaflet>=0.10.2->ipygee) (1.8.0)\n",
            "Requirement already satisfied: jinja2 in /usr/local/lib/python3.7/dist-packages (from notebook>=4.4.1->widgetsnbextension~=3.5.0->ipywidgets<8,>=7.6.0->ipyleaflet>=0.10.2->ipygee) (2.11.3)\n",
            "Requirement already satisfied: python-dateutil>=2.1 in /usr/local/lib/python3.7/dist-packages (from jupyter-client->ipykernel>=4.5.1->ipywidgets<8,>=7.6.0->ipyleaflet>=0.10.2->ipygee) (2.8.2)\n",
            "Requirement already satisfied: pyzmq>=13 in /usr/local/lib/python3.7/dist-packages (from jupyter-client->ipykernel>=4.5.1->ipywidgets<8,>=7.6.0->ipyleaflet>=0.10.2->ipygee) (22.3.0)\n",
            "Requirement already satisfied: ptyprocess in /usr/local/lib/python3.7/dist-packages (from terminado>=0.8.1->notebook>=4.4.1->widgetsnbextension~=3.5.0->ipywidgets<8,>=7.6.0->ipyleaflet>=0.10.2->ipygee) (0.7.0)\n",
            "Requirement already satisfied: pyshp in /usr/local/lib/python3.7/dist-packages (from geetools->ipygee) (2.1.3)\n",
            "Requirement already satisfied: requests in /usr/local/lib/python3.7/dist-packages (from geetools->ipygee) (2.23.0)\n",
            "Requirement already satisfied: typing-extensions>=3.6.4 in /usr/local/lib/python3.7/dist-packages (from importlib-metadata->jsonschema!=2.5.0,>=2.4->nbformat>=4.2.0->ipywidgets<8,>=7.6.0->ipyleaflet>=0.10.2->ipygee) (3.10.0.2)\n",
            "Requirement already satisfied: MarkupSafe>=0.23 in /usr/local/lib/python3.7/dist-packages (from jinja2->notebook>=4.4.1->widgetsnbextension~=3.5.0->ipywidgets<8,>=7.6.0->ipyleaflet>=0.10.2->ipygee) (2.0.1)\n",
            "Requirement already satisfied: defusedxml in /usr/local/lib/python3.7/dist-packages (from nbconvert->notebook>=4.4.1->widgetsnbextension~=3.5.0->ipywidgets<8,>=7.6.0->ipyleaflet>=0.10.2->ipygee) (0.7.1)\n",
            "Requirement already satisfied: mistune<2,>=0.8.1 in /usr/local/lib/python3.7/dist-packages (from nbconvert->notebook>=4.4.1->widgetsnbextension~=3.5.0->ipywidgets<8,>=7.6.0->ipyleaflet>=0.10.2->ipygee) (0.8.4)\n",
            "Requirement already satisfied: pandocfilters>=1.4.1 in /usr/local/lib/python3.7/dist-packages (from nbconvert->notebook>=4.4.1->widgetsnbextension~=3.5.0->ipywidgets<8,>=7.6.0->ipyleaflet>=0.10.2->ipygee) (1.5.0)\n",
            "Requirement already satisfied: testpath in /usr/local/lib/python3.7/dist-packages (from nbconvert->notebook>=4.4.1->widgetsnbextension~=3.5.0->ipywidgets<8,>=7.6.0->ipyleaflet>=0.10.2->ipygee) (0.5.0)\n",
            "Requirement already satisfied: jupyterlab-pygments in /usr/local/lib/python3.7/dist-packages (from nbconvert->notebook>=4.4.1->widgetsnbextension~=3.5.0->ipywidgets<8,>=7.6.0->ipyleaflet>=0.10.2->ipygee) (0.1.2)\n",
            "Requirement already satisfied: nbclient<0.6.0,>=0.5.0 in /usr/local/lib/python3.7/dist-packages (from nbconvert->notebook>=4.4.1->widgetsnbextension~=3.5.0->ipywidgets<8,>=7.6.0->ipyleaflet>=0.10.2->ipygee) (0.5.8)\n",
            "Requirement already satisfied: bleach in /usr/local/lib/python3.7/dist-packages (from nbconvert->notebook>=4.4.1->widgetsnbextension~=3.5.0->ipywidgets<8,>=7.6.0->ipyleaflet>=0.10.2->ipygee) (4.1.0)\n",
            "Requirement already satisfied: entrypoints>=0.2.2 in /usr/local/lib/python3.7/dist-packages (from nbconvert->notebook>=4.4.1->widgetsnbextension~=3.5.0->ipywidgets<8,>=7.6.0->ipyleaflet>=0.10.2->ipygee) (0.3)\n",
            "Requirement already satisfied: nest-asyncio in /usr/local/lib/python3.7/dist-packages (from nbclient<0.6.0,>=0.5.0->nbconvert->notebook>=4.4.1->widgetsnbextension~=3.5.0->ipywidgets<8,>=7.6.0->ipyleaflet>=0.10.2->ipygee) (1.5.1)\n",
            "Requirement already satisfied: packaging in /usr/local/lib/python3.7/dist-packages (from bleach->nbconvert->notebook>=4.4.1->widgetsnbextension~=3.5.0->ipywidgets<8,>=7.6.0->ipyleaflet>=0.10.2->ipygee) (21.3)\n",
            "Requirement already satisfied: webencodings in /usr/local/lib/python3.7/dist-packages (from bleach->nbconvert->notebook>=4.4.1->widgetsnbextension~=3.5.0->ipywidgets<8,>=7.6.0->ipyleaflet>=0.10.2->ipygee) (0.5.1)\n",
            "Requirement already satisfied: pyparsing!=3.0.5,>=2.0.2 in /usr/local/lib/python3.7/dist-packages (from packaging->bleach->nbconvert->notebook>=4.4.1->widgetsnbextension~=3.5.0->ipywidgets<8,>=7.6.0->ipyleaflet>=0.10.2->ipygee) (3.0.6)\n",
            "Requirement already satisfied: pytz>=2017.2 in /usr/local/lib/python3.7/dist-packages (from pandas->ipygee) (2018.9)\n",
            "Requirement already satisfied: numpy>=1.15.4 in /usr/local/lib/python3.7/dist-packages (from pandas->ipygee) (1.19.5)\n",
            "Requirement already satisfied: chardet<4,>=3.0.2 in /usr/local/lib/python3.7/dist-packages (from requests->geetools->ipygee) (3.0.4)\n",
            "Requirement already satisfied: certifi>=2017.4.17 in /usr/local/lib/python3.7/dist-packages (from requests->geetools->ipygee) (2021.10.8)\n",
            "Requirement already satisfied: urllib3!=1.25.0,!=1.25.1,<1.26,>=1.21.1 in /usr/local/lib/python3.7/dist-packages (from requests->geetools->ipygee) (1.24.3)\n",
            "Requirement already satisfied: idna<3,>=2.5 in /usr/local/lib/python3.7/dist-packages (from requests->geetools->ipygee) (2.10)\n"
          ]
        }
      ]
    },
    {
      "cell_type": "code",
      "metadata": {
        "id": "IjDJAx8X7Mg3"
      },
      "source": [
        "import numpy as np # yes, numpy!\n",
        "import pandas as pd # yes, pandas!\n",
        "import proplot as plot \n",
        "import matplotlib.pyplot as plt\n",
        "from ipygee import chart\n",
        "from pandas.plotting import register_matplotlib_converters"
      ],
      "execution_count": 129,
      "outputs": []
    },
    {
      "cell_type": "code",
      "metadata": {
        "id": "t7r45-of7hDz"
      },
      "source": [
        "admin2 = ee.FeatureCollection(\"FAO/GAUL_SIMPLIFIED_500m/2015/level2\")\n",
        "Maharashtra = admin2.filter(ee.Filter.eq('ADM1_NAME', 'Maharashtra'))"
      ],
      "execution_count": 130,
      "outputs": []
    },
    {
      "cell_type": "code",
      "metadata": {
        "id": "xuiNs1-1BItD"
      },
      "source": [
        "modis = ee.ImageCollection('MODIS/006/MOD13Q1')\n",
        "modis = modis.filterDate(ee.DateRange('2016-01-01','2019-12-01'))\n",
        "\n",
        "evi = modis.select('EVI')\n",
        "ndvi = modis.select('NDVI')"
      ],
      "execution_count": 131,
      "outputs": []
    },
    {
      "cell_type": "code",
      "metadata": {
        "id": "SkhiwibnBNdl"
      },
      "source": [
        "def scale_factor(image):\n",
        "  return image.multiply(0.0001).copyProperties(image, ['system:time_start'])\n",
        "# scale factor for the MODIS MOD13Q1 product\n",
        "\n",
        "# mapping function to multiply by the scale factor\n",
        "scaled_evi = evi.map(scale_factor)\n",
        "scaled_ndvi = ndvi.map(scale_factor)\n"
      ],
      "execution_count": 132,
      "outputs": []
    },
    {
      "cell_type": "code",
      "metadata": {
        "colab": {
          "base_uri": "https://localhost:8080/",
          "height": 559,
          "referenced_widgets": [
            "f5efef84b9fc45e288ef30a16649a72d",
            "90f7c8ff8a6849228f0751000e9fe518",
            "5424f026e2de4c1095316c3061c18302"
          ]
        },
        "id": "J4N7lY2_BiZL",
        "outputId": "6e7d6b15-5195-4ab0-f0dc-dd0c43f610ac"
      },
      "source": [
        "m_ndvi = chart.Image.series(**{'imageCollection': scaled_ndvi,\n",
        "                                   'region': Maharashtra,\n",
        "                                   'reducer': ee.Reducer.mean(),\n",
        "                                   'scale': 1000,\n",
        "                                   'xProperty': 'system:time_start'})\n",
        "m_ndvi.renderWidget(width='50%')"
      ],
      "execution_count": 133,
      "outputs": [
        {
          "output_type": "display_data",
          "data": {
            "application/vnd.jupyter.widget-view+json": {
              "model_id": "f5efef84b9fc45e288ef30a16649a72d",
              "version_minor": 0,
              "version_major": 2
            },
            "text/plain": [
              "HTML(value='<embed src=data:image/svg+xml;charset=utf-8;base64,PD94bWwgdmVyc2lvbj0nMS4wJyBlbmNvZGluZz0ndXRmLTg…"
            ]
          },
          "metadata": {
            "application/vnd.jupyter.widget-view+json": {
              "colab": {
                "custom_widget_manager": {
                  "url": "https://ssl.gstatic.com/colaboratory-static/widgets/colab-cdn-widget-manager/e680a8b83b2ea152/manager.min.js"
                }
              }
            }
          }
        }
      ]
    },
    {
      "cell_type": "code",
      "metadata": {
        "colab": {
          "base_uri": "https://localhost:8080/",
          "height": 317
        },
        "id": "TtcmJ6DpDBTp",
        "outputId": "4854fc87-ee18-446c-da90-0f6460407889"
      },
      "source": [
        "fig, ax = plot.subplots(figsize=(7, 3), tight=True)\n",
        "ax.plot(m_ndvi.dataframe.index, m_ndvi.dataframe['NDVI'],\n",
        "        color='forest green', marker='o')\n",
        "plot.show()"
      ],
      "execution_count": 134,
      "outputs": [
        {
          "output_type": "display_data",
          "data": {
            "image/png": "[encoded data removed]",
            "text/plain": [
              "Figure(nrows=1, ncols=1, figwidth=7.0, figheight=3.0)"
            ]
          },
          "metadata": {
            "image/png": {
              "width": 700,
              "height": 300
            }
          }
        }
      ]
    },
    {
      "cell_type": "code",
      "metadata": {
        "id": "ilCxLJqUI4os"
      },
      "source": [
        "m_evi = chart.Image.series(**{'imageCollection': scaled_evi,\n",
        "                                   'region': Maharashtra,\n",
        "                                   'reducer': ee.Reducer.mean(),\n",
        "                                   'scale': 1000,\n",
        "                                   'xProperty': 'system:time_start'})"
      ],
      "execution_count": 135,
      "outputs": []
    },
    {
      "cell_type": "code",
      "metadata": {
        "id": "1mkhm7FFIQP7"
      },
      "source": [
        "# monthly averaging\n",
        "m_evi_monthly = m_evi.dataframe.groupby(pd.Grouper(freq=\"M\")).mean()\n",
        "m_ndvi_monthly = m_ndvi.dataframe.groupby(pd.Grouper(freq=\"M\")).mean()"
      ],
      "execution_count": 136,
      "outputs": []
    },
    {
      "cell_type": "code",
      "metadata": {
        "colab": {
          "base_uri": "https://localhost:8080/",
          "height": 417
        },
        "id": "5bphMynWIfAK",
        "outputId": "0e378823-2e21-40e8-a115-2ec79588aaa5"
      },
      "source": [
        "# time index\n",
        "time = m_evi_monthly.index\n",
        "# plot\n",
        "fig, ax1 = plt.subplots(figsize=(10, 4))\n",
        "ax2 = ax1.twinx()\n",
        "# EVI\n",
        "ax1.plot(time, m_evi_monthly, label='EVI',\n",
        "         color='brown', marker='+')\n",
        "# NDVI\n",
        "ax2.plot(time, m_ndvi_monthly, label='NDVI',\n",
        "         color='forest green', marker='o')\n",
        "ax1.set_xlabel('Time')\n",
        "ax1.set_ylabel('EVI')\n",
        "ax2.set_ylabel('NDVI')\n",
        "ax1.set_yticks(np.arange(0.0, 1.1, 0.1))\n",
        "ax2.set_yticks(np.arange(0.0, 1.1, 0.1))\n",
        "plt.legend()\n",
        "plt.tight_layout()\n",
        "plt.show()"
      ],
      "execution_count": 137,
      "outputs": [
        {
          "output_type": "display_data",
          "data": {
            "image/png": "[encoded data removed]",
            "text/plain": [
              "<Figure size 1000x400 with 2 Axes>"
            ]
          },
          "metadata": {
            "image/png": {
              "width": 1000,
              "height": 400
            }
          }
        }
      ]
    }
  ]
}